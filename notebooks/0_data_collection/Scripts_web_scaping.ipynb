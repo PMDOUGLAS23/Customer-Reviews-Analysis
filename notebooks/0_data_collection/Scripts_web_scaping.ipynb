{
 "cells": [
  {
   "cell_type": "code",
   "execution_count": null,
   "id": "7a8eabcd",
   "metadata": {},
   "outputs": [],
   "source": [
    "### Script Python a completer en fonction des besoins du scraping\n",
    "\n",
    "import requests\n",
    "from bs4 import BeautifulSoup\n",
    "\n",
    "# URL de la page à scraper\n",
    "url = 'https://www.laredoute.fr/'\n",
    "\n",
    "# Effectuer une requête GET pour obtenir le contenu de la page\n",
    "response = requests.get(url)\n",
    "\n",
    "# Vérifier que la requête a réussi\n",
    "if response.status_code == 200:\n",
    "    # Utiliser BeautifulSoup pour analyser le contenu\n",
    "    soup = BeautifulSoup(response.content, 'html.parser')\n",
    "    \n",
    "else:\n",
    "    print(\"Erreur lors de la récupération de la page.\")\n",
    "    \n",
    "# Extraction des avis\n",
    "avis_elements = soup.find_all('div', class_='ts-review-card')\n",
    "\n",
    "avis_list = []\n",
    "for avis in avis_elements:\n",
    "    date = avis.find('span', class_='ts-date').text.strip()\n",
    "    commentaire = avis.find('div', class_='ts-review-comment').text.strip()\n",
    "    avis_list.append({\n",
    "        'date': date,\n",
    "        'commentaire': commentaire\n",
    "    })\n",
    "\n",
    "print(avis_list)\n"
   ]
  },
  {
   "cell_type": "code",
   "execution_count": null,
   "id": "6f82dbb1",
   "metadata": {},
   "outputs": [],
   "source": [
    "### Script Json a completer en fonction des besoins du scraping\n",
    "\n",
    "import json\n",
    "\n",
    "# Exemple de chaîne JSON\n",
    "json_string = '{\"nom\": \"Dupont\", \"prenom\": \"Jean\", \"age\": 30}'\n",
    "\n",
    "# Convertir la chaîne JSON en dictionnaire Python\n",
    "data = json.loads(json_string)\n",
    "\n",
    "# Accéder aux valeurs dans le dictionnaire\n",
    "print(data['nom'])  # Affiche : Dupont\n",
    "print(data['prenom'])  # Affiche : Jean\n",
    "print(data['age'])  # Affiche : 30\n",
    "\n",
    "# Si vous avez un fichier JSON, vous pouvez le lire comme ceci :\n",
    "with open('mon_fichier.json', 'r') as file:\n",
    "    data = json.load(file)\n",
    "    print(data)\n",
    "\n",
    "\n",
    "\n"
   ]
  }
 ],
 "metadata": {
  "kernelspec": {
   "display_name": "Python 3 (ipykernel)",
   "language": "python",
   "name": "python3"
  },
  "language_info": {
   "codemirror_mode": {
    "name": "ipython",
    "version": 3
   },
   "file_extension": ".py",
   "mimetype": "text/x-python",
   "name": "python",
   "nbconvert_exporter": "python",
   "pygments_lexer": "ipython3",
   "version": "3.11.5"
  }
 },
 "nbformat": 4,
 "nbformat_minor": 5
}
