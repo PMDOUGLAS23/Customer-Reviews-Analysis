{
 "cells": [
  {
   "cell_type": "markdown",
   "metadata": {},
   "source": [
    "# Scraping data from Trusted Shops"
   ]
  },
  {
   "cell_type": "markdown",
   "metadata": {},
   "source": [
    "## 1. Packages required"
   ]
  },
  {
   "cell_type": "code",
   "execution_count": 19,
   "metadata": {},
   "outputs": [],
   "source": [
    "# python version used : python 3.11.5\n",
    "# !python3 --version"
   ]
  },
  {
   "cell_type": "code",
   "execution_count": 1,
   "metadata": {},
   "outputs": [],
   "source": [
    "# Import required packages\n",
    "import pandas as pd\n",
    "import numpy as np\n",
    "from bs4 import BeautifulSoup\n",
    "import requests\n",
    "import json\n",
    "import ast"
   ]
  },
  {
   "cell_type": "markdown",
   "metadata": {},
   "source": [
    "## 2. Function to collect reviews raw data for a given supplier"
   ]
  },
  {
   "cell_type": "code",
   "execution_count": 2,
   "metadata": {},
   "outputs": [],
   "source": [
    "def get_reviews(url, n_pages, output_file):\n",
    "    \"\"\" Collecte les avis listés dans les n pages de résultats de trustedShop à l'adresse \"url\"\n",
    "        et sauvegarde les données dans un fichier output_file :\"file_name.csv\"\n",
    "    \"\"\"\n",
    "    data = pd.DataFrame({})\n",
    "    for i in range(1, n_pages+1):\n",
    "\n",
    "        url1 = url+\"?page={}\".format(i)\n",
    "        req = requests.get(url1)\n",
    "        soup = BeautifulSoup(req.content,\"html\")\n",
    "        \n",
    "        # les données ciblés sont dansle premier script dans body\"\n",
    "        raw0 = json.loads(soup.body.script.contents[0])\n",
    "        reviews0 = raw0['props']['pageProps']['reviews']['reviews']\n",
    "        \n",
    "        # les données sont mis dans un pandas DataFrame\n",
    "        data = pd.concat([data, pd.DataFrame(reviews0)])\n",
    "\n",
    "        # pour suivre l'exécution du programme\n",
    "        #print(\"Page\", i)\n",
    "\n",
    "    # change the index\n",
    "    data = data.set_index(\"id\")\n",
    "    \n",
    "    # Sauvegarde des données collectée dans un fchier csv\n",
    "    data.to_csv(output_file, sep = \";\")\n"
   ]
  },
  {
   "cell_type": "markdown",
   "metadata": {},
   "source": [
    "### 2.1. Test get_reviews(...)"
   ]
  },
  {
   "cell_type": "code",
   "execution_count": null,
   "metadata": {},
   "outputs": [],
   "source": [
    "url = \"https://www.trustedshops.fr/evaluation/info_XA3F5BBDE34B5AD3FB64015EB823AC7C6.html\"\n",
    "n_pages = 1\n",
    "file = \"test0.csv\"\n",
    "get_reviews(url, n_pages, file)\n",
    "df = pd.read_csv(file, sep = \";\", index_col = 0)\n",
    "print(df.info())\n",
    "df.head(1)\n"
   ]
  },
  {
   "cell_type": "markdown",
   "metadata": {},
   "source": [
    "## 3. Function to clean the reviews data collected"
   ]
  },
  {
   "cell_type": "code",
   "execution_count": 3,
   "metadata": {},
   "outputs": [],
   "source": [
    "def clean_reviews(input_file, output_file):\n",
    "    \"\"\" \n",
    "        This function cleans raw reviews data scraped from trustedShop for a specific supplier.\n",
    "        input : csv file of raw data : \" xx...xx.csv\"\n",
    "        output : a cleaned data csv file : \"yy..yy.csv\"\n",
    "    \"\"\"\n",
    "    # Load the row data to clean\n",
    "    df = pd.read_csv(input_file, sep = \";\")\n",
    "\n",
    "    # change the index\n",
    "    df = df.set_index(\"id\")\n",
    "    \n",
    "    # remove irrelevant columns\n",
    "    df = df.drop([\"provider\", \"inModeration\", \"verificationStatus\"], axis = 1)\n",
    "    \n",
    "    #  convert date data to datetime format\n",
    "    df[\"createdAt\"] = pd.to_datetime(df[\"createdAt\"], unit = \"ms\").dt.date\n",
    "\n",
    "    # extract the date of transaction and convert to datetime format\n",
    "    df[\"transaction\"] = df[\"transaction\"].apply(lambda x: '' if len(x)==2 else int(x.split(\":\")[1][:-1]))\n",
    "    df[\"transaction\"] = pd.to_datetime(df[\"transaction\"], unit = \"ms\").dt.date\n",
    "\n",
    "    # extract customer city when available\n",
    "    df[\"customerCity\"] = df[\"customer\"].apply(lambda x: '' if len(ast.literal_eval(x))<= 3 else ast.literal_eval(x)['city'])\n",
    "\n",
    "    # extract the exchanges between the supplier and the customer\n",
    "    df[\"reply\"] = df[\"reply\"].apply(lambda x: ast.literal_eval(x))\n",
    "    df[\"SupplierReply\"] = df[\"reply\"].apply(lambda x: \"\" if len(x) == 0 else x[\"comment\"])\n",
    "\n",
    "    # Extract the date of supplier response and convert to date time format\n",
    "    df[\"SupplierReplyDate\"] = df[\"reply\"].apply(lambda x: \"\" if len(x) <= 1 else int(x[\"createdAt\"]))\n",
    "    df[\"SupplierReplyDate\"] = pd.to_datetime(df[\"SupplierReplyDate\"], unit = \"ms\").dt.date\n",
    "\n",
    "    # Remove remaining irrelevant columns\n",
    "    df = df.drop([\"customer\", \"reply\"], axis = 1)\n",
    "    \n",
    "    # Save cleaned data into a csv file\n",
    "    df.to_csv(output_file, sep = \";\")"
   ]
  },
  {
   "cell_type": "markdown",
   "metadata": {},
   "source": [
    "## 4. Function that collect reviews data into a row_data csv file, clean them and save into a clean_data csv file"
   ]
  },
  {
   "cell_type": "code",
   "execution_count": 9,
   "metadata": {},
   "outputs": [],
   "source": [
    "def get_and_clean_reviews(url, n_pages, raw_data, cleaned_data):\n",
    "    \"\"\"\n",
    "        The function scrapes data from trustedShop given url of search results into a csv file raw_data,\n",
    "        then clean the raw data and save them into another csv file cleanded_data\n",
    "    \"\"\"\n",
    "    get_reviews(url, n_pages, raw_data)\n",
    "    clean_reviews(raw_data, cleaned_data)"
   ]
  },
  {
   "cell_type": "markdown",
   "metadata": {},
   "source": [
    "### 4.1 test get_and_clean_reviews(url, n_pages, raw_data, cleaned_data)"
   ]
  },
  {
   "cell_type": "code",
   "execution_count": 12,
   "metadata": {},
   "outputs": [
    {
     "name": "stdout",
     "output_type": "stream",
     "text": [
      "<class 'pandas.core.frame.DataFrame'>\n",
      "Index: 20 entries, rev-cc907a30-4fb0-4e55-a4a1-307b89eb0d99 to rev-c6f732ca-6c82-4ee0-a508-3af3ccc1db4b\n",
      "Data columns (total 8 columns):\n",
      " #   Column             Non-Null Count  Dtype  \n",
      "---  ------             --------------  -----  \n",
      " 0   rating             20 non-null     int64  \n",
      " 1   title              20 non-null     object \n",
      " 2   comment            20 non-null     object \n",
      " 3   createdAt          20 non-null     object \n",
      " 4   transaction        20 non-null     object \n",
      " 5   customerCity       3 non-null      object \n",
      " 6   SupplierReply      0 non-null      float64\n",
      " 7   SupplierReplyDate  0 non-null      float64\n",
      "dtypes: float64(2), int64(1), object(5)\n",
      "memory usage: 1.4+ KB\n",
      "None\n"
     ]
    },
    {
     "data": {
      "text/html": [
       "<div>\n",
       "<style scoped>\n",
       "    .dataframe tbody tr th:only-of-type {\n",
       "        vertical-align: middle;\n",
       "    }\n",
       "\n",
       "    .dataframe tbody tr th {\n",
       "        vertical-align: top;\n",
       "    }\n",
       "\n",
       "    .dataframe thead th {\n",
       "        text-align: right;\n",
       "    }\n",
       "</style>\n",
       "<table border=\"1\" class=\"dataframe\">\n",
       "  <thead>\n",
       "    <tr style=\"text-align: right;\">\n",
       "      <th></th>\n",
       "      <th>rating</th>\n",
       "      <th>title</th>\n",
       "      <th>comment</th>\n",
       "      <th>createdAt</th>\n",
       "      <th>transaction</th>\n",
       "      <th>customerCity</th>\n",
       "      <th>SupplierReply</th>\n",
       "      <th>SupplierReplyDate</th>\n",
       "    </tr>\n",
       "    <tr>\n",
       "      <th>id</th>\n",
       "      <th></th>\n",
       "      <th></th>\n",
       "      <th></th>\n",
       "      <th></th>\n",
       "      <th></th>\n",
       "      <th></th>\n",
       "      <th></th>\n",
       "      <th></th>\n",
       "    </tr>\n",
       "  </thead>\n",
       "  <tbody>\n",
       "    <tr>\n",
       "      <th>rev-cc907a30-4fb0-4e55-a4a1-307b89eb0d99</th>\n",
       "      <td>4</td>\n",
       "      <td>Facilte</td>\n",
       "      <td>Facilte, sollicitations dosées...qualité..on p...</td>\n",
       "      <td>2023-10-05</td>\n",
       "      <td>2023-09-23</td>\n",
       "      <td>NaN</td>\n",
       "      <td>NaN</td>\n",
       "      <td>NaN</td>\n",
       "    </tr>\n",
       "    <tr>\n",
       "      <th>rev-b54467c4-4769-42e3-a74a-c72c000059f9</th>\n",
       "      <td>4</td>\n",
       "      <td>Jolie table mais plus pour 6 que pour 8</td>\n",
       "      <td>Livraison impeccable avec possibilité de prend...</td>\n",
       "      <td>2023-10-02</td>\n",
       "      <td>2023-09-11</td>\n",
       "      <td>NaN</td>\n",
       "      <td>NaN</td>\n",
       "      <td>NaN</td>\n",
       "    </tr>\n",
       "  </tbody>\n",
       "</table>\n",
       "</div>"
      ],
      "text/plain": [
       "                                          rating  ... SupplierReplyDate\n",
       "id                                                ...                  \n",
       "rev-cc907a30-4fb0-4e55-a4a1-307b89eb0d99       4  ...               NaN\n",
       "rev-b54467c4-4769-42e3-a74a-c72c000059f9       4  ...               NaN\n",
       "\n",
       "[2 rows x 8 columns]"
      ]
     },
     "execution_count": 12,
     "metadata": {},
     "output_type": "execute_result"
    }
   ],
   "source": [
    "# Test\n",
    "url = \"https://www.trustedshops.fr/evaluation/info_XA3F5BBDE34B5AD3FB64015EB823AC7C6.html\"\n",
    "n_pages = 1\n",
    "raw_data = \"test0_raw.csv\"\n",
    "cleaned_data = \"test0_cleaned.csv\"\n",
    "get_and_clean_reviews(url, n_pages, raw_data, cleaned_data)\n",
    "df = pd.read_csv(cleaned_data, sep = \";\", index_col = 0)\n",
    "print(df.info())\n",
    "df.head(2)"
   ]
  },
  {
   "cell_type": "markdown",
   "metadata": {},
   "source": [
    "## 5. Collect and clean reviews data"
   ]
  },
  {
   "cell_type": "code",
   "execution_count": 14,
   "metadata": {},
   "outputs": [
    {
     "name": "stdout",
     "output_type": "stream",
     "text": [
      "<class 'pandas.core.frame.DataFrame'>\n",
      "Index: 1084 entries, rev-a2bf124b-dfd2-4ea9-ad92-75a7ace2ed61 to rev-2efc7fd6-311c-4f90-8b4d-9748aec7fc09\n",
      "Data columns (total 10 columns):\n",
      " #   Column             Non-Null Count  Dtype  \n",
      "---  ------             --------------  -----  \n",
      " 0   rating             1084 non-null   int64  \n",
      " 1   title              734 non-null    object \n",
      " 2   comment            727 non-null    object \n",
      " 3   createdAt          1084 non-null   object \n",
      " 4   transaction        919 non-null    object \n",
      " 5   totalLikeCount     15 non-null     float64\n",
      " 6   updatedAt          2 non-null      float64\n",
      " 7   customerCity       79 non-null     object \n",
      " 8   SupplierReply      91 non-null     object \n",
      " 9   SupplierReplyDate  91 non-null     object \n",
      "dtypes: float64(2), int64(1), object(7)\n",
      "memory usage: 93.2+ KB\n",
      "None\n"
     ]
    },
    {
     "data": {
      "text/html": [
       "<div>\n",
       "<style scoped>\n",
       "    .dataframe tbody tr th:only-of-type {\n",
       "        vertical-align: middle;\n",
       "    }\n",
       "\n",
       "    .dataframe tbody tr th {\n",
       "        vertical-align: top;\n",
       "    }\n",
       "\n",
       "    .dataframe thead th {\n",
       "        text-align: right;\n",
       "    }\n",
       "</style>\n",
       "<table border=\"1\" class=\"dataframe\">\n",
       "  <thead>\n",
       "    <tr style=\"text-align: right;\">\n",
       "      <th></th>\n",
       "      <th>rating</th>\n",
       "      <th>title</th>\n",
       "      <th>comment</th>\n",
       "      <th>createdAt</th>\n",
       "      <th>transaction</th>\n",
       "      <th>totalLikeCount</th>\n",
       "      <th>updatedAt</th>\n",
       "      <th>customerCity</th>\n",
       "      <th>SupplierReply</th>\n",
       "      <th>SupplierReplyDate</th>\n",
       "    </tr>\n",
       "    <tr>\n",
       "      <th>id</th>\n",
       "      <th></th>\n",
       "      <th></th>\n",
       "      <th></th>\n",
       "      <th></th>\n",
       "      <th></th>\n",
       "      <th></th>\n",
       "      <th></th>\n",
       "      <th></th>\n",
       "      <th></th>\n",
       "      <th></th>\n",
       "    </tr>\n",
       "  </thead>\n",
       "  <tbody>\n",
       "    <tr>\n",
       "      <th>rev-a2bf124b-dfd2-4ea9-ad92-75a7ace2ed61</th>\n",
       "      <td>5</td>\n",
       "      <td>Objet Conforme et prix imbattable</td>\n",
       "      <td>Franchement, vu le prix, j'ai pensé à une arna...</td>\n",
       "      <td>2023-10-06</td>\n",
       "      <td>NaN</td>\n",
       "      <td>NaN</td>\n",
       "      <td>NaN</td>\n",
       "      <td>NaN</td>\n",
       "      <td>NaN</td>\n",
       "      <td>NaN</td>\n",
       "    </tr>\n",
       "    <tr>\n",
       "      <th>rev-3e01aed1-74ca-4d1f-91c6-7b36c904d68a</th>\n",
       "      <td>4</td>\n",
       "      <td>Livraison très rapide de l'article…</td>\n",
       "      <td>Livraison très rapide de l'article commandé !\\...</td>\n",
       "      <td>2023-09-28</td>\n",
       "      <td>NaN</td>\n",
       "      <td>NaN</td>\n",
       "      <td>NaN</td>\n",
       "      <td>NUITS SAINT GEORGES</td>\n",
       "      <td>NaN</td>\n",
       "      <td>NaN</td>\n",
       "    </tr>\n",
       "    <tr>\n",
       "      <th>rev-ff51282e-0601-47e4-8384-c2d598b2fae6</th>\n",
       "      <td>5</td>\n",
       "      <td>Valise cabine Samsonite silver</td>\n",
       "      <td>Nous avons reçu notre valise dans un délai inf...</td>\n",
       "      <td>2023-09-27</td>\n",
       "      <td>NaN</td>\n",
       "      <td>NaN</td>\n",
       "      <td>NaN</td>\n",
       "      <td>ROYAN</td>\n",
       "      <td>NaN</td>\n",
       "      <td>NaN</td>\n",
       "    </tr>\n",
       "    <tr>\n",
       "      <th>rev-98884d0e-8be6-4080-a3d2-2c10b7ea8db1</th>\n",
       "      <td>5</td>\n",
       "      <td>Prise en compte quasi immédiate de la…</td>\n",
       "      <td>Prise en compte quasi immédiate de la non livr...</td>\n",
       "      <td>2023-10-09</td>\n",
       "      <td>NaN</td>\n",
       "      <td>NaN</td>\n",
       "      <td>NaN</td>\n",
       "      <td>NaN</td>\n",
       "      <td>NaN</td>\n",
       "      <td>NaN</td>\n",
       "    </tr>\n",
       "    <tr>\n",
       "      <th>rev-096046f4-f70e-4828-9281-6edb59b64ba1</th>\n",
       "      <td>5</td>\n",
       "      <td>Tout est nickel</td>\n",
       "      <td>Tout est nickel \\nJ’ai fait mon choix sur le s...</td>\n",
       "      <td>2023-10-10</td>\n",
       "      <td>NaN</td>\n",
       "      <td>NaN</td>\n",
       "      <td>NaN</td>\n",
       "      <td>NaN</td>\n",
       "      <td>NaN</td>\n",
       "      <td>NaN</td>\n",
       "    </tr>\n",
       "  </tbody>\n",
       "</table>\n",
       "</div>"
      ],
      "text/plain": [
       "                                          rating  ... SupplierReplyDate\n",
       "id                                                ...                  \n",
       "rev-a2bf124b-dfd2-4ea9-ad92-75a7ace2ed61       5  ...               NaN\n",
       "rev-3e01aed1-74ca-4d1f-91c6-7b36c904d68a       4  ...               NaN\n",
       "rev-ff51282e-0601-47e4-8384-c2d598b2fae6       5  ...               NaN\n",
       "rev-98884d0e-8be6-4080-a3d2-2c10b7ea8db1       5  ...               NaN\n",
       "rev-096046f4-f70e-4828-9281-6edb59b64ba1       5  ...               NaN\n",
       "\n",
       "[5 rows x 10 columns]"
      ]
     },
     "execution_count": 14,
     "metadata": {},
     "output_type": "execute_result"
    }
   ],
   "source": [
    "# collect reviews data of \"RAYON D'OR BAGAGES\"\n",
    "url = \"https://www.trustedshops.fr/evaluation/info_X5877FAE851EE366564CE1EC1604DF2B0.html\"\n",
    "n_pages = 55\n",
    "raw_data = \"rayonOrBags_raw.csv\"\n",
    "cleaned_data = \"rayonOrBags_clean.csv\"\n",
    "get_and_clean_reviews(url, n_pages, raw_data, cleaned_data)\n",
    "df1 = pd.read_csv(cleaned_data, sep = \";\", index_col = 0)\n",
    "print(df1.info())\n",
    "df1.head()"
   ]
  },
  {
   "cell_type": "code",
   "execution_count": null,
   "metadata": {},
   "outputs": [],
   "source": [
    "# collect reviews data of \"LA REDOUTE\"\n",
    "url = \"https://www.trustedshops.fr/evaluation/info_XA3F5BBDE34B5AD3FB64015EB823AC7C6.html\"\n",
    "n_pages = 1738\n",
    "raw_data = \"redoute_raw.csv\"\n",
    "cleaned_data = \"redoute_clean.csv\"\n",
    "#get_and_clean_reviews(url, n_pages, raw_data, cleaned_data)\n",
    "df2 = pd.read_csv(cleaned_data, sep = \";\", index_col = 0)\n",
    "print(df2.info())\n",
    "df2.head()"
   ]
  },
  {
   "cell_type": "code",
   "execution_count": null,
   "metadata": {},
   "outputs": [],
   "source": [
    "# collect reviews data of MECATECHNIC FR\n",
    "url = \"https://www.trustedshops.fr/evaluation/info_X7CF89FDC3EBA9A38117A700B8AA37DCB.html\"\n",
    "n_pages = 430\n",
    "raw_data = \"mecatech_raw.csv\"\n",
    "cleaned_data = \"mecatech_clean.csv\"\n",
    "get_and_clean_reviews(url, n_pages, raw_data, cleaned_data)\n",
    "df3 = pd.read_csv(cleaned_data, sep = \";\", index_col = 0)\n",
    "print(df3.info())\n",
    "df3.head()"
   ]
  }
 ],
 "metadata": {
  "kernelspec": {
   "display_name": "Python 3 (Spyder)",
   "language": "python3",
   "name": "python3"
  },
  "language_info": {
   "codemirror_mode": {
    "name": "ipython",
    "version": 3
   },
   "file_extension": ".py",
   "mimetype": "text/x-python",
   "name": "python",
   "nbconvert_exporter": "python",
   "pygments_lexer": "ipython3",
   "version": "3.11.5"
  }
 },
 "nbformat": 4,
 "nbformat_minor": 4
}
