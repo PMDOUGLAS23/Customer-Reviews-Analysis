{
 "cells": [
  {
   "cell_type": "markdown",
   "id": "d93fde57-ab2d-4648-aadd-ac7ed751722f",
   "metadata": {
    "editable": true,
    "slideshow": {
     "slide_type": ""
    },
    "tags": []
   },
   "source": [
    "# Sentiment Analysis with Gate Recurrent Unit Network"
   ]
  },
  {
   "cell_type": "markdown",
   "id": "b34e8e1d",
   "metadata": {},
   "source": [
    "GRU stands for Gated Recurrent Unit. It's a type of neural network architecture that is particularly well-suited for processing sequential data. Some of the main properties of GRUs include:\n",
    "\n",
    "1. Gating mechanism: GRUs use a gating mechanism to control the flow of information between time steps, which helps to prevent the vanishing or exploding gradient problem.\n",
    "2. Recurrent connections: GRUs have recurrent connections that allow the network to capture long-term dependencies in the data.\n",
    "3. Simple and efficient: GRUs are relatively simple to implement and train compared to other RNN architectures, making them a popular choice for many applications."
   ]
  },
  {
   "cell_type": "markdown",
   "id": "11047424-5dfa-4747-aac7-75fb4d893bd4",
   "metadata": {},
   "source": [
    "##  Objective : \n",
    "- Predict the rating positive or negative from the customer's comment with a Recurrent Neural Network model"
   ]
  },
  {
   "cell_type": "markdown",
   "id": "0c9aed51-0751-4597-b26e-f2580cb99fa3",
   "metadata": {},
   "source": [
    "##  Required packages"
   ]
  },
  {
   "cell_type": "code",
   "execution_count": 26,
   "id": "dd29d228-8f43-4853-9ed0-ecc657646f8f",
   "metadata": {
    "editable": true,
    "slideshow": {
     "slide_type": ""
    },
    "tags": []
   },
   "outputs": [],
   "source": [
    "import warnings\n",
    "warnings.filterwarnings('ignore')\n",
    "\n",
    "import pandas as pd\n",
    "import numpy as np\n",
    "import matplotlib.pyplot as plt\n",
    "import plotly.express as px\n",
    "import seaborn as sns\n",
    "%matplotlib inline\n",
    "\n",
    "\n",
    "from sklearn.model_selection import train_test_split\n",
    "from imblearn.under_sampling import RandomUnderSampler\n",
    "from sklearn import metrics\n",
    "from time import time\n",
    "\n",
    "from sklearn.utils import class_weight\n",
    "from tensorflow.keras.callbacks import EarlyStopping\n",
    "\n",
    "from tensorflow.keras.models import Sequential\n",
    "from tensorflow.keras.layers import Dense, GRU, Embedding,Dropout\n",
    "from tensorflow.keras.optimizers import Adam\n",
    "from tensorflow.keras.preprocessing.text import Tokenizer\n",
    "from tensorflow.keras.preprocessing.sequence import pad_sequences\n",
    "\n",
    "# import customized function to plot charts for performance comparison\n",
    "from plot_metrics import plot_radar_mult, plot_radar_metrics, barplot_metric_mult, \\\n",
    "                        lineplot_metrics, stack_barplot, \\\n",
    "                        barplot_model_vs_metrics_group, barplot_models_group_vs_metric\n",
    "\n"
   ]
  },
  {
   "cell_type": "markdown",
   "id": "f79de7b6-1f39-4641-9263-13c090183787",
   "metadata": {},
   "source": [
    "## Load data"
   ]
  },
  {
   "cell_type": "code",
   "execution_count": 2,
   "id": "31a9cc2d-eb63-49ae-b342-82f7298639b1",
   "metadata": {},
   "outputs": [
    {
     "name": "stdout",
     "output_type": "stream",
     "text": [
      "<class 'pandas.core.frame.DataFrame'>\n",
      "RangeIndex: 23336 entries, 0 to 23335\n",
      "Data columns (total 7 columns):\n",
      " #   Column           Non-Null Count  Dtype \n",
      "---  ------           --------------  ----- \n",
      " 0   Unnamed: 0       23336 non-null  int64 \n",
      " 1   comment          23336 non-null  object\n",
      " 2   comment_cleaned  23336 non-null  object\n",
      " 3   comment_stem     23336 non-null  object\n",
      " 4   rating           23336 non-null  int64 \n",
      " 5   sentiment_r      23336 non-null  int64 \n",
      " 6   sentiment_rmc    23336 non-null  int64 \n",
      "dtypes: int64(4), object(3)\n",
      "memory usage: 1.2+ MB\n"
     ]
    }
   ],
   "source": [
    "df = pd.read_csv(\"data_for_rnn.csv\")\n",
    "df.info()"
   ]
  },
  {
   "cell_type": "code",
   "execution_count": 3,
   "id": "5407f7c1-99c8-4d97-b386-5850f1448f11",
   "metadata": {},
   "outputs": [],
   "source": [
    "X = df[\"comment_cleaned\"]\n",
    "y = df[\"sentiment_r\"]\n",
    "ym = df[\"sentiment_rmc\"]  # target for multiclass calssification pos rating, neutral rating, neg rating"
   ]
  },
  {
   "cell_type": "code",
   "execution_count": 4,
   "id": "4e347e31",
   "metadata": {},
   "outputs": [
    {
     "name": "stdout",
     "output_type": "stream",
     "text": [
      "total number of distinct words in all comment_cleaned: 4122\n"
     ]
    }
   ],
   "source": [
    "# Number of distinct words in all comment_cleaned \n",
    "txt = \" \".join(X).split()\n",
    "print(\"total number of distinct words in all comment_cleaned:\", len(set(txt)))\n"
   ]
  },
  {
   "cell_type": "markdown",
   "id": "6db67751",
   "metadata": {},
   "source": [
    "## Tokenization and numerisation"
   ]
  },
  {
   "cell_type": "code",
   "execution_count": 5,
   "id": "d87ca748-7163-4219-8136-a5aab81fbc92",
   "metadata": {},
   "outputs": [],
   "source": [
    "num_words = 10000\n",
    "\n",
    "tokenizer = Tokenizer(num_words=num_words)\n",
    "# The default values of \"filters\" are '!\"#$%&()*+,-./:;<=>?@[\\\\]^_`{|}~\\t\\n'. \n",
    "\n",
    "# Updates internal vocabulary based on a list of texts.\n",
    "tokenizer.fit_on_texts(X)"
   ]
  },
  {
   "cell_type": "markdown",
   "id": "31fcc72a-6ad9-45fb-892c-7567c9838646",
   "metadata": {},
   "source": [
    "###  Create word Index"
   ]
  },
  {
   "cell_type": "code",
   "execution_count": 6,
   "id": "ec799047-5307-48dc-8ac4-0bb52ff0a0e5",
   "metadata": {
    "collapsed": true,
    "jupyter": {
     "outputs_hidden": true,
     "source_hidden": true
    }
   },
   "outputs": [
    {
     "data": {
      "text/plain": [
       "{'livraison': 1,\n",
       " 'rapide': 2,\n",
       " 'très': 3,\n",
       " 'rapidité': 4,\n",
       " 'commande': 5,\n",
       " 'qualité': 6,\n",
       " 'bien': 7,\n",
       " 'produit': 8,\n",
       " 'produits': 9,\n",
       " 'articles': 10,\n",
       " 'colis': 11,\n",
       " 'conforme': 12,\n",
       " 'prix': 13,\n",
       " 'plus': 14,\n",
       " 'redoute': 15,\n",
       " 'choix': 16,\n",
       " 'article': 17,\n",
       " 'parfait': 18,\n",
       " 'site': 19,\n",
       " 'bonne': 20,\n",
       " 'envoi': 21,\n",
       " 'bon': 22,\n",
       " 'relais': 23,\n",
       " 'merci': 24,\n",
       " 'satisfaite': 25,\n",
       " 'toujours': 26,\n",
       " 'facile': 27,\n",
       " 'reçu': 28,\n",
       " 'retour': 29,\n",
       " 'rien': 30,\n",
       " 'délai': 31,\n",
       " 'achat': 32,\n",
       " 'service': 33,\n",
       " 'description': 34,\n",
       " 'délais': 35,\n",
       " 'commandé': 36,\n",
       " 'taille': 37,\n",
       " 'rapidement': 38,\n",
       " 'facilité': 39,\n",
       " 'point': 40,\n",
       " 'conformes': 41,\n",
       " 'sans': 42,\n",
       " 'temps': 43,\n",
       " 'expédition': 44,\n",
       " 'beaucoup': 45,\n",
       " 'top': 46,\n",
       " 'livré': 47,\n",
       " 'trop': 48,\n",
       " 'suivi': 49,\n",
       " 'rapport': 50,\n",
       " 'attentes': 51,\n",
       " 'super': 52,\n",
       " 'efficace': 53,\n",
       " 'problème': 54,\n",
       " 'couleur': 55,\n",
       " 'peu': 56,\n",
       " 'fois': 57,\n",
       " 'correspond': 58,\n",
       " 'depuis': 59,\n",
       " 'après': 60,\n",
       " 'déçue': 61,\n",
       " 'dommage': 62,\n",
       " 'réception': 63,\n",
       " 'commander': 64,\n",
       " 'photo': 65,\n",
       " 'simple': 66,\n",
       " 'recommande': 67,\n",
       " 'grand': 68,\n",
       " 'avant': 69,\n",
       " 'client': 70,\n",
       " 'achats': 71,\n",
       " 'commandes': 72,\n",
       " 'vêtements': 73,\n",
       " 'emballage': 74,\n",
       " 'jours': 75,\n",
       " 'arrivé': 76,\n",
       " 'date': 77,\n",
       " 'belle': 78,\n",
       " 'housse': 79,\n",
       " 'ça': 80,\n",
       " 'non': 81,\n",
       " 'contente': 82,\n",
       " 'jamais': 83,\n",
       " 'frais': 84,\n",
       " 'autre': 85,\n",
       " 'respecté': 86,\n",
       " 'attente': 87,\n",
       " 'quand': 88,\n",
       " 'contre': 89,\n",
       " 'couette': 90,\n",
       " 'tres': 91,\n",
       " 'ras': 92,\n",
       " 'photos': 93,\n",
       " 'ravie': 94,\n",
       " 'petit': 95,\n",
       " 'livrée': 96,\n",
       " 'retours': 97,\n",
       " 'livraisons': 98,\n",
       " 'vraiment': 99,\n",
       " 'tous': 100,\n",
       " 'bonjour': 101,\n",
       " 'efficacité': 102,\n",
       " 'commandés': 103,\n",
       " 'aime': 104,\n",
       " 'domicile': 105,\n",
       " 'aussi': 106,\n",
       " 'descriptif': 107,\n",
       " 'peut': 108,\n",
       " 'lit': 109,\n",
       " 'cliente': 110,\n",
       " 'passé': 111,\n",
       " 'trouve': 112,\n",
       " 'acheté': 113,\n",
       " 'remboursement': 114,\n",
       " 'surtout': 115,\n",
       " 'aucun': 116,\n",
       " 'apprécié': 117,\n",
       " 'prévu': 118,\n",
       " 'moins': 119,\n",
       " 'correspondant': 120,\n",
       " 'dire': 121,\n",
       " 'agréable': 122,\n",
       " 'livreur': 123,\n",
       " 'respect': 124,\n",
       " 'ultra': 125,\n",
       " 'parfaitement': 126,\n",
       " 'sérieux': 127,\n",
       " 'impeccable': 128,\n",
       " 'aimé': 129,\n",
       " 'tailles': 130,\n",
       " 'expérience': 131,\n",
       " 'prévue': 132,\n",
       " 'bravo': 133,\n",
       " 'vite': 134,\n",
       " 'mieux': 135,\n",
       " 'plusieurs': 136,\n",
       " 'parfaite': 137,\n",
       " 'correspondent': 138,\n",
       " 'pratique': 139,\n",
       " 'assez': 140,\n",
       " 'draps': 141,\n",
       " 'autres': 142,\n",
       " 'matelas': 143,\n",
       " 'arrivée': 144,\n",
       " 'trouver': 145,\n",
       " 'traitement': 146,\n",
       " 'beau': 147,\n",
       " 'lendemain': 148,\n",
       " 'marques': 149,\n",
       " 'ainsi': 150,\n",
       " 'meuble': 151,\n",
       " 'années': 152,\n",
       " 'internet': 153,\n",
       " 'encore': 154,\n",
       " 'trouvé': 155,\n",
       " 'paiement': 156,\n",
       " 'couleurs': 157,\n",
       " 'redire': 158,\n",
       " 'clair': 159,\n",
       " 'emballé': 160,\n",
       " 'linge': 161,\n",
       " 'heure': 162,\n",
       " 'satisfait': 163,\n",
       " 'va': 164,\n",
       " 'seul': 165,\n",
       " 'entre': 166,\n",
       " 'reçue': 167,\n",
       " 'juste': 168,\n",
       " 'retourner': 169,\n",
       " 'chaussures': 170,\n",
       " 'ans': 171,\n",
       " 'bons': 172,\n",
       " 'pu': 173,\n",
       " 'état': 174,\n",
       " 'rapides': 175,\n",
       " 'passer': 176,\n",
       " 'mail': 177,\n",
       " 'aucune': 178,\n",
       " 'demande': 179,\n",
       " 'renvoyer': 180,\n",
       " 'déçu': 181,\n",
       " 'simplicité': 182,\n",
       " 'lors': 183,\n",
       " 'catalogue': 184,\n",
       " 'recevoir': 185,\n",
       " 'avis': 186,\n",
       " 'maison': 187,\n",
       " 'recherche': 188,\n",
       " 'excellent': 189,\n",
       " 'marque': 190,\n",
       " 'disponibilité': 191,\n",
       " 'promotions': 192,\n",
       " 'ok': 193,\n",
       " 'voir': 194,\n",
       " 'compte': 195,\n",
       " 'souvent': 196,\n",
       " 'drap': 197,\n",
       " 'large': 198,\n",
       " 'rapidite': 199,\n",
       " 'livrés': 200,\n",
       " 'lieu': 201,\n",
       " 'respectés': 202,\n",
       " 'mal': 203,\n",
       " 'faut': 204,\n",
       " 'apprécie': 205,\n",
       " 'reçus': 206,\n",
       " 'tissu': 207,\n",
       " 'long': 208,\n",
       " 'où': 209,\n",
       " 'grande': 210,\n",
       " 'livreurs': 211,\n",
       " 'part': 212,\n",
       " 'déjà': 213,\n",
       " 'impossible': 214,\n",
       " 'surprise': 215,\n",
       " 'fidèle': 216,\n",
       " 'téléphone': 217,\n",
       " 'bémol': 218,\n",
       " 'robe': 219,\n",
       " 'pouvoir': 220,\n",
       " 'dû': 221,\n",
       " 'choisi': 222,\n",
       " 'joli': 223,\n",
       " 'information': 224,\n",
       " 'réactivité': 225,\n",
       " 'ligne': 226,\n",
       " 'première': 227,\n",
       " 'là': 228,\n",
       " 'envoie': 229,\n",
       " 'erreur': 230,\n",
       " 'navigation': 231,\n",
       " 'gratuite': 232,\n",
       " 'personne': 233,\n",
       " 'montage': 234,\n",
       " 'possibilité': 235,\n",
       " 'suite': 236,\n",
       " 'informations': 237,\n",
       " 'taies': 238,\n",
       " 'niveau': 239,\n",
       " 'port': 240,\n",
       " 'améliorer': 241,\n",
       " 'moment': 242,\n",
       " 'reste': 243,\n",
       " 'cas': 244,\n",
       " 'correct': 245,\n",
       " 'prise': 246,\n",
       " 'ensemble': 247,\n",
       " 'vu': 248,\n",
       " 'cordialement': 249,\n",
       " 'manque': 250,\n",
       " 'accueil': 251,\n",
       " 'dont': 252,\n",
       " 'utilisation': 253,\n",
       " 'toute': 254,\n",
       " 'attendais': 255,\n",
       " 'tapis': 256,\n",
       " 'cher': 257,\n",
       " 'voulais': 258,\n",
       " 'mauvaise': 259,\n",
       " 'réduction': 260,\n",
       " 'besoin': 261,\n",
       " 'adresse': 262,\n",
       " 'rideaux': 263,\n",
       " 'passée': 264,\n",
       " 'disponible': 265,\n",
       " 'payer': 266,\n",
       " 'celui': 267,\n",
       " 'bonnes': 268,\n",
       " 'ni': 269,\n",
       " 'habitude': 270,\n",
       " 'vente': 271,\n",
       " 'concernant': 272,\n",
       " 'services': 273,\n",
       " 'convient': 274,\n",
       " 'coton': 275,\n",
       " 'aller': 276,\n",
       " 'intéressant': 277,\n",
       " 'annoncé': 278,\n",
       " 'table': 279,\n",
       " 'certains': 280,\n",
       " 'malgré': 281,\n",
       " 'acheter': 282,\n",
       " 'jolie': 283,\n",
       " 'envoyé': 284,\n",
       " 'nouvelle': 285,\n",
       " 'facilement': 286,\n",
       " 'place': 287,\n",
       " 'poste': 288,\n",
       " 'malheureusement': 289,\n",
       " 'pris': 290,\n",
       " 'cet': 291,\n",
       " 'réductions': 292,\n",
       " 'dernière': 293,\n",
       " 'sinon': 294,\n",
       " 'récupérer': 295,\n",
       " 'beaux': 296,\n",
       " 'nouveau': 297,\n",
       " 'livrer': 298,\n",
       " 'sous': 299,\n",
       " 'faite': 300,\n",
       " 'dit': 301,\n",
       " 'promotion': 302,\n",
       " 'oreiller': 303,\n",
       " 'promo': 304,\n",
       " 'housses': 305,\n",
       " 'transporteur': 306,\n",
       " 'particulièrement': 307,\n",
       " 'coloris': 308,\n",
       " 'exactement': 309,\n",
       " 'chaque': 310,\n",
       " 'avance': 311,\n",
       " 'application': 312,\n",
       " 'échange': 313,\n",
       " 'vais': 314,\n",
       " 'attends': 315,\n",
       " 'meubles': 316,\n",
       " 'mois': 317,\n",
       " 'stock': 318,\n",
       " 'soldes': 319,\n",
       " 'qualite': 320,\n",
       " 'matière': 321,\n",
       " 'court': 322,\n",
       " 'communication': 323,\n",
       " 'coup': 324,\n",
       " 'bain': 325,\n",
       " 'plutôt': 326,\n",
       " 'adore': 327,\n",
       " 'clients': 328,\n",
       " 'soigné': 329,\n",
       " 'conformité': 330,\n",
       " 'prendre': 331,\n",
       " 'possible': 332,\n",
       " 'sauf': 333,\n",
       " 'continuez': 334,\n",
       " 'choisir': 335,\n",
       " 'faciles': 336,\n",
       " 'code': 337,\n",
       " 'également': 338,\n",
       " 'toutes': 339,\n",
       " 'retard': 340,\n",
       " 'cadeau': 341,\n",
       " 'achetés': 342,\n",
       " 'points': 343,\n",
       " 'heureusement': 344,\n",
       " 'mettre': 345,\n",
       " 'ci': 346,\n",
       " 'arrive': 347,\n",
       " 'jusqu': 348,\n",
       " 'changer': 349,\n",
       " 'revanche': 350,\n",
       " 'carte': 351,\n",
       " 'maillot': 352,\n",
       " 'intéressantes': 353,\n",
       " 'monter': 354,\n",
       " 'quelques': 355,\n",
       " 'proposés': 356,\n",
       " 'promos': 357,\n",
       " 'difficile': 358,\n",
       " 'intéressants': 359,\n",
       " 'gratuit': 360,\n",
       " 'parfois': 361,\n",
       " 'présentation': 362,\n",
       " 'rendu': 363,\n",
       " 'offre': 364,\n",
       " 'ailleurs': 365,\n",
       " 'confiance': 366,\n",
       " 'réponse': 367,\n",
       " 'petite': 368,\n",
       " 'coupe': 369,\n",
       " 'cherchais': 370,\n",
       " 'puis': 371,\n",
       " 'peux': 372,\n",
       " 'nombreuses': 373,\n",
       " 'tôt': 374,\n",
       " 'soucis': 375,\n",
       " 'nickel': 376,\n",
       " 'elles': 377,\n",
       " 'boîte': 378,\n",
       " 'fiabilité': 379,\n",
       " 'carton': 380,\n",
       " 'fiable': 381,\n",
       " 'marchandise': 382,\n",
       " 'satisfaction': 383,\n",
       " 'dès': 384,\n",
       " 'pantalon': 385,\n",
       " 'plastique': 386,\n",
       " 'utiliser': 387,\n",
       " 'pense': 388,\n",
       " 'différentes': 389,\n",
       " 'cependant': 390,\n",
       " 'différents': 391,\n",
       " 'compliqué': 392,\n",
       " 'semaine': 393,\n",
       " 'seule': 394,\n",
       " 'extrêmement': 395,\n",
       " 'loin': 396,\n",
       " 'bref': 397,\n",
       " 'fin': 398,\n",
       " 'hyper': 399,\n",
       " 'magasin': 400,\n",
       " 'attractifs': 401,\n",
       " 'fluide': 402,\n",
       " 'celle': 403,\n",
       " 'envois': 404,\n",
       " 'changez': 405,\n",
       " 'longtemps': 406,\n",
       " 'demander': 407,\n",
       " 'fils': 408,\n",
       " 'blanc': 409,\n",
       " 'mode': 410,\n",
       " 'lorsque': 411,\n",
       " 'maintenant': 412,\n",
       " 'côté': 413,\n",
       " 'pourquoi': 414,\n",
       " 'proposé': 415,\n",
       " 'oreillers': 416,\n",
       " 'déception': 417,\n",
       " 'tissus': 418,\n",
       " 'heures': 419,\n",
       " 'belles': 420,\n",
       " 'effet': 421,\n",
       " 'claire': 422,\n",
       " 'lavage': 423,\n",
       " 'réalité': 424,\n",
       " 'retrait': 425,\n",
       " 'dates': 426,\n",
       " 'canapé': 427,\n",
       " 'demandé': 428,\n",
       " 'diversité': 429,\n",
       " 'parure': 430,\n",
       " 'important': 431,\n",
       " 'paire': 432,\n",
       " 'journée': 433,\n",
       " 'remise': 434,\n",
       " 'emballés': 435,\n",
       " 'trés': 436,\n",
       " 'accès': 437,\n",
       " 'partie': 438,\n",
       " 'vêtement': 439,\n",
       " 'excellente': 440,\n",
       " 'ouvert': 441,\n",
       " 'petits': 442,\n",
       " 'attendre': 443,\n",
       " 'passe': 444,\n",
       " 'dernier': 445,\n",
       " 'problèmes': 446,\n",
       " 'semble': 447,\n",
       " 'descriptions': 448,\n",
       " 'sommier': 449,\n",
       " 'raisonnable': 450,\n",
       " 'correspondait': 451,\n",
       " 'sais': 452,\n",
       " 'soignée': 453,\n",
       " 'pourtant': 454,\n",
       " 'facture': 455,\n",
       " 'porter': 456,\n",
       " 'arrivés': 457,\n",
       " 'espère': 458,\n",
       " 'gros': 459,\n",
       " 'euros': 460,\n",
       " 'abîmé': 461,\n",
       " 'indiqué': 462,\n",
       " 'signaler': 463,\n",
       " 'facilite': 464,\n",
       " 'relai': 465,\n",
       " 'ponctualité': 466,\n",
       " 'savoir': 467,\n",
       " 'delai': 468,\n",
       " 'souci': 469,\n",
       " 'etc': 470,\n",
       " 'modèle': 471,\n",
       " 'semaines': 472,\n",
       " 'écoute': 473,\n",
       " 'taie': 474,\n",
       " 'annoncée': 475,\n",
       " 'commandée': 476,\n",
       " 'cm': 477,\n",
       " 'fais': 478,\n",
       " 'paquet': 479,\n",
       " 'lin': 480,\n",
       " 'charge': 481,\n",
       " 'chercher': 482,\n",
       " 'tard': 483,\n",
       " 'offres': 484,\n",
       " 'appréciable': 485,\n",
       " 'attractif': 486,\n",
       " 'autant': 487,\n",
       " 'précis': 488,\n",
       " 'bureau': 489,\n",
       " 'dois': 490,\n",
       " 'reçois': 491,\n",
       " 'mis': 492,\n",
       " 'baskets': 493,\n",
       " 'jolis': 494,\n",
       " 'vendeur': 495,\n",
       " 'rendez': 496,\n",
       " 'jean': 497,\n",
       " 'conditions': 498,\n",
       " 'objet': 499,\n",
       " 'défaut': 500,\n",
       " 'dessus': 501,\n",
       " 'satisfaisant': 502,\n",
       " 'recommander': 503,\n",
       " 'sites': 504,\n",
       " 'bas': 505,\n",
       " 'font': 506,\n",
       " 'market': 507,\n",
       " 'renvoyé': 508,\n",
       " 'tant': 509,\n",
       " 'fille': 510,\n",
       " 'retourné': 511,\n",
       " 'bleu': 512,\n",
       " 'image': 513,\n",
       " 'sympa': 514,\n",
       " 'partenaires': 515,\n",
       " 'annuler': 516,\n",
       " 'remises': 517,\n",
       " 'payé': 518,\n",
       " 'pièce': 519,\n",
       " 'confortable': 520,\n",
       " 'etait': 521,\n",
       " 'premier': 522,\n",
       " 'appli': 523,\n",
       " 'attention': 524,\n",
       " 'mauvais': 525,\n",
       " 'appel': 526,\n",
       " 'près': 527,\n",
       " 'transport': 528,\n",
       " 'contact': 529,\n",
       " 'devait': 530,\n",
       " 'parfaits': 531,\n",
       " 'pieds': 532,\n",
       " 'magnifique': 533,\n",
       " 'pouvez': 534,\n",
       " 'chose': 535,\n",
       " 'vendus': 536,\n",
       " 'achète': 537,\n",
       " 'grâce': 538,\n",
       " 'réactif': 539,\n",
       " 'téléphonique': 540,\n",
       " 'lettres': 541,\n",
       " 'cherche': 542,\n",
       " 'anne': 543,\n",
       " 'annoncés': 544,\n",
       " 'comment': 545,\n",
       " 'qualités': 546,\n",
       " 'bout': 547,\n",
       " 'rdv': 548,\n",
       " 'moyen': 549,\n",
       " 'regrette': 550,\n",
       " 'sac': 551,\n",
       " 'filtres': 552,\n",
       " 'respectée': 553,\n",
       " 'design': 554,\n",
       " 'panier': 555,\n",
       " 'équipe': 556,\n",
       " 'deuxième': 557,\n",
       " 'quoi': 558,\n",
       " 'annonce': 559,\n",
       " 'finalement': 560,\n",
       " 'trois': 561,\n",
       " 'horaire': 562,\n",
       " 'colissimo': 563,\n",
       " 'fauteuil': 564,\n",
       " 'revoir': 565,\n",
       " 'veste': 566,\n",
       " 'remboursé': 567,\n",
       " 'envoyer': 568,\n",
       " 'gamme': 569,\n",
       " 'entièrement': 570,\n",
       " 'longue': 571,\n",
       " 'arriver': 572,\n",
       " 'nombreux': 573,\n",
       " 'totalement': 574,\n",
       " 'matin': 575,\n",
       " 'bois': 576,\n",
       " 'qr': 577,\n",
       " 'chronopost': 578,\n",
       " 'sav': 579,\n",
       " 'pull': 580,\n",
       " 'h': 581,\n",
       " 'disponibles': 582,\n",
       " 'seulement': 583,\n",
       " 'message': 584,\n",
       " 'clarté': 585,\n",
       " 'intérieur': 586,\n",
       " 'identique': 587,\n",
       " 'delais': 588,\n",
       " 'tel': 589,\n",
       " 'donne': 590,\n",
       " 'chaises': 591,\n",
       " 'cause': 592,\n",
       " 'créneau': 593,\n",
       " 'livre': 594,\n",
       " 'correcte': 595,\n",
       " 'soutien': 596,\n",
       " 'gorge': 597,\n",
       " 'enfin': 598,\n",
       " 'samedi': 599,\n",
       " 'professionnel': 600,\n",
       " 'hauteur': 601,\n",
       " 'horaires': 602,\n",
       " 'bel': 603,\n",
       " 'courts': 604,\n",
       " 'marketplace': 605,\n",
       " 'dimensions': 606,\n",
       " 'exemple': 607,\n",
       " 'précise': 608,\n",
       " 'directement': 609,\n",
       " 'vers': 610,\n",
       " 'midi': 611,\n",
       " 'aimable': 612,\n",
       " 'weyburn': 613,\n",
       " 'absolument': 614,\n",
       " 'pied': 615,\n",
       " 'renvoi': 616,\n",
       " 'donné': 617,\n",
       " 'vert': 618,\n",
       " 'proche': 619,\n",
       " 'corrects': 620,\n",
       " 'laredoute': 621,\n",
       " 'voulu': 622,\n",
       " 'normal': 623,\n",
       " 'intéressante': 624,\n",
       " 'ampm': 625,\n",
       " 'effectuer': 626,\n",
       " 'protégé': 627,\n",
       " 'emballages': 628,\n",
       " 'perdu': 629,\n",
       " 'personnes': 630,\n",
       " 'sms': 631,\n",
       " 'meme': 632,\n",
       " 'noir': 633,\n",
       " 'traitée': 634,\n",
       " 'étiquette': 635,\n",
       " 'faites': 636,\n",
       " 'viens': 637,\n",
       " 'superbe': 638,\n",
       " 'content': 639,\n",
       " 'mardi': 640,\n",
       " 'pièces': 641,\n",
       " 'doit': 642,\n",
       " 'ceux': 643,\n",
       " 'notamment': 644,\n",
       " 'or': 645,\n",
       " 'france': 646,\n",
       " 'papier': 647,\n",
       " 'complètement': 648,\n",
       " 'effectuée': 649,\n",
       " 'général': 650,\n",
       " 'obligée': 651,\n",
       " 'passage': 652,\n",
       " 'enfants': 653,\n",
       " 'aujourd': 654,\n",
       " 'hui': 655,\n",
       " 'proposer': 656,\n",
       " 'recu': 657,\n",
       " 'via': 658,\n",
       " 'gratuits': 659,\n",
       " 'coussins': 660,\n",
       " 'modèles': 661,\n",
       " 'changé': 662,\n",
       " 'usage': 663,\n",
       " 'fabrication': 664,\n",
       " 'changement': 665,\n",
       " 'appelé': 666,\n",
       " 'donner': 667,\n",
       " 'pendant': 668,\n",
       " 'doute': 669,\n",
       " 'porte': 670,\n",
       " 'instant': 671,\n",
       " 'continuer': 672,\n",
       " 'express': 673,\n",
       " 'attendu': 674,\n",
       " 'pourrait': 675,\n",
       " 'ouverture': 676,\n",
       " 'explications': 677,\n",
       " 'quant': 678,\n",
       " 'laquelle': 679,\n",
       " 'descriptifs': 680,\n",
       " 'concerne': 681,\n",
       " 'collection': 682,\n",
       " 'raison': 683,\n",
       " 'élevés': 684,\n",
       " 'expedition': 685,\n",
       " 'franchement': 686,\n",
       " 'nul': 687,\n",
       " 'disant': 688,\n",
       " 'shirt': 689,\n",
       " 'indiquée': 690,\n",
       " 'entreprise': 691,\n",
       " 'vivement': 692,\n",
       " 'cartons': 693,\n",
       " 'simplement': 694,\n",
       " 'obligé': 695,\n",
       " 'jolies': 696,\n",
       " 'boutique': 697,\n",
       " 'pensais': 698,\n",
       " 'longueur': 699,\n",
       " 'retrouve': 700,\n",
       " 'puisque': 701,\n",
       " 'proximité': 702,\n",
       " 'commanderai': 703,\n",
       " 'ajouter': 704,\n",
       " 'presque': 705,\n",
       " 'comprends': 706,\n",
       " 'expédié': 707,\n",
       " 'claires': 708,\n",
       " 'mêmes': 709,\n",
       " 'fournisseurs': 710,\n",
       " 'vue': 711,\n",
       " 'grandes': 712,\n",
       " 'vendredi': 713,\n",
       " 'aimerais': 714,\n",
       " 'haut': 715,\n",
       " 'afin': 716,\n",
       " 'galeries': 717,\n",
       " 'agréablement': 718,\n",
       " 'choses': 719,\n",
       " 'chemise': 720,\n",
       " 'amabilité': 721,\n",
       " 'homme': 722,\n",
       " 'e': 723,\n",
       " 'bcp': 724,\n",
       " 'vois': 725,\n",
       " 'r': 726,\n",
       " 'résultat': 727,\n",
       " 'permet': 728,\n",
       " 'solution': 729,\n",
       " 'gentillesse': 730,\n",
       " 'faudrait': 731,\n",
       " 'gris': 732,\n",
       " 'effectué': 733,\n",
       " 'suivre': 734,\n",
       " 'plaisir': 735,\n",
       " 'ensuite': 736,\n",
       " 'soin': 737,\n",
       " 'partenaire': 738,\n",
       " 'km': 739,\n",
       " 'air': 740,\n",
       " 'abonnement': 741,\n",
       " 'femme': 742,\n",
       " 'bénéficier': 743,\n",
       " 'tarif': 744,\n",
       " 'style': 745,\n",
       " 'dom': 746,\n",
       " 'raisonnables': 747,\n",
       " 'odeur': 748,\n",
       " 'abordable': 749,\n",
       " 'fallu': 750,\n",
       " 'tee': 751,\n",
       " 'vérifier': 752,\n",
       " 'avantages': 753,\n",
       " 'lafayette': 754,\n",
       " 'manches': 755,\n",
       " 'remboursements': 756,\n",
       " 'difficulté': 757,\n",
       " 'enfant': 758,\n",
       " 'souhaitais': 759,\n",
       " 'conviennent': 760,\n",
       " 'particulier': 761,\n",
       " 'présenté': 762,\n",
       " 'rupture': 763,\n",
       " 'cassé': 764,\n",
       " 'vis': 765,\n",
       " 'facilités': 766,\n",
       " 'vrai': 767,\n",
       " 'personnel': 768,\n",
       " 'détails': 769,\n",
       " 'début': 770,\n",
       " 'déposé': 771,\n",
       " 'système': 772,\n",
       " 'nouvelles': 773,\n",
       " 'épais': 774,\n",
       " 'remercie': 775,\n",
       " 'déplacer': 776,\n",
       " 'notice': 777,\n",
       " 'doux': 778,\n",
       " 'pyjama': 779,\n",
       " 'professionnalisme': 780,\n",
       " 'abord': 781,\n",
       " 'relay': 782,\n",
       " 'propose': 783,\n",
       " 'souhaite': 784,\n",
       " 'lundi': 785,\n",
       " 'conseils': 786,\n",
       " 'question': 787,\n",
       " 'objets': 788,\n",
       " 'agit': 789,\n",
       " 'exécution': 790,\n",
       " 'jupe': 791,\n",
       " 'rendre': 792,\n",
       " 'foncé': 793,\n",
       " 'mercredi': 794,\n",
       " 'enseigne': 795,\n",
       " 'cde': 796,\n",
       " 'plein': 797,\n",
       " 'sélection': 798,\n",
       " 'conseil': 799,\n",
       " 'vitesse': 800,\n",
       " 'repasser': 801,\n",
       " 'juillet': 802,\n",
       " 'mails': 803,\n",
       " 'puisse': 804,\n",
       " 'grands': 805,\n",
       " 'précision': 806,\n",
       " 'mise': 807,\n",
       " 'fonctionne': 808,\n",
       " 'commercial': 809,\n",
       " 'compétitifs': 810,\n",
       " 'commentaires': 811,\n",
       " 'médiocre': 812,\n",
       " 'couettes': 813,\n",
       " 'quelque': 814,\n",
       " 'ancienne': 815,\n",
       " 'commandées': 816,\n",
       " 'final': 817,\n",
       " 'lorsqu': 818,\n",
       " 'compris': 819,\n",
       " 'recherches': 820,\n",
       " 'tenue': 821,\n",
       " 'variété': 822,\n",
       " 'coupé': 823,\n",
       " 'tarifs': 824,\n",
       " 'efficaces': 825,\n",
       " 'prochaine': 826,\n",
       " 'laisser': 827,\n",
       " 'dernières': 828,\n",
       " 'éviter': 829,\n",
       " 'fermé': 830,\n",
       " 'reprise': 831,\n",
       " 'bébé': 832,\n",
       " 'fallait': 833,\n",
       " 'devrait': 834,\n",
       " 'second': 835,\n",
       " 'régulièrement': 836,\n",
       " 'finition': 837,\n",
       " 'façon': 838,\n",
       " 'tellement': 839,\n",
       " 'recommanderai': 840,\n",
       " 'différente': 841,\n",
       " 'garder': 842,\n",
       " 'refaire': 843,\n",
       " 'matières': 844,\n",
       " 'respecter': 845,\n",
       " 'emballée': 846,\n",
       " 'rideau': 847,\n",
       " 'abordables': 848,\n",
       " 'literie': 849,\n",
       " 'sympathique': 850,\n",
       " 'référence': 851,\n",
       " 'vendeurs': 852,\n",
       " 'envie': 853,\n",
       " 'décevant': 854,\n",
       " 'nombre': 855,\n",
       " 'régler': 856,\n",
       " 'montant': 857,\n",
       " 'élevé': 858,\n",
       " 'etre': 859,\n",
       " 'parce': 860,\n",
       " 'petites': 861,\n",
       " 'forme': 862,\n",
       " 'présente': 863,\n",
       " 'messages': 864,\n",
       " 'expédiés': 865,\n",
       " 'quel': 866,\n",
       " 'société': 867,\n",
       " 'vont': 868,\n",
       " 'déroulé': 869,\n",
       " 'jaune': 870,\n",
       " 'prévus': 871,\n",
       " 'su': 872,\n",
       " 'correspondants': 873,\n",
       " 'simples': 874,\n",
       " 'bientôt': 875,\n",
       " 'veille': 876,\n",
       " 'souhaité': 877,\n",
       " 'record': 878,\n",
       " 'contacté': 879,\n",
       " 'remboursée': 880,\n",
       " 'couture': 881,\n",
       " 'ds': 882,\n",
       " 'contenu': 883,\n",
       " 'sûr': 884,\n",
       " 'réclamation': 885,\n",
       " 'hors': 886,\n",
       " 'ville': 887,\n",
       " 'répond': 888,\n",
       " 'boite': 889,\n",
       " 'aisée': 890,\n",
       " 'selon': 891,\n",
       " 'retrouver': 892,\n",
       " 'informé': 893,\n",
       " 'régulières': 894,\n",
       " 'rose': 895,\n",
       " 'taillent': 896,\n",
       " 'conseillère': 897,\n",
       " 'jeudi': 898,\n",
       " 'devoir': 899,\n",
       " 'confirmation': 900,\n",
       " 'devant': 901,\n",
       " 'chambre': 902,\n",
       " 'expédiée': 903,\n",
       " 'visuel': 904,\n",
       " 'naviguer': 905,\n",
       " 'exactitude': 906,\n",
       " 'ete': 907,\n",
       " 'nom': 908,\n",
       " 'ceci': 909,\n",
       " 'numéro': 910,\n",
       " 'web': 911,\n",
       " 'choisis': 912,\n",
       " 'vendu': 913,\n",
       " 'arrivent': 914,\n",
       " 'habite': 915,\n",
       " 'veut': 916,\n",
       " 'complet': 917,\n",
       " 'dessous': 918,\n",
       " 'prévenue': 919,\n",
       " 'mobilier': 920,\n",
       " 'correctement': 921,\n",
       " 'néanmoins': 922,\n",
       " 'pourriez': 923,\n",
       " 'robes': 924,\n",
       " 'infos': 925,\n",
       " 'tête': 926,\n",
       " 'beige': 927,\n",
       " 'épuisé': 928,\n",
       " 'aide': 929,\n",
       " 'solde': 930,\n",
       " 'correspondaient': 931,\n",
       " 'uniquement': 932,\n",
       " 'vaste': 933,\n",
       " 'indiquer': 934,\n",
       " 'apres': 935,\n",
       " 'français': 936,\n",
       " 'guide': 937,\n",
       " 'répondu': 938,\n",
       " 'rembourser': 939,\n",
       " 'endroit': 940,\n",
       " 'mesure': 941,\n",
       " 'convenait': 942,\n",
       " 'lavé': 943,\n",
       " 'manquait': 944,\n",
       " 'in': 945,\n",
       " 'manteau': 946,\n",
       " 'longues': 947,\n",
       " 'génial': 948,\n",
       " 'confortables': 949,\n",
       " 'laisse': 950,\n",
       " 'imprimer': 951,\n",
       " 'accessible': 952,\n",
       " 'vient': 953,\n",
       " 'satisfaisante': 954,\n",
       " 'rarement': 955,\n",
       " 'protection': 956,\n",
       " 'suivie': 957,\n",
       " 'léger': 958,\n",
       " 'bonheur': 959,\n",
       " 'quelle': 960,\n",
       " 'serieux': 961,\n",
       " 'août': 962,\n",
       " 'retourne': 963,\n",
       " 'protège': 964,\n",
       " 'impeccables': 965,\n",
       " 'légèrement': 966,\n",
       " 'nuit': 967,\n",
       " 'arrivées': 968,\n",
       " 'essayer': 969,\n",
       " 'vacances': 970,\n",
       " 'livrées': 971,\n",
       " 'page': 972,\n",
       " 'plateau': 973,\n",
       " 'cours': 974,\n",
       " 'endommagé': 975,\n",
       " 'présent': 976,\n",
       " 'lot': 977,\n",
       " 'fil': 978,\n",
       " 'certaines': 979,\n",
       " 'variés': 980,\n",
       " 'intuitif': 981,\n",
       " 'prévenu': 982,\n",
       " 'chers': 983,\n",
       " 'pyjamas': 984,\n",
       " 'propre': 985,\n",
       " 'commode': 986,\n",
       " 'incroyable': 987,\n",
       " 'bancaire': 988,\n",
       " 'trous': 989,\n",
       " 'longs': 990,\n",
       " 'veux': 991,\n",
       " 'année': 992,\n",
       " 'pouvait': 993,\n",
       " 'initialement': 994,\n",
       " 'voit': 995,\n",
       " 'ravi': 996,\n",
       " 'réel': 997,\n",
       " 'vendeuse': 998,\n",
       " 'toutefois': 999,\n",
       " 'parfaites': 1000,\n",
       " ...}"
      ]
     },
     "execution_count": 6,
     "metadata": {},
     "output_type": "execute_result"
    }
   ],
   "source": [
    "tokenizer.word_index"
   ]
  },
  {
   "cell_type": "code",
   "execution_count": 7,
   "id": "cf5a3d32-6b49-4889-8eb7-2548b484ddf6",
   "metadata": {},
   "outputs": [
    {
     "data": {
      "text/plain": [
       "4122"
      ]
     },
     "execution_count": 7,
     "metadata": {},
     "output_type": "execute_result"
    }
   ],
   "source": [
    "len(tokenizer.word_index) "
   ]
  },
  {
   "cell_type": "markdown",
   "id": "b36e9299-276b-4903-b3ed-7f913b04fc8c",
   "metadata": {},
   "source": [
    "###  Convert Tokens to numeric"
   ]
  },
  {
   "cell_type": "code",
   "execution_count": 8,
   "id": "cb5e3c2f-69bf-4910-a1a7-25473d518aba",
   "metadata": {},
   "outputs": [],
   "source": [
    "X_num_tokens = tokenizer.texts_to_sequences(X)"
   ]
  },
  {
   "cell_type": "code",
   "execution_count": 9,
   "id": "5db00a37-de8c-4a02-87f3-d6320edb61c3",
   "metadata": {},
   "outputs": [],
   "source": [
    "num_tokens = [len(tokens) for tokens in X_num_tokens]\n",
    "num_tokens = np.array(num_tokens)"
   ]
  },
  {
   "cell_type": "code",
   "execution_count": 10,
   "id": "435a3c9b-0019-4f67-8f0b-2cdb2600406d",
   "metadata": {},
   "outputs": [
    {
     "data": {
      "text/plain": [
       "'failli pouvoir récupérer colis garder mail disait colis arrivé relais faudrait préciser client tant colis conserver mail sous peine colis'"
      ]
     },
     "execution_count": 10,
     "metadata": {},
     "output_type": "execute_result"
    }
   ],
   "source": [
    "X[100]"
   ]
  },
  {
   "cell_type": "code",
   "execution_count": 11,
   "id": "46b4ae55-de8f-4a59-9a1c-ef82e3c0a0a4",
   "metadata": {},
   "outputs": [
    {
     "name": "stdout",
     "output_type": "stream",
     "text": [
      "[2331, 220, 295, 11, 842, 177, 2126, 11, 76, 23, 731, 1056, 70, 509, 11, 3406, 177, 299, 1085, 11]\n"
     ]
    }
   ],
   "source": [
    "print(X_num_tokens[100])"
   ]
  },
  {
   "cell_type": "code",
   "execution_count": 12,
   "id": "2853dbe8-96b6-446c-8ee0-5589853f4e7b",
   "metadata": {},
   "outputs": [
    {
     "name": "stdout",
     "output_type": "stream",
     "text": [
      "465\n",
      "123\n"
     ]
    }
   ],
   "source": [
    "# each word is reprsented by a numeric token\n",
    "print(tokenizer.word_index[\"relai\"])\n",
    "print(tokenizer.word_index[\"livreur\"])"
   ]
  },
  {
   "cell_type": "markdown",
   "id": "fe7e2183-adcc-48e7-bf4e-a1fd18ff1883",
   "metadata": {},
   "source": [
    "### Determine the maximum numbers of tokens"
   ]
  },
  {
   "cell_type": "code",
   "execution_count": 13,
   "id": "9fbee14a-4b3c-4034-a329-f1f8d74858f7",
   "metadata": {},
   "outputs": [
    {
     "name": "stdout",
     "output_type": "stream",
     "text": [
      "mean: 7.7813678436750084\n",
      "max: 148\n",
      "argmax: 10888\n",
      "X at argmax: époque où parents redoute où qualité aujourd hui ça vaut mieux marques tant niveau matériel services matelas commandé livré conditions plus déplorables photo appui emballage déchiré plusieurs endroits matelas part autre livreurs demander souhaitais garder évidemment accepté marchandise lit sans matelas poser dessus services après vente redoute proposé remboursement sous semaines après quoi pouvais nouveau passer commande attendre environ semaines recevoir nouveau matelas madame bien refusé marchandise fallu demande échange non aberrant agit miroir tapis salle bain matelas lequel devions dormir dû enfin obtenir remboursement immédiat repasser commande matelas arrivé peu plus semaines après demandé vigilance portée livraison façon revivre scénario arrivée livreurs matelas jeté arrière camion sans soin particulier emballage nouveau déchiré fort heureusement matelas sans parler livreurs marchandise cigarette main faut rappeler avant partir expérience horrible uniquement responsabilité entreprise livraison redoute choix services partenaires bas prix final clients font frais recommanderai plus personne achat site dorénavant\n",
      "len(X[argmax]): 1135\n",
      "----\n",
      "argmin: 2409\n",
      "X at argmin: collaboration\n",
      "len(X[argmin]): 13\n"
     ]
    }
   ],
   "source": [
    "print(\"mean:\", num_tokens.mean())\n",
    "print(\"max:\", num_tokens.max())\n",
    "\n",
    "arg_max = num_tokens.argmax()\n",
    "print(\"argmax:\", arg_max)\n",
    "print(\"X at argmax:\", X[arg_max])\n",
    "print(\"len(X[argmax]):\", len(X[arg_max]))\n",
    "print(\"----\")\n",
    "arg_min = num_tokens.argmin()\n",
    "print(\"argmin:\", arg_min)\n",
    "print(\"X at argmin:\", X[arg_min])\n",
    "print(\"len(X[argmin]):\", len(X[arg_min]))"
   ]
  },
  {
   "cell_type": "markdown",
   "id": "85b4aeeb-b3d0-415b-a8a7-5dd3624c37d1",
   "metadata": {},
   "source": [
    "### Define Pad Sequences"
   ]
  },
  {
   "cell_type": "code",
   "execution_count": 14,
   "id": "c6030220-32fb-472f-b560-767d2da33515",
   "metadata": {},
   "outputs": [
    {
     "name": "stdout",
     "output_type": "stream",
     "text": [
      "max_token: 148\n"
     ]
    }
   ],
   "source": [
    "max_tokens = num_tokens.max()\n",
    "print(\"max_token:\", max_tokens)"
   ]
  },
  {
   "cell_type": "code",
   "execution_count": 15,
   "id": "5fb1b73d-266b-49ef-b0d0-8a309067b613",
   "metadata": {},
   "outputs": [
    {
     "data": {
      "text/plain": [
       "0.9999571477545424"
      ]
     },
     "execution_count": 15,
     "metadata": {},
     "output_type": "execute_result"
    }
   ],
   "source": [
    "sum(num_tokens < max_tokens) / len(num_tokens)"
   ]
  },
  {
   "cell_type": "code",
   "execution_count": 16,
   "id": "2271b272-3d55-4478-94f8-fc257924734a",
   "metadata": {},
   "outputs": [
    {
     "data": {
      "text/plain": [
       "23335"
      ]
     },
     "execution_count": 16,
     "metadata": {},
     "output_type": "execute_result"
    }
   ],
   "source": [
    "sum(num_tokens < max_tokens) # the number of documents which have 148 or less tokens"
   ]
  },
  {
   "cell_type": "code",
   "execution_count": 17,
   "id": "76fc7760-9b45-4368-9e68-43d6a683b37a",
   "metadata": {},
   "outputs": [
    {
     "data": {
      "image/png": "[encoded data removed]",
      "text/plain": [
       "<Figure size 640x480 with 1 Axes>"
      ]
     },
     "metadata": {},
     "output_type": "display_data"
    }
   ],
   "source": [
    "#Visualize trend of im_tokens\n",
    "lon = len(num_tokens)\n",
    "sns.lineplot(num_tokens)\n",
    "plt.show()"
   ]
  },
  {
   "cell_type": "markdown",
   "id": "a9de5f51",
   "metadata": {},
   "source": [
    "## Padding"
   ]
  },
  {
   "cell_type": "code",
   "execution_count": 18,
   "id": "0ff36335-d2b6-4e98-bf85-d590dc2dec14",
   "metadata": {},
   "outputs": [
    {
     "data": {
      "text/plain": [
       "(23336, 148)"
      ]
     },
     "execution_count": 18,
     "metadata": {},
     "output_type": "execute_result"
    }
   ],
   "source": [
    "X_pad = pad_sequences(X_num_tokens, maxlen=max_tokens)\n",
    "X_pad.shape"
   ]
  },
  {
   "cell_type": "code",
   "execution_count": 19,
   "id": "4a5cb34a-53e0-484b-afc2-23f1a23c8f2f",
   "metadata": {},
   "outputs": [
    {
     "data": {
      "text/plain": [
       "array([   0,    0,    0,    0,    0,    0,    0,    0,    0,    0,    0,\n",
       "          0,    0,    0,    0,    0,    0,    0,    0,    0,    0,    0,\n",
       "          0,    0,    0,    0,    0,    0,    0,    0,    0,    0,    0,\n",
       "          0,    0,    0,    0,    0,    0,    0,    0,    0,    0,    0,\n",
       "          0,    0,    0,    0,    0,    0,    0,    0,    0,    0,    0,\n",
       "          0,    0,    0,    0,    0,    0,    0,    0,    0,    0,    0,\n",
       "          0,    0,    0,    0,    0,    0,    0,    0,    0,    0,    0,\n",
       "          0,    0,    0,    0,    0,    0,    0,    0,    0,    0,    0,\n",
       "          0,    0,    0,    0,    0,    0,    0,    0,    0,    0,    0,\n",
       "          0,    0,    0,    0,    0,    0,    0,    0,    0,    0,    0,\n",
       "          0,    0,    0,    0,    0,    0,    0,    0,    0,    0,    0,\n",
       "          0,    0,    0,    0,    0,    0,    0, 2331,  220,  295,   11,\n",
       "        842,  177, 2126,   11,   76,   23,  731, 1056,   70,  509,   11,\n",
       "       3406,  177,  299, 1085,   11], dtype=int32)"
      ]
     },
     "execution_count": 19,
     "metadata": {},
     "output_type": "execute_result"
    }
   ],
   "source": [
    "X_pad[100]"
   ]
  },
  {
   "cell_type": "markdown",
   "id": "785c9abd-a875-4e75-84c9-5886e12ddd34",
   "metadata": {},
   "source": [
    "## Train, test, split"
   ]
  },
  {
   "cell_type": "code",
   "execution_count": 20,
   "id": "f1189716-279a-4ff5-a86b-431a8d61c159",
   "metadata": {},
   "outputs": [],
   "source": [
    "from sklearn.model_selection import train_test_split\n",
    "\n",
    "# split data int train data and test data (20% of data)\n",
    "X_train, X_test, y_train, y_test = train_test_split(X_pad, y, \n",
    "                                                    test_size=0.2, \n",
    "                                                    stratify=y, \n",
    "                                                    random_state=23)\n"
   ]
  },
  {
   "cell_type": "code",
   "execution_count": 21,
   "id": "a8869e7d-f29c-4495-aeec-9c9560a90294",
   "metadata": {},
   "outputs": [
    {
     "data": {
      "text/plain": [
       "(18668, 148)"
      ]
     },
     "execution_count": 21,
     "metadata": {},
     "output_type": "execute_result"
    }
   ],
   "source": [
    "X_train.shape"
   ]
  },
  {
   "cell_type": "code",
   "execution_count": 22,
   "id": "b593a416-17d0-41c7-a6af-cd74f92eca71",
   "metadata": {},
   "outputs": [
    {
     "data": {
      "text/plain": [
       "(4668, 148)"
      ]
     },
     "execution_count": 22,
     "metadata": {},
     "output_type": "execute_result"
    }
   ],
   "source": [
    "X_test.shape"
   ]
  },
  {
   "cell_type": "markdown",
   "id": "b49bff63-a084-45f9-9893-c10c34fb8144",
   "metadata": {},
   "source": [
    "## Modeling - Gated Recurrent Unit"
   ]
  },
  {
   "cell_type": "code",
   "execution_count": 23,
   "id": "ad2a5491",
   "metadata": {},
   "outputs": [],
   "source": [
    "# define early_stop callbacks\n",
    "from tensorflow.keras.callbacks import EarlyStopping\n",
    "\n",
    "early_stop = EarlyStopping(monitor=\"val_loss\", \n",
    "                           mode=\"auto\", \n",
    "                           verbose=1, \n",
    "                           patience = 10, \n",
    "                           restore_best_weights=True)"
   ]
  },
  {
   "cell_type": "code",
   "execution_count": 32,
   "id": "352b0f71",
   "metadata": {},
   "outputs": [
    {
     "name": "stdout",
     "output_type": "stream",
     "text": [
      "Model: \"sequential_5\"\n",
      "_________________________________________________________________\n",
      " Layer (type)                Output Shape              Param #   \n",
      "=================================================================\n",
      " embedding_layer (Embedding  (None, 148, 100)          1000000   \n",
      " )                                                               \n",
      "                                                                 \n",
      " gru_15 (GRU)                (None, 148, 48)           21600     \n",
      "                                                                 \n",
      " gru_16 (GRU)                (None, 148, 24)           5328      \n",
      "                                                                 \n",
      " gru_17 (GRU)                (None, 12)                1368      \n",
      "                                                                 \n",
      " dense_5 (Dense)             (None, 1)                 13        \n",
      "                                                                 \n",
      "=================================================================\n",
      "Total params: 1028309 (3.92 MB)\n",
      "Trainable params: 1028309 (3.92 MB)\n",
      "Non-trainable params: 0 (0.00 Byte)\n",
      "_________________________________________________________________\n",
      "Epoch 1/30\n",
      "73/73 [==============================] - 37s 404ms/step - loss: 9.5457 - accuracy: 0.8716 - val_loss: 0.3273 - val_accuracy: 0.8507\n",
      "Epoch 2/30\n",
      "73/73 [==============================] - 28s 387ms/step - loss: 5.0750 - accuracy: 0.9303 - val_loss: 0.2265 - val_accuracy: 0.9060\n",
      "Epoch 3/30\n",
      "73/73 [==============================] - 27s 366ms/step - loss: 3.3050 - accuracy: 0.9586 - val_loss: 0.2603 - val_accuracy: 0.9040\n",
      "Epoch 4/30\n",
      "73/73 [==============================] - 26s 360ms/step - loss: 2.7663 - accuracy: 0.9668 - val_loss: 0.2494 - val_accuracy: 0.9096\n",
      "Epoch 5/30\n",
      "73/73 [==============================] - 26s 362ms/step - loss: 2.0875 - accuracy: 0.9769 - val_loss: 0.2928 - val_accuracy: 0.9143\n",
      "Epoch 6/30\n",
      "73/73 [==============================] - 26s 359ms/step - loss: 1.6764 - accuracy: 0.9815 - val_loss: 0.3162 - val_accuracy: 0.9092\n",
      "Epoch 7/30\n",
      "73/73 [==============================] - 26s 359ms/step - loss: 1.5281 - accuracy: 0.9831 - val_loss: 0.3561 - val_accuracy: 0.9094\n",
      "Epoch 8/30\n",
      "73/73 [==============================] - 29s 400ms/step - loss: 1.3989 - accuracy: 0.9853 - val_loss: 0.3485 - val_accuracy: 0.9070\n",
      "Epoch 9/30\n",
      "73/73 [==============================] - 27s 371ms/step - loss: 1.2519 - accuracy: 0.9860 - val_loss: 0.3550 - val_accuracy: 0.9147\n",
      "Epoch 10/30\n",
      "73/73 [==============================] - 26s 361ms/step - loss: 0.9161 - accuracy: 0.9909 - val_loss: 0.4253 - val_accuracy: 0.9051\n",
      "Epoch 11/30\n",
      "73/73 [==============================] - 26s 361ms/step - loss: 1.1939 - accuracy: 0.9866 - val_loss: 0.3918 - val_accuracy: 0.9137\n",
      "Epoch 12/30\n",
      "73/73 [==============================] - ETA: 0s - loss: 0.8164 - accuracy: 0.9918Restoring model weights from the end of the best epoch: 2.\n",
      "73/73 [==============================] - 27s 370ms/step - loss: 0.8164 - accuracy: 0.9918 - val_loss: 0.3923 - val_accuracy: 0.9115\n",
      "Epoch 12: early stopping\n",
      "146/146 [==============================] - 4s 25ms/step - loss: 0.2265 - accuracy: 0.9060\n",
      "results: [0.2265034019947052, 0.90595543384552]\n",
      "146/146 [==============================] - 6s 27ms/step\n"
     ]
    },
    {
     "data": {
      "application/vnd.plotly.v1+json": {
       "config": {
        "plotlyServerURL": "https://plot.ly"
       },
       "data": [
        {
         "fill": "toself",
         "hovertemplate": "r=%{r}<br>theta=%{theta}<extra></extra>",
         "legendgroup": "",
         "line": {
          "color": "#636efa",
          "dash": "solid"
         },
         "marker": {
          "symbol": "circle"
         },
         "mode": "markers+lines",
         "name": "",
         "r": [
          "GRU_0",
          0.905955441302485,
          0.8710238140920077,
          0.945172973648058,
          0.8074247110527724,
          0.9133622137770815,
          0.8256029684601113,
          0.8710238140920077,
          0.905955441302485,
          0.5632911392405063,
          0.7695259203164884,
          0.9281340745715817,
          "GRU_0"
         ],
         "showlegend": false,
         "subplot": "polar",
         "theta": [
          "model",
          "accuracy",
          "balanced_accuracy",
          "f1",
          "f1_macro",
          "f1_weighted",
          "recall_0",
          "recall_macro",
          "recall_weighted",
          "precision_0",
          "precision_macro",
          "precision_weighted",
          "model"
         ],
         "type": "scatterpolar"
        }
       ],
       "layout": {
        "height": 500,
        "legend": {
         "tracegroupgap": 0
        },
        "margin": {
         "t": 60
        },
        "polar": {
         "angularaxis": {
          "direction": "clockwise",
          "rotation": 90
         },
         "domain": {
          "x": [
           0,
           1
          ],
          "y": [
           0,
           1
          ]
         }
        },
        "template": {
         "data": {
          "bar": [
           {
            "error_x": {
             "color": "#2a3f5f"
            },
            "error_y": {
             "color": "#2a3f5f"
            },
            "marker": {
             "line": {
              "color": "#E5ECF6",
              "width": 0.5
             },
             "pattern": {
              "fillmode": "overlay",
              "size": 10,
              "solidity": 0.2
             }
            },
            "type": "bar"
           }
          ],
          "barpolar": [
           {
            "marker": {
             "line": {
              "color": "#E5ECF6",
              "width": 0.5
             },
             "pattern": {
              "fillmode": "overlay",
              "size": 10,
              "solidity": 0.2
             }
            },
            "type": "barpolar"
           }
          ],
          "carpet": [
           {
            "aaxis": {
             "endlinecolor": "#2a3f5f",
             "gridcolor": "white",
             "linecolor": "white",
             "minorgridcolor": "white",
             "startlinecolor": "#2a3f5f"
            },
            "baxis": {
             "endlinecolor": "#2a3f5f",
             "gridcolor": "white",
             "linecolor": "white",
             "minorgridcolor": "white",
             "startlinecolor": "#2a3f5f"
            },
            "type": "carpet"
           }
          ],
          "choropleth": [
           {
            "colorbar": {
             "outlinewidth": 0,
             "ticks": ""
            },
            "type": "choropleth"
           }
          ],
          "contour": [
           {
            "colorbar": {
             "outlinewidth": 0,
             "ticks": ""
            },
            "colorscale": [
             [
              0,
              "#0d0887"
             ],
             [
              0.1111111111111111,
              "#46039f"
             ],
             [
              0.2222222222222222,
              "#7201a8"
             ],
             [
              0.3333333333333333,
              "#9c179e"
             ],
             [
              0.4444444444444444,
              "#bd3786"
             ],
             [
              0.5555555555555556,
              "#d8576b"
             ],
             [
              0.6666666666666666,
              "#ed7953"
             ],
             [
              0.7777777777777778,
              "#fb9f3a"
             ],
             [
              0.8888888888888888,
              "#fdca26"
             ],
             [
              1,
              "#f0f921"
             ]
            ],
            "type": "contour"
           }
          ],
          "contourcarpet": [
           {
            "colorbar": {
             "outlinewidth": 0,
             "ticks": ""
            },
            "type": "contourcarpet"
           }
          ],
          "heatmap": [
           {
            "colorbar": {
             "outlinewidth": 0,
             "ticks": ""
            },
            "colorscale": [
             [
              0,
              "#0d0887"
             ],
             [
              0.1111111111111111,
              "#46039f"
             ],
             [
              0.2222222222222222,
              "#7201a8"
             ],
             [
              0.3333333333333333,
              "#9c179e"
             ],
             [
              0.4444444444444444,
              "#bd3786"
             ],
             [
              0.5555555555555556,
              "#d8576b"
             ],
             [
              0.6666666666666666,
              "#ed7953"
             ],
             [
              0.7777777777777778,
              "#fb9f3a"
             ],
             [
              0.8888888888888888,
              "#fdca26"
             ],
             [
              1,
              "#f0f921"
             ]
            ],
            "type": "heatmap"
           }
          ],
          "heatmapgl": [
           {
            "colorbar": {
             "outlinewidth": 0,
             "ticks": ""
            },
            "colorscale": [
             [
              0,
              "#0d0887"
             ],
             [
              0.1111111111111111,
              "#46039f"
             ],
             [
              0.2222222222222222,
              "#7201a8"
             ],
             [
              0.3333333333333333,
              "#9c179e"
             ],
             [
              0.4444444444444444,
              "#bd3786"
             ],
             [
              0.5555555555555556,
              "#d8576b"
             ],
             [
              0.6666666666666666,
              "#ed7953"
             ],
             [
              0.7777777777777778,
              "#fb9f3a"
             ],
             [
              0.8888888888888888,
              "#fdca26"
             ],
             [
              1,
              "#f0f921"
             ]
            ],
            "type": "heatmapgl"
           }
          ],
          "histogram": [
           {
            "marker": {
             "pattern": {
              "fillmode": "overlay",
              "size": 10,
              "solidity": 0.2
             }
            },
            "type": "histogram"
           }
          ],
          "histogram2d": [
           {
            "colorbar": {
             "outlinewidth": 0,
             "ticks": ""
            },
            "colorscale": [
             [
              0,
              "#0d0887"
             ],
             [
              0.1111111111111111,
              "#46039f"
             ],
             [
              0.2222222222222222,
              "#7201a8"
             ],
             [
              0.3333333333333333,
              "#9c179e"
             ],
             [
              0.4444444444444444,
              "#bd3786"
             ],
             [
              0.5555555555555556,
              "#d8576b"
             ],
             [
              0.6666666666666666,
              "#ed7953"
             ],
             [
              0.7777777777777778,
              "#fb9f3a"
             ],
             [
              0.8888888888888888,
              "#fdca26"
             ],
             [
              1,
              "#f0f921"
             ]
            ],
            "type": "histogram2d"
           }
          ],
          "histogram2dcontour": [
           {
            "colorbar": {
             "outlinewidth": 0,
             "ticks": ""
            },
            "colorscale": [
             [
              0,
              "#0d0887"
             ],
             [
              0.1111111111111111,
              "#46039f"
             ],
             [
              0.2222222222222222,
              "#7201a8"
             ],
             [
              0.3333333333333333,
              "#9c179e"
             ],
             [
              0.4444444444444444,
              "#bd3786"
             ],
             [
              0.5555555555555556,
              "#d8576b"
             ],
             [
              0.6666666666666666,
              "#ed7953"
             ],
             [
              0.7777777777777778,
              "#fb9f3a"
             ],
             [
              0.8888888888888888,
              "#fdca26"
             ],
             [
              1,
              "#f0f921"
             ]
            ],
            "type": "histogram2dcontour"
           }
          ],
          "mesh3d": [
           {
            "colorbar": {
             "outlinewidth": 0,
             "ticks": ""
            },
            "type": "mesh3d"
           }
          ],
          "parcoords": [
           {
            "line": {
             "colorbar": {
              "outlinewidth": 0,
              "ticks": ""
             }
            },
            "type": "parcoords"
           }
          ],
          "pie": [
           {
            "automargin": true,
            "type": "pie"
           }
          ],
          "scatter": [
           {
            "fillpattern": {
             "fillmode": "overlay",
             "size": 10,
             "solidity": 0.2
            },
            "type": "scatter"
           }
          ],
          "scatter3d": [
           {
            "line": {
             "colorbar": {
              "outlinewidth": 0,
              "ticks": ""
             }
            },
            "marker": {
             "colorbar": {
              "outlinewidth": 0,
              "ticks": ""
             }
            },
            "type": "scatter3d"
           }
          ],
          "scattercarpet": [
           {
            "marker": {
             "colorbar": {
              "outlinewidth": 0,
              "ticks": ""
             }
            },
            "type": "scattercarpet"
           }
          ],
          "scattergeo": [
           {
            "marker": {
             "colorbar": {
              "outlinewidth": 0,
              "ticks": ""
             }
            },
            "type": "scattergeo"
           }
          ],
          "scattergl": [
           {
            "marker": {
             "colorbar": {
              "outlinewidth": 0,
              "ticks": ""
             }
            },
            "type": "scattergl"
           }
          ],
          "scattermapbox": [
           {
            "marker": {
             "colorbar": {
              "outlinewidth": 0,
              "ticks": ""
             }
            },
            "type": "scattermapbox"
           }
          ],
          "scatterpolar": [
           {
            "marker": {
             "colorbar": {
              "outlinewidth": 0,
              "ticks": ""
             }
            },
            "type": "scatterpolar"
           }
          ],
          "scatterpolargl": [
           {
            "marker": {
             "colorbar": {
              "outlinewidth": 0,
              "ticks": ""
             }
            },
            "type": "scatterpolargl"
           }
          ],
          "scatterternary": [
           {
            "marker": {
             "colorbar": {
              "outlinewidth": 0,
              "ticks": ""
             }
            },
            "type": "scatterternary"
           }
          ],
          "surface": [
           {
            "colorbar": {
             "outlinewidth": 0,
             "ticks": ""
            },
            "colorscale": [
             [
              0,
              "#0d0887"
             ],
             [
              0.1111111111111111,
              "#46039f"
             ],
             [
              0.2222222222222222,
              "#7201a8"
             ],
             [
              0.3333333333333333,
              "#9c179e"
             ],
             [
              0.4444444444444444,
              "#bd3786"
             ],
             [
              0.5555555555555556,
              "#d8576b"
             ],
             [
              0.6666666666666666,
              "#ed7953"
             ],
             [
              0.7777777777777778,
              "#fb9f3a"
             ],
             [
              0.8888888888888888,
              "#fdca26"
             ],
             [
              1,
              "#f0f921"
             ]
            ],
            "type": "surface"
           }
          ],
          "table": [
           {
            "cells": {
             "fill": {
              "color": "#EBF0F8"
             },
             "line": {
              "color": "white"
             }
            },
            "header": {
             "fill": {
              "color": "#C8D4E3"
             },
             "line": {
              "color": "white"
             }
            },
            "type": "table"
           }
          ]
         },
         "layout": {
          "annotationdefaults": {
           "arrowcolor": "#2a3f5f",
           "arrowhead": 0,
           "arrowwidth": 1
          },
          "autotypenumbers": "strict",
          "coloraxis": {
           "colorbar": {
            "outlinewidth": 0,
            "ticks": ""
           }
          },
          "colorscale": {
           "diverging": [
            [
             0,
             "#8e0152"
            ],
            [
             0.1,
             "#c51b7d"
            ],
            [
             0.2,
             "#de77ae"
            ],
            [
             0.3,
             "#f1b6da"
            ],
            [
             0.4,
             "#fde0ef"
            ],
            [
             0.5,
             "#f7f7f7"
            ],
            [
             0.6,
             "#e6f5d0"
            ],
            [
             0.7,
             "#b8e186"
            ],
            [
             0.8,
             "#7fbc41"
            ],
            [
             0.9,
             "#4d9221"
            ],
            [
             1,
             "#276419"
            ]
           ],
           "sequential": [
            [
             0,
             "#0d0887"
            ],
            [
             0.1111111111111111,
             "#46039f"
            ],
            [
             0.2222222222222222,
             "#7201a8"
            ],
            [
             0.3333333333333333,
             "#9c179e"
            ],
            [
             0.4444444444444444,
             "#bd3786"
            ],
            [
             0.5555555555555556,
             "#d8576b"
            ],
            [
             0.6666666666666666,
             "#ed7953"
            ],
            [
             0.7777777777777778,
             "#fb9f3a"
            ],
            [
             0.8888888888888888,
             "#fdca26"
            ],
            [
             1,
             "#f0f921"
            ]
           ],
           "sequentialminus": [
            [
             0,
             "#0d0887"
            ],
            [
             0.1111111111111111,
             "#46039f"
            ],
            [
             0.2222222222222222,
             "#7201a8"
            ],
            [
             0.3333333333333333,
             "#9c179e"
            ],
            [
             0.4444444444444444,
             "#bd3786"
            ],
            [
             0.5555555555555556,
             "#d8576b"
            ],
            [
             0.6666666666666666,
             "#ed7953"
            ],
            [
             0.7777777777777778,
             "#fb9f3a"
            ],
            [
             0.8888888888888888,
             "#fdca26"
            ],
            [
             1,
             "#f0f921"
            ]
           ]
          },
          "colorway": [
           "#636efa",
           "#EF553B",
           "#00cc96",
           "#ab63fa",
           "#FFA15A",
           "#19d3f3",
           "#FF6692",
           "#B6E880",
           "#FF97FF",
           "#FECB52"
          ],
          "font": {
           "color": "#2a3f5f"
          },
          "geo": {
           "bgcolor": "white",
           "lakecolor": "white",
           "landcolor": "#E5ECF6",
           "showlakes": true,
           "showland": true,
           "subunitcolor": "white"
          },
          "hoverlabel": {
           "align": "left"
          },
          "hovermode": "closest",
          "mapbox": {
           "style": "light"
          },
          "paper_bgcolor": "white",
          "plot_bgcolor": "#E5ECF6",
          "polar": {
           "angularaxis": {
            "gridcolor": "white",
            "linecolor": "white",
            "ticks": ""
           },
           "bgcolor": "#E5ECF6",
           "radialaxis": {
            "gridcolor": "white",
            "linecolor": "white",
            "ticks": ""
           }
          },
          "scene": {
           "xaxis": {
            "backgroundcolor": "#E5ECF6",
            "gridcolor": "white",
            "gridwidth": 2,
            "linecolor": "white",
            "showbackground": true,
            "ticks": "",
            "zerolinecolor": "white"
           },
           "yaxis": {
            "backgroundcolor": "#E5ECF6",
            "gridcolor": "white",
            "gridwidth": 2,
            "linecolor": "white",
            "showbackground": true,
            "ticks": "",
            "zerolinecolor": "white"
           },
           "zaxis": {
            "backgroundcolor": "#E5ECF6",
            "gridcolor": "white",
            "gridwidth": 2,
            "linecolor": "white",
            "showbackground": true,
            "ticks": "",
            "zerolinecolor": "white"
           }
          },
          "shapedefaults": {
           "line": {
            "color": "#2a3f5f"
           }
          },
          "ternary": {
           "aaxis": {
            "gridcolor": "white",
            "linecolor": "white",
            "ticks": ""
           },
           "baxis": {
            "gridcolor": "white",
            "linecolor": "white",
            "ticks": ""
           },
           "bgcolor": "#E5ECF6",
           "caxis": {
            "gridcolor": "white",
            "linecolor": "white",
            "ticks": ""
           }
          },
          "title": {
           "x": 0.05
          },
          "xaxis": {
           "automargin": true,
           "gridcolor": "white",
           "linecolor": "white",
           "ticks": "",
           "title": {
            "standoff": 15
           },
           "zerolinecolor": "white",
           "zerolinewidth": 2
          },
          "yaxis": {
           "automargin": true,
           "gridcolor": "white",
           "linecolor": "white",
           "ticks": "",
           "title": {
            "standoff": 15
           },
           "zerolinecolor": "white",
           "zerolinewidth": 2
          }
         }
        },
        "title": {
         "text": "GRU_0 performance",
         "x": 0.5
        },
        "width": 500
       }
      }
     },
     "metadata": {},
     "output_type": "display_data"
    },
    {
     "data": {
      "application/vnd.plotly.v1+json": {
       "config": {
        "plotlyServerURL": "https://plot.ly"
       },
       "data": [
        {
         "name": "GRU_0",
         "offsetgroup": "0",
         "text": [
          "0.91",
          "0.87",
          "0.95",
          "0.81",
          "0.91",
          "0.83",
          "0.87",
          "0.91",
          "0.56",
          "0.77",
          "0.93"
         ],
         "textposition": "auto",
         "type": "bar",
         "x": [
          "accuracy",
          "balanced_accuracy",
          "f1",
          "f1_macro",
          "f1_weighted",
          "recall_0",
          "recall_macro",
          "recall_weighted",
          "precision_0",
          "precision_macro",
          "precision_weighted"
         ],
         "y": [
          0.91,
          0.87,
          0.95,
          0.81,
          0.91,
          0.83,
          0.87,
          0.91,
          0.56,
          0.77,
          0.93
         ]
        }
       ],
       "layout": {
        "shapes": [
         {
          "line": {
           "color": "magenta",
           "dash": "dash",
           "width": 1
          },
          "type": "line",
          "x0": 0,
          "x1": 1,
          "xref": "paper",
          "y0": 0.5,
          "y1": 0.5,
          "yref": "paper"
         }
        ],
        "template": {
         "data": {
          "bar": [
           {
            "error_x": {
             "color": "#2a3f5f"
            },
            "error_y": {
             "color": "#2a3f5f"
            },
            "marker": {
             "line": {
              "color": "#E5ECF6",
              "width": 0.5
             },
             "pattern": {
              "fillmode": "overlay",
              "size": 10,
              "solidity": 0.2
             }
            },
            "type": "bar"
           }
          ],
          "barpolar": [
           {
            "marker": {
             "line": {
              "color": "#E5ECF6",
              "width": 0.5
             },
             "pattern": {
              "fillmode": "overlay",
              "size": 10,
              "solidity": 0.2
             }
            },
            "type": "barpolar"
           }
          ],
          "carpet": [
           {
            "aaxis": {
             "endlinecolor": "#2a3f5f",
             "gridcolor": "white",
             "linecolor": "white",
             "minorgridcolor": "white",
             "startlinecolor": "#2a3f5f"
            },
            "baxis": {
             "endlinecolor": "#2a3f5f",
             "gridcolor": "white",
             "linecolor": "white",
             "minorgridcolor": "white",
             "startlinecolor": "#2a3f5f"
            },
            "type": "carpet"
           }
          ],
          "choropleth": [
           {
            "colorbar": {
             "outlinewidth": 0,
             "ticks": ""
            },
            "type": "choropleth"
           }
          ],
          "contour": [
           {
            "colorbar": {
             "outlinewidth": 0,
             "ticks": ""
            },
            "colorscale": [
             [
              0,
              "#0d0887"
             ],
             [
              0.1111111111111111,
              "#46039f"
             ],
             [
              0.2222222222222222,
              "#7201a8"
             ],
             [
              0.3333333333333333,
              "#9c179e"
             ],
             [
              0.4444444444444444,
              "#bd3786"
             ],
             [
              0.5555555555555556,
              "#d8576b"
             ],
             [
              0.6666666666666666,
              "#ed7953"
             ],
             [
              0.7777777777777778,
              "#fb9f3a"
             ],
             [
              0.8888888888888888,
              "#fdca26"
             ],
             [
              1,
              "#f0f921"
             ]
            ],
            "type": "contour"
           }
          ],
          "contourcarpet": [
           {
            "colorbar": {
             "outlinewidth": 0,
             "ticks": ""
            },
            "type": "contourcarpet"
           }
          ],
          "heatmap": [
           {
            "colorbar": {
             "outlinewidth": 0,
             "ticks": ""
            },
            "colorscale": [
             [
              0,
              "#0d0887"
             ],
             [
              0.1111111111111111,
              "#46039f"
             ],
             [
              0.2222222222222222,
              "#7201a8"
             ],
             [
              0.3333333333333333,
              "#9c179e"
             ],
             [
              0.4444444444444444,
              "#bd3786"
             ],
             [
              0.5555555555555556,
              "#d8576b"
             ],
             [
              0.6666666666666666,
              "#ed7953"
             ],
             [
              0.7777777777777778,
              "#fb9f3a"
             ],
             [
              0.8888888888888888,
              "#fdca26"
             ],
             [
              1,
              "#f0f921"
             ]
            ],
            "type": "heatmap"
           }
          ],
          "heatmapgl": [
           {
            "colorbar": {
             "outlinewidth": 0,
             "ticks": ""
            },
            "colorscale": [
             [
              0,
              "#0d0887"
             ],
             [
              0.1111111111111111,
              "#46039f"
             ],
             [
              0.2222222222222222,
              "#7201a8"
             ],
             [
              0.3333333333333333,
              "#9c179e"
             ],
             [
              0.4444444444444444,
              "#bd3786"
             ],
             [
              0.5555555555555556,
              "#d8576b"
             ],
             [
              0.6666666666666666,
              "#ed7953"
             ],
             [
              0.7777777777777778,
              "#fb9f3a"
             ],
             [
              0.8888888888888888,
              "#fdca26"
             ],
             [
              1,
              "#f0f921"
             ]
            ],
            "type": "heatmapgl"
           }
          ],
          "histogram": [
           {
            "marker": {
             "pattern": {
              "fillmode": "overlay",
              "size": 10,
              "solidity": 0.2
             }
            },
            "type": "histogram"
           }
          ],
          "histogram2d": [
           {
            "colorbar": {
             "outlinewidth": 0,
             "ticks": ""
            },
            "colorscale": [
             [
              0,
              "#0d0887"
             ],
             [
              0.1111111111111111,
              "#46039f"
             ],
             [
              0.2222222222222222,
              "#7201a8"
             ],
             [
              0.3333333333333333,
              "#9c179e"
             ],
             [
              0.4444444444444444,
              "#bd3786"
             ],
             [
              0.5555555555555556,
              "#d8576b"
             ],
             [
              0.6666666666666666,
              "#ed7953"
             ],
             [
              0.7777777777777778,
              "#fb9f3a"
             ],
             [
              0.8888888888888888,
              "#fdca26"
             ],
             [
              1,
              "#f0f921"
             ]
            ],
            "type": "histogram2d"
           }
          ],
          "histogram2dcontour": [
           {
            "colorbar": {
             "outlinewidth": 0,
             "ticks": ""
            },
            "colorscale": [
             [
              0,
              "#0d0887"
             ],
             [
              0.1111111111111111,
              "#46039f"
             ],
             [
              0.2222222222222222,
              "#7201a8"
             ],
             [
              0.3333333333333333,
              "#9c179e"
             ],
             [
              0.4444444444444444,
              "#bd3786"
             ],
             [
              0.5555555555555556,
              "#d8576b"
             ],
             [
              0.6666666666666666,
              "#ed7953"
             ],
             [
              0.7777777777777778,
              "#fb9f3a"
             ],
             [
              0.8888888888888888,
              "#fdca26"
             ],
             [
              1,
              "#f0f921"
             ]
            ],
            "type": "histogram2dcontour"
           }
          ],
          "mesh3d": [
           {
            "colorbar": {
             "outlinewidth": 0,
             "ticks": ""
            },
            "type": "mesh3d"
           }
          ],
          "parcoords": [
           {
            "line": {
             "colorbar": {
              "outlinewidth": 0,
              "ticks": ""
             }
            },
            "type": "parcoords"
           }
          ],
          "pie": [
           {
            "automargin": true,
            "type": "pie"
           }
          ],
          "scatter": [
           {
            "fillpattern": {
             "fillmode": "overlay",
             "size": 10,
             "solidity": 0.2
            },
            "type": "scatter"
           }
          ],
          "scatter3d": [
           {
            "line": {
             "colorbar": {
              "outlinewidth": 0,
              "ticks": ""
             }
            },
            "marker": {
             "colorbar": {
              "outlinewidth": 0,
              "ticks": ""
             }
            },
            "type": "scatter3d"
           }
          ],
          "scattercarpet": [
           {
            "marker": {
             "colorbar": {
              "outlinewidth": 0,
              "ticks": ""
             }
            },
            "type": "scattercarpet"
           }
          ],
          "scattergeo": [
           {
            "marker": {
             "colorbar": {
              "outlinewidth": 0,
              "ticks": ""
             }
            },
            "type": "scattergeo"
           }
          ],
          "scattergl": [
           {
            "marker": {
             "colorbar": {
              "outlinewidth": 0,
              "ticks": ""
             }
            },
            "type": "scattergl"
           }
          ],
          "scattermapbox": [
           {
            "marker": {
             "colorbar": {
              "outlinewidth": 0,
              "ticks": ""
             }
            },
            "type": "scattermapbox"
           }
          ],
          "scatterpolar": [
           {
            "marker": {
             "colorbar": {
              "outlinewidth": 0,
              "ticks": ""
             }
            },
            "type": "scatterpolar"
           }
          ],
          "scatterpolargl": [
           {
            "marker": {
             "colorbar": {
              "outlinewidth": 0,
              "ticks": ""
             }
            },
            "type": "scatterpolargl"
           }
          ],
          "scatterternary": [
           {
            "marker": {
             "colorbar": {
              "outlinewidth": 0,
              "ticks": ""
             }
            },
            "type": "scatterternary"
           }
          ],
          "surface": [
           {
            "colorbar": {
             "outlinewidth": 0,
             "ticks": ""
            },
            "colorscale": [
             [
              0,
              "#0d0887"
             ],
             [
              0.1111111111111111,
              "#46039f"
             ],
             [
              0.2222222222222222,
              "#7201a8"
             ],
             [
              0.3333333333333333,
              "#9c179e"
             ],
             [
              0.4444444444444444,
              "#bd3786"
             ],
             [
              0.5555555555555556,
              "#d8576b"
             ],
             [
              0.6666666666666666,
              "#ed7953"
             ],
             [
              0.7777777777777778,
              "#fb9f3a"
             ],
             [
              0.8888888888888888,
              "#fdca26"
             ],
             [
              1,
              "#f0f921"
             ]
            ],
            "type": "surface"
           }
          ],
          "table": [
           {
            "cells": {
             "fill": {
              "color": "#EBF0F8"
             },
             "line": {
              "color": "white"
             }
            },
            "header": {
             "fill": {
              "color": "#C8D4E3"
             },
             "line": {
              "color": "white"
             }
            },
            "type": "table"
           }
          ]
         },
         "layout": {
          "annotationdefaults": {
           "arrowcolor": "#2a3f5f",
           "arrowhead": 0,
           "arrowwidth": 1
          },
          "autotypenumbers": "strict",
          "coloraxis": {
           "colorbar": {
            "outlinewidth": 0,
            "ticks": ""
           }
          },
          "colorscale": {
           "diverging": [
            [
             0,
             "#8e0152"
            ],
            [
             0.1,
             "#c51b7d"
            ],
            [
             0.2,
             "#de77ae"
            ],
            [
             0.3,
             "#f1b6da"
            ],
            [
             0.4,
             "#fde0ef"
            ],
            [
             0.5,
             "#f7f7f7"
            ],
            [
             0.6,
             "#e6f5d0"
            ],
            [
             0.7,
             "#b8e186"
            ],
            [
             0.8,
             "#7fbc41"
            ],
            [
             0.9,
             "#4d9221"
            ],
            [
             1,
             "#276419"
            ]
           ],
           "sequential": [
            [
             0,
             "#0d0887"
            ],
            [
             0.1111111111111111,
             "#46039f"
            ],
            [
             0.2222222222222222,
             "#7201a8"
            ],
            [
             0.3333333333333333,
             "#9c179e"
            ],
            [
             0.4444444444444444,
             "#bd3786"
            ],
            [
             0.5555555555555556,
             "#d8576b"
            ],
            [
             0.6666666666666666,
             "#ed7953"
            ],
            [
             0.7777777777777778,
             "#fb9f3a"
            ],
            [
             0.8888888888888888,
             "#fdca26"
            ],
            [
             1,
             "#f0f921"
            ]
           ],
           "sequentialminus": [
            [
             0,
             "#0d0887"
            ],
            [
             0.1111111111111111,
             "#46039f"
            ],
            [
             0.2222222222222222,
             "#7201a8"
            ],
            [
             0.3333333333333333,
             "#9c179e"
            ],
            [
             0.4444444444444444,
             "#bd3786"
            ],
            [
             0.5555555555555556,
             "#d8576b"
            ],
            [
             0.6666666666666666,
             "#ed7953"
            ],
            [
             0.7777777777777778,
             "#fb9f3a"
            ],
            [
             0.8888888888888888,
             "#fdca26"
            ],
            [
             1,
             "#f0f921"
            ]
           ]
          },
          "colorway": [
           "#636efa",
           "#EF553B",
           "#00cc96",
           "#ab63fa",
           "#FFA15A",
           "#19d3f3",
           "#FF6692",
           "#B6E880",
           "#FF97FF",
           "#FECB52"
          ],
          "font": {
           "color": "#2a3f5f"
          },
          "geo": {
           "bgcolor": "white",
           "lakecolor": "white",
           "landcolor": "#E5ECF6",
           "showlakes": true,
           "showland": true,
           "subunitcolor": "white"
          },
          "hoverlabel": {
           "align": "left"
          },
          "hovermode": "closest",
          "mapbox": {
           "style": "light"
          },
          "paper_bgcolor": "white",
          "plot_bgcolor": "#E5ECF6",
          "polar": {
           "angularaxis": {
            "gridcolor": "white",
            "linecolor": "white",
            "ticks": ""
           },
           "bgcolor": "#E5ECF6",
           "radialaxis": {
            "gridcolor": "white",
            "linecolor": "white",
            "ticks": ""
           }
          },
          "scene": {
           "xaxis": {
            "backgroundcolor": "#E5ECF6",
            "gridcolor": "white",
            "gridwidth": 2,
            "linecolor": "white",
            "showbackground": true,
            "ticks": "",
            "zerolinecolor": "white"
           },
           "yaxis": {
            "backgroundcolor": "#E5ECF6",
            "gridcolor": "white",
            "gridwidth": 2,
            "linecolor": "white",
            "showbackground": true,
            "ticks": "",
            "zerolinecolor": "white"
           },
           "zaxis": {
            "backgroundcolor": "#E5ECF6",
            "gridcolor": "white",
            "gridwidth": 2,
            "linecolor": "white",
            "showbackground": true,
            "ticks": "",
            "zerolinecolor": "white"
           }
          },
          "shapedefaults": {
           "line": {
            "color": "#2a3f5f"
           }
          },
          "ternary": {
           "aaxis": {
            "gridcolor": "white",
            "linecolor": "white",
            "ticks": ""
           },
           "baxis": {
            "gridcolor": "white",
            "linecolor": "white",
            "ticks": ""
           },
           "bgcolor": "#E5ECF6",
           "caxis": {
            "gridcolor": "white",
            "linecolor": "white",
            "ticks": ""
           }
          },
          "title": {
           "x": 0.05
          },
          "xaxis": {
           "automargin": true,
           "gridcolor": "white",
           "linecolor": "white",
           "ticks": "",
           "title": {
            "standoff": 15
           },
           "zerolinecolor": "white",
           "zerolinewidth": 2
          },
          "yaxis": {
           "automargin": true,
           "gridcolor": "white",
           "linecolor": "white",
           "ticks": "",
           "title": {
            "standoff": 15
           },
           "zerolinecolor": "white",
           "zerolinewidth": 2
          }
         }
        },
        "title": {
         "text": "Group of models versus metrics"
        },
        "yaxis": {
         "title": {
          "text": "Value"
         }
        }
       }
      }
     },
     "metadata": {},
     "output_type": "display_data"
    },
    {
     "name": "stdout",
     "output_type": "stream",
     "text": [
      " Confusion matrix -----------------------------------\n"
     ]
    },
    {
     "data": {
      "text/html": [
       "<div>\n",
       "<style scoped>\n",
       "    .dataframe tbody tr th:only-of-type {\n",
       "        vertical-align: middle;\n",
       "    }\n",
       "\n",
       "    .dataframe tbody tr th {\n",
       "        vertical-align: top;\n",
       "    }\n",
       "\n",
       "    .dataframe thead th {\n",
       "        text-align: right;\n",
       "    }\n",
       "</style>\n",
       "<table border=\"1\" class=\"dataframe\">\n",
       "  <thead>\n",
       "    <tr style=\"text-align: right;\">\n",
       "      <th>Prediction</th>\n",
       "      <th>0</th>\n",
       "      <th>1</th>\n",
       "    </tr>\n",
       "    <tr>\n",
       "      <th>Real</th>\n",
       "      <th></th>\n",
       "      <th></th>\n",
       "    </tr>\n",
       "  </thead>\n",
       "  <tbody>\n",
       "    <tr>\n",
       "      <th>0</th>\n",
       "      <td>445</td>\n",
       "      <td>94</td>\n",
       "    </tr>\n",
       "    <tr>\n",
       "      <th>1</th>\n",
       "      <td>345</td>\n",
       "      <td>3784</td>\n",
       "    </tr>\n",
       "  </tbody>\n",
       "</table>\n",
       "</div>"
      ],
      "text/plain": [
       "Prediction    0     1\n",
       "Real                 \n",
       "0           445    94\n",
       "1           345  3784"
      ]
     },
     "metadata": {},
     "output_type": "display_data"
    },
    {
     "name": "stdout",
     "output_type": "stream",
     "text": [
      " Classification Report -------------------------------\n",
      "              precision    recall  f1-score   support\n",
      "\n",
      "           0       0.56      0.83      0.67       539\n",
      "           1       0.98      0.92      0.95      4129\n",
      "\n",
      "    accuracy                           0.91      4668\n",
      "   macro avg       0.77      0.87      0.81      4668\n",
      "weighted avg       0.93      0.91      0.91      4668\n",
      "\n"
     ]
    }
   ],
   "source": [
    "#model GRU_0\n",
    "model_name = \"GRU_0\"\n",
    "\n",
    "embedding_size = 100\n",
    "model = Sequential()\n",
    "\n",
    "model.add(Embedding(input_dim=num_words, \n",
    "                    output_dim=embedding_size, \n",
    "                    input_length=max_tokens,\n",
    "                    name=\"embedding_layer\"))\n",
    "\n",
    "model.add(GRU(units=48, return_sequences=True))\n",
    "model.add(GRU(units=24, return_sequences=True)) \n",
    "model.add(GRU(units=12))\n",
    "model.add(Dense(1, activation='sigmoid'))\n",
    "\n",
    "# Compile\n",
    "optimizer = Adam(learning_rate=0.006)\n",
    "model.compile(loss='binary_crossentropy', optimizer=optimizer, metrics=['recall'])\n",
    "\n",
    "model.summary()\n",
    "\n",
    "\n",
    "# fit and evaluate\n",
    "weights = {0:88, 1:18}\n",
    "\n",
    "t0 = time()\n",
    "model.fit(X_train, y_train, \n",
    "          epochs=30, \n",
    "          batch_size=256, \n",
    "          class_weight=weights,\n",
    "          validation_data=(X_test, y_test), \n",
    "          callbacks=[early_stop])\n",
    "time_train = time() - t0\n",
    "\n",
    "results = model.evaluate(X_test, y_test)\n",
    "print(\"results:\", results)\n",
    "\n",
    "# prediction\n",
    "t1 = time()\n",
    "pred = model.predict(X_test)\n",
    "time_predict = time() - t1  # records duration of predicting\n",
    "prediction = (1 * (pred >= 0.5))[:, 0]\n",
    "\n",
    "accuracy = metrics.accuracy_score(y_test, prediction)\n",
    "# The balanced accuracy in binary and multiclass classification problems\n",
    "# to deal with imbalanced datasets.\n",
    "# It is defined as the average of recall obtained on each class.\n",
    "# The best value is 1 and the worst value is 0 when adjusted=False.\n",
    "balanced_accuracy = metrics.balanced_accuracy_score(y_test, prediction)\n",
    "\n",
    "f1_score = metrics.f1_score(y_test, prediction)\n",
    "f1_score_macro = metrics.f1_score(y_test, prediction, average=\"macro\")\n",
    "f1_score_weighted = metrics.f1_score(y_test, prediction, average=\"weighted\")\n",
    "\n",
    "recall = metrics.recall_score(y_test, prediction, pos_label=0)\n",
    "recall_macro = metrics.recall_score(y_test, prediction, average=\"macro\")\n",
    "recall_weighted = metrics.recall_score(y_test, prediction, average=\"weighted\")\n",
    "\n",
    "# precision is intuitively the ability of the classifier not to label as positive a sample that is negative.\n",
    "# we set pos_label=0 : that is negative rating (rating <=3)\n",
    "precision = metrics.precision_score(y_test, prediction, pos_label=0)\n",
    "precision_macro = metrics.precision_score(y_test, prediction, average=\"macro\")\n",
    "precision_weighted = metrics.precision_score(y_test, prediction, average=\"weighted\")\n",
    "\n",
    "cl_report = metrics.classification_report(y_test, prediction)\n",
    "cf_matrix = pd.crosstab(y_test, prediction, rownames=[\"Real\"], colnames=[\"Prediction\"])\n",
    "\n",
    "# put metrics into a dictionnary and into a DataFrame\n",
    "res = {\n",
    "        \"model\": model_name,\n",
    "        \"accuracy\": accuracy,\n",
    "        \"balanced_accuracy\": balanced_accuracy,\n",
    "        \"f1\": f1_score,\n",
    "        \"f1_macro\": f1_score_macro,\n",
    "        \"f1_weighted\": f1_score_weighted,\n",
    "        \"recall_0\": recall,\n",
    "        \"recall_macro\": recall_macro,\n",
    "        \"recall_weighted\": recall_weighted,\n",
    "        \"precision_0\": precision,\n",
    "        \"precision_macro\": precision_macro,\n",
    "        \"precision_weighted\": precision_weighted,\n",
    "        \"time_train\": time_train,\n",
    "        \"time_predict\": time_predict,\n",
    "    }\n",
    "\n",
    "# DataFrame of model's performance\n",
    "df_p = pd.DataFrame(res, index=[0])\n",
    "\n",
    "# Save performance data in a csv file\n",
    "file_name = \"perf_\"+model_name+\".csv\"\n",
    "df_p.to_csv(file_name)\n",
    "\n",
    "# perf data to plot\n",
    "data = df_p.iloc[:,:-2]\n",
    "\n",
    "# Radar chart of model's performance\n",
    "plot_radar_metrics(data, model_name)\n",
    "\n",
    "# Barplot of models performance\n",
    "model_list=[model_name]\n",
    "barplot_models_group_vs_metric(data, model_list)\n",
    "\n",
    "\n",
    "print(\" Confusion matrix -----------------------------------\")\n",
    "display(cf_matrix)\n",
    "print(\" Classification Report -------------------------------\")\n",
    "print(cl_report)"
   ]
  },
  {
   "cell_type": "code",
   "execution_count": 33,
   "id": "75ded834-88cc-46a2-b57c-253b9cea6def",
   "metadata": {},
   "outputs": [
    {
     "name": "stdout",
     "output_type": "stream",
     "text": [
      "Model: \"sequential_6\"\n",
      "_________________________________________________________________\n",
      " Layer (type)                Output Shape              Param #   \n",
      "=================================================================\n",
      " embedding_layer (Embedding  (None, 148, 100)          1000000   \n",
      " )                                                               \n",
      "                                                                 \n",
      " gru_18 (GRU)                (None, 148, 128)          88320     \n",
      "                                                                 \n",
      " gru_19 (GRU)                (None, 148, 64)           37248     \n",
      "                                                                 \n",
      " gru_20 (GRU)                (None, 12)                2808      \n",
      "                                                                 \n",
      " dense_6 (Dense)             (None, 1)                 13        \n",
      "                                                                 \n",
      "=================================================================\n",
      "Total params: 1128389 (4.30 MB)\n",
      "Trainable params: 1128389 (4.30 MB)\n",
      "Non-trainable params: 0 (0.00 Byte)\n",
      "_________________________________________________________________\n",
      "Epoch 1/30\n",
      "73/73 [==============================] - 67s 805ms/step - loss: 9.1283 - accuracy: 0.8653 - val_loss: 0.2147 - val_accuracy: 0.9085\n",
      "Epoch 2/30\n",
      "73/73 [==============================] - 57s 781ms/step - loss: 5.4566 - accuracy: 0.9290 - val_loss: 0.1862 - val_accuracy: 0.9319\n",
      "Epoch 3/30\n",
      "73/73 [==============================] - 60s 820ms/step - loss: 4.1481 - accuracy: 0.9480 - val_loss: 0.2589 - val_accuracy: 0.9062\n",
      "Epoch 4/30\n",
      "73/73 [==============================] - 58s 796ms/step - loss: 3.3028 - accuracy: 0.9606 - val_loss: 0.2320 - val_accuracy: 0.9190\n",
      "Epoch 5/30\n",
      "73/73 [==============================] - 55s 759ms/step - loss: 2.6995 - accuracy: 0.9704 - val_loss: 0.2868 - val_accuracy: 0.9068\n",
      "Epoch 6/30\n",
      "73/73 [==============================] - 56s 764ms/step - loss: 2.1829 - accuracy: 0.9778 - val_loss: 0.2598 - val_accuracy: 0.9177\n",
      "Epoch 7/30\n",
      "73/73 [==============================] - 59s 803ms/step - loss: 1.9739 - accuracy: 0.9788 - val_loss: 0.2911 - val_accuracy: 0.9132\n",
      "Epoch 8/30\n",
      "73/73 [==============================] - 58s 796ms/step - loss: 1.9700 - accuracy: 0.9803 - val_loss: 0.2968 - val_accuracy: 0.9165\n",
      "Epoch 9/30\n",
      "73/73 [==============================] - 56s 765ms/step - loss: 1.8302 - accuracy: 0.9818 - val_loss: 0.2936 - val_accuracy: 0.9109\n",
      "Epoch 10/30\n",
      "73/73 [==============================] - 58s 801ms/step - loss: 1.6777 - accuracy: 0.9834 - val_loss: 0.3058 - val_accuracy: 0.9128\n",
      "Epoch 11/30\n",
      "73/73 [==============================] - 59s 802ms/step - loss: 1.4596 - accuracy: 0.9867 - val_loss: 0.3649 - val_accuracy: 0.9130\n",
      "Epoch 12/30\n",
      "73/73 [==============================] - ETA: 0s - loss: 1.2631 - accuracy: 0.9874Restoring model weights from the end of the best epoch: 2.\n",
      "73/73 [==============================] - 58s 790ms/step - loss: 1.2631 - accuracy: 0.9874 - val_loss: 0.3316 - val_accuracy: 0.9160\n",
      "Epoch 12: early stopping\n",
      "146/146 [==============================] - 6s 38ms/step - loss: 0.1862 - accuracy: 0.9319\n",
      "results: [0.1861729472875595, 0.9318765997886658]\n",
      "146/146 [==============================] - 7s 37ms/step\n"
     ]
    },
    {
     "data": {
      "application/vnd.plotly.v1+json": {
       "config": {
        "plotlyServerURL": "https://plot.ly"
       },
       "data": [
        {
         "fill": "toself",
         "hovertemplate": "r=%{r}<br>theta=%{theta}<extra></extra>",
         "legendgroup": "",
         "line": {
          "color": "#636efa",
          "dash": "solid"
         },
         "marker": {
          "symbol": "circle"
         },
         "mode": "markers+lines",
         "name": "",
         "r": [
          "GRU_1",
          0.9318766066838047,
          0.8606732505635734,
          0.9611721611721613,
          0.8418426250886986,
          0.9336149118366915,
          0.7680890538033395,
          0.8606732505635734,
          0.9318766066838047,
          0.6820428336079077,
          0.8256311188477854,
          0.9360599843171858,
          "GRU_1"
         ],
         "showlegend": false,
         "subplot": "polar",
         "theta": [
          "model",
          "accuracy",
          "balanced_accuracy",
          "f1",
          "f1_macro",
          "f1_weighted",
          "recall_0",
          "recall_macro",
          "recall_weighted",
          "precision_0",
          "precision_macro",
          "precision_weighted",
          "model"
         ],
         "type": "scatterpolar"
        }
       ],
       "layout": {
        "height": 500,
        "legend": {
         "tracegroupgap": 0
        },
        "margin": {
         "t": 60
        },
        "polar": {
         "angularaxis": {
          "direction": "clockwise",
          "rotation": 90
         },
         "domain": {
          "x": [
           0,
           1
          ],
          "y": [
           0,
           1
          ]
         }
        },
        "template": {
         "data": {
          "bar": [
           {
            "error_x": {
             "color": "#2a3f5f"
            },
            "error_y": {
             "color": "#2a3f5f"
            },
            "marker": {
             "line": {
              "color": "#E5ECF6",
              "width": 0.5
             },
             "pattern": {
              "fillmode": "overlay",
              "size": 10,
              "solidity": 0.2
             }
            },
            "type": "bar"
           }
          ],
          "barpolar": [
           {
            "marker": {
             "line": {
              "color": "#E5ECF6",
              "width": 0.5
             },
             "pattern": {
              "fillmode": "overlay",
              "size": 10,
              "solidity": 0.2
             }
            },
            "type": "barpolar"
           }
          ],
          "carpet": [
           {
            "aaxis": {
             "endlinecolor": "#2a3f5f",
             "gridcolor": "white",
             "linecolor": "white",
             "minorgridcolor": "white",
             "startlinecolor": "#2a3f5f"
            },
            "baxis": {
             "endlinecolor": "#2a3f5f",
             "gridcolor": "white",
             "linecolor": "white",
             "minorgridcolor": "white",
             "startlinecolor": "#2a3f5f"
            },
            "type": "carpet"
           }
          ],
          "choropleth": [
           {
            "colorbar": {
             "outlinewidth": 0,
             "ticks": ""
            },
            "type": "choropleth"
           }
          ],
          "contour": [
           {
            "colorbar": {
             "outlinewidth": 0,
             "ticks": ""
            },
            "colorscale": [
             [
              0,
              "#0d0887"
             ],
             [
              0.1111111111111111,
              "#46039f"
             ],
             [
              0.2222222222222222,
              "#7201a8"
             ],
             [
              0.3333333333333333,
              "#9c179e"
             ],
             [
              0.4444444444444444,
              "#bd3786"
             ],
             [
              0.5555555555555556,
              "#d8576b"
             ],
             [
              0.6666666666666666,
              "#ed7953"
             ],
             [
              0.7777777777777778,
              "#fb9f3a"
             ],
             [
              0.8888888888888888,
              "#fdca26"
             ],
             [
              1,
              "#f0f921"
             ]
            ],
            "type": "contour"
           }
          ],
          "contourcarpet": [
           {
            "colorbar": {
             "outlinewidth": 0,
             "ticks": ""
            },
            "type": "contourcarpet"
           }
          ],
          "heatmap": [
           {
            "colorbar": {
             "outlinewidth": 0,
             "ticks": ""
            },
            "colorscale": [
             [
              0,
              "#0d0887"
             ],
             [
              0.1111111111111111,
              "#46039f"
             ],
             [
              0.2222222222222222,
              "#7201a8"
             ],
             [
              0.3333333333333333,
              "#9c179e"
             ],
             [
              0.4444444444444444,
              "#bd3786"
             ],
             [
              0.5555555555555556,
              "#d8576b"
             ],
             [
              0.6666666666666666,
              "#ed7953"
             ],
             [
              0.7777777777777778,
              "#fb9f3a"
             ],
             [
              0.8888888888888888,
              "#fdca26"
             ],
             [
              1,
              "#f0f921"
             ]
            ],
            "type": "heatmap"
           }
          ],
          "heatmapgl": [
           {
            "colorbar": {
             "outlinewidth": 0,
             "ticks": ""
            },
            "colorscale": [
             [
              0,
              "#0d0887"
             ],
             [
              0.1111111111111111,
              "#46039f"
             ],
             [
              0.2222222222222222,
              "#7201a8"
             ],
             [
              0.3333333333333333,
              "#9c179e"
             ],
             [
              0.4444444444444444,
              "#bd3786"
             ],
             [
              0.5555555555555556,
              "#d8576b"
             ],
             [
              0.6666666666666666,
              "#ed7953"
             ],
             [
              0.7777777777777778,
              "#fb9f3a"
             ],
             [
              0.8888888888888888,
              "#fdca26"
             ],
             [
              1,
              "#f0f921"
             ]
            ],
            "type": "heatmapgl"
           }
          ],
          "histogram": [
           {
            "marker": {
             "pattern": {
              "fillmode": "overlay",
              "size": 10,
              "solidity": 0.2
             }
            },
            "type": "histogram"
           }
          ],
          "histogram2d": [
           {
            "colorbar": {
             "outlinewidth": 0,
             "ticks": ""
            },
            "colorscale": [
             [
              0,
              "#0d0887"
             ],
             [
              0.1111111111111111,
              "#46039f"
             ],
             [
              0.2222222222222222,
              "#7201a8"
             ],
             [
              0.3333333333333333,
              "#9c179e"
             ],
             [
              0.4444444444444444,
              "#bd3786"
             ],
             [
              0.5555555555555556,
              "#d8576b"
             ],
             [
              0.6666666666666666,
              "#ed7953"
             ],
             [
              0.7777777777777778,
              "#fb9f3a"
             ],
             [
              0.8888888888888888,
              "#fdca26"
             ],
             [
              1,
              "#f0f921"
             ]
            ],
            "type": "histogram2d"
           }
          ],
          "histogram2dcontour": [
           {
            "colorbar": {
             "outlinewidth": 0,
             "ticks": ""
            },
            "colorscale": [
             [
              0,
              "#0d0887"
             ],
             [
              0.1111111111111111,
              "#46039f"
             ],
             [
              0.2222222222222222,
              "#7201a8"
             ],
             [
              0.3333333333333333,
              "#9c179e"
             ],
             [
              0.4444444444444444,
              "#bd3786"
             ],
             [
              0.5555555555555556,
              "#d8576b"
             ],
             [
              0.6666666666666666,
              "#ed7953"
             ],
             [
              0.7777777777777778,
              "#fb9f3a"
             ],
             [
              0.8888888888888888,
              "#fdca26"
             ],
             [
              1,
              "#f0f921"
             ]
            ],
            "type": "histogram2dcontour"
           }
          ],
          "mesh3d": [
           {
            "colorbar": {
             "outlinewidth": 0,
             "ticks": ""
            },
            "type": "mesh3d"
           }
          ],
          "parcoords": [
           {
            "line": {
             "colorbar": {
              "outlinewidth": 0,
              "ticks": ""
             }
            },
            "type": "parcoords"
           }
          ],
          "pie": [
           {
            "automargin": true,
            "type": "pie"
           }
          ],
          "scatter": [
           {
            "fillpattern": {
             "fillmode": "overlay",
             "size": 10,
             "solidity": 0.2
            },
            "type": "scatter"
           }
          ],
          "scatter3d": [
           {
            "line": {
             "colorbar": {
              "outlinewidth": 0,
              "ticks": ""
             }
            },
            "marker": {
             "colorbar": {
              "outlinewidth": 0,
              "ticks": ""
             }
            },
            "type": "scatter3d"
           }
          ],
          "scattercarpet": [
           {
            "marker": {
             "colorbar": {
              "outlinewidth": 0,
              "ticks": ""
             }
            },
            "type": "scattercarpet"
           }
          ],
          "scattergeo": [
           {
            "marker": {
             "colorbar": {
              "outlinewidth": 0,
              "ticks": ""
             }
            },
            "type": "scattergeo"
           }
          ],
          "scattergl": [
           {
            "marker": {
             "colorbar": {
              "outlinewidth": 0,
              "ticks": ""
             }
            },
            "type": "scattergl"
           }
          ],
          "scattermapbox": [
           {
            "marker": {
             "colorbar": {
              "outlinewidth": 0,
              "ticks": ""
             }
            },
            "type": "scattermapbox"
           }
          ],
          "scatterpolar": [
           {
            "marker": {
             "colorbar": {
              "outlinewidth": 0,
              "ticks": ""
             }
            },
            "type": "scatterpolar"
           }
          ],
          "scatterpolargl": [
           {
            "marker": {
             "colorbar": {
              "outlinewidth": 0,
              "ticks": ""
             }
            },
            "type": "scatterpolargl"
           }
          ],
          "scatterternary": [
           {
            "marker": {
             "colorbar": {
              "outlinewidth": 0,
              "ticks": ""
             }
            },
            "type": "scatterternary"
           }
          ],
          "surface": [
           {
            "colorbar": {
             "outlinewidth": 0,
             "ticks": ""
            },
            "colorscale": [
             [
              0,
              "#0d0887"
             ],
             [
              0.1111111111111111,
              "#46039f"
             ],
             [
              0.2222222222222222,
              "#7201a8"
             ],
             [
              0.3333333333333333,
              "#9c179e"
             ],
             [
              0.4444444444444444,
              "#bd3786"
             ],
             [
              0.5555555555555556,
              "#d8576b"
             ],
             [
              0.6666666666666666,
              "#ed7953"
             ],
             [
              0.7777777777777778,
              "#fb9f3a"
             ],
             [
              0.8888888888888888,
              "#fdca26"
             ],
             [
              1,
              "#f0f921"
             ]
            ],
            "type": "surface"
           }
          ],
          "table": [
           {
            "cells": {
             "fill": {
              "color": "#EBF0F8"
             },
             "line": {
              "color": "white"
             }
            },
            "header": {
             "fill": {
              "color": "#C8D4E3"
             },
             "line": {
              "color": "white"
             }
            },
            "type": "table"
           }
          ]
         },
         "layout": {
          "annotationdefaults": {
           "arrowcolor": "#2a3f5f",
           "arrowhead": 0,
           "arrowwidth": 1
          },
          "autotypenumbers": "strict",
          "coloraxis": {
           "colorbar": {
            "outlinewidth": 0,
            "ticks": ""
           }
          },
          "colorscale": {
           "diverging": [
            [
             0,
             "#8e0152"
            ],
            [
             0.1,
             "#c51b7d"
            ],
            [
             0.2,
             "#de77ae"
            ],
            [
             0.3,
             "#f1b6da"
            ],
            [
             0.4,
             "#fde0ef"
            ],
            [
             0.5,
             "#f7f7f7"
            ],
            [
             0.6,
             "#e6f5d0"
            ],
            [
             0.7,
             "#b8e186"
            ],
            [
             0.8,
             "#7fbc41"
            ],
            [
             0.9,
             "#4d9221"
            ],
            [
             1,
             "#276419"
            ]
           ],
           "sequential": [
            [
             0,
             "#0d0887"
            ],
            [
             0.1111111111111111,
             "#46039f"
            ],
            [
             0.2222222222222222,
             "#7201a8"
            ],
            [
             0.3333333333333333,
             "#9c179e"
            ],
            [
             0.4444444444444444,
             "#bd3786"
            ],
            [
             0.5555555555555556,
             "#d8576b"
            ],
            [
             0.6666666666666666,
             "#ed7953"
            ],
            [
             0.7777777777777778,
             "#fb9f3a"
            ],
            [
             0.8888888888888888,
             "#fdca26"
            ],
            [
             1,
             "#f0f921"
            ]
           ],
           "sequentialminus": [
            [
             0,
             "#0d0887"
            ],
            [
             0.1111111111111111,
             "#46039f"
            ],
            [
             0.2222222222222222,
             "#7201a8"
            ],
            [
             0.3333333333333333,
             "#9c179e"
            ],
            [
             0.4444444444444444,
             "#bd3786"
            ],
            [
             0.5555555555555556,
             "#d8576b"
            ],
            [
             0.6666666666666666,
             "#ed7953"
            ],
            [
             0.7777777777777778,
             "#fb9f3a"
            ],
            [
             0.8888888888888888,
             "#fdca26"
            ],
            [
             1,
             "#f0f921"
            ]
           ]
          },
          "colorway": [
           "#636efa",
           "#EF553B",
           "#00cc96",
           "#ab63fa",
           "#FFA15A",
           "#19d3f3",
           "#FF6692",
           "#B6E880",
           "#FF97FF",
           "#FECB52"
          ],
          "font": {
           "color": "#2a3f5f"
          },
          "geo": {
           "bgcolor": "white",
           "lakecolor": "white",
           "landcolor": "#E5ECF6",
           "showlakes": true,
           "showland": true,
           "subunitcolor": "white"
          },
          "hoverlabel": {
           "align": "left"
          },
          "hovermode": "closest",
          "mapbox": {
           "style": "light"
          },
          "paper_bgcolor": "white",
          "plot_bgcolor": "#E5ECF6",
          "polar": {
           "angularaxis": {
            "gridcolor": "white",
            "linecolor": "white",
            "ticks": ""
           },
           "bgcolor": "#E5ECF6",
           "radialaxis": {
            "gridcolor": "white",
            "linecolor": "white",
            "ticks": ""
           }
          },
          "scene": {
           "xaxis": {
            "backgroundcolor": "#E5ECF6",
            "gridcolor": "white",
            "gridwidth": 2,
            "linecolor": "white",
            "showbackground": true,
            "ticks": "",
            "zerolinecolor": "white"
           },
           "yaxis": {
            "backgroundcolor": "#E5ECF6",
            "gridcolor": "white",
            "gridwidth": 2,
            "linecolor": "white",
            "showbackground": true,
            "ticks": "",
            "zerolinecolor": "white"
           },
           "zaxis": {
            "backgroundcolor": "#E5ECF6",
            "gridcolor": "white",
            "gridwidth": 2,
            "linecolor": "white",
            "showbackground": true,
            "ticks": "",
            "zerolinecolor": "white"
           }
          },
          "shapedefaults": {
           "line": {
            "color": "#2a3f5f"
           }
          },
          "ternary": {
           "aaxis": {
            "gridcolor": "white",
            "linecolor": "white",
            "ticks": ""
           },
           "baxis": {
            "gridcolor": "white",
            "linecolor": "white",
            "ticks": ""
           },
           "bgcolor": "#E5ECF6",
           "caxis": {
            "gridcolor": "white",
            "linecolor": "white",
            "ticks": ""
           }
          },
          "title": {
           "x": 0.05
          },
          "xaxis": {
           "automargin": true,
           "gridcolor": "white",
           "linecolor": "white",
           "ticks": "",
           "title": {
            "standoff": 15
           },
           "zerolinecolor": "white",
           "zerolinewidth": 2
          },
          "yaxis": {
           "automargin": true,
           "gridcolor": "white",
           "linecolor": "white",
           "ticks": "",
           "title": {
            "standoff": 15
           },
           "zerolinecolor": "white",
           "zerolinewidth": 2
          }
         }
        },
        "title": {
         "text": "GRU_1 performance",
         "x": 0.5
        },
        "width": 500
       }
      }
     },
     "metadata": {},
     "output_type": "display_data"
    },
    {
     "data": {
      "application/vnd.plotly.v1+json": {
       "config": {
        "plotlyServerURL": "https://plot.ly"
       },
       "data": [
        {
         "name": "GRU_1",
         "offsetgroup": "0",
         "text": [
          "0.93",
          "0.86",
          "0.96",
          "0.84",
          "0.93",
          "0.77",
          "0.86",
          "0.93",
          "0.68",
          "0.83",
          "0.94"
         ],
         "textposition": "auto",
         "type": "bar",
         "x": [
          "accuracy",
          "balanced_accuracy",
          "f1",
          "f1_macro",
          "f1_weighted",
          "recall_0",
          "recall_macro",
          "recall_weighted",
          "precision_0",
          "precision_macro",
          "precision_weighted"
         ],
         "y": [
          0.93,
          0.86,
          0.96,
          0.84,
          0.93,
          0.77,
          0.86,
          0.93,
          0.68,
          0.83,
          0.94
         ]
        }
       ],
       "layout": {
        "shapes": [
         {
          "line": {
           "color": "magenta",
           "dash": "dash",
           "width": 1
          },
          "type": "line",
          "x0": 0,
          "x1": 1,
          "xref": "paper",
          "y0": 0.5,
          "y1": 0.5,
          "yref": "paper"
         }
        ],
        "template": {
         "data": {
          "bar": [
           {
            "error_x": {
             "color": "#2a3f5f"
            },
            "error_y": {
             "color": "#2a3f5f"
            },
            "marker": {
             "line": {
              "color": "#E5ECF6",
              "width": 0.5
             },
             "pattern": {
              "fillmode": "overlay",
              "size": 10,
              "solidity": 0.2
             }
            },
            "type": "bar"
           }
          ],
          "barpolar": [
           {
            "marker": {
             "line": {
              "color": "#E5ECF6",
              "width": 0.5
             },
             "pattern": {
              "fillmode": "overlay",
              "size": 10,
              "solidity": 0.2
             }
            },
            "type": "barpolar"
           }
          ],
          "carpet": [
           {
            "aaxis": {
             "endlinecolor": "#2a3f5f",
             "gridcolor": "white",
             "linecolor": "white",
             "minorgridcolor": "white",
             "startlinecolor": "#2a3f5f"
            },
            "baxis": {
             "endlinecolor": "#2a3f5f",
             "gridcolor": "white",
             "linecolor": "white",
             "minorgridcolor": "white",
             "startlinecolor": "#2a3f5f"
            },
            "type": "carpet"
           }
          ],
          "choropleth": [
           {
            "colorbar": {
             "outlinewidth": 0,
             "ticks": ""
            },
            "type": "choropleth"
           }
          ],
          "contour": [
           {
            "colorbar": {
             "outlinewidth": 0,
             "ticks": ""
            },
            "colorscale": [
             [
              0,
              "#0d0887"
             ],
             [
              0.1111111111111111,
              "#46039f"
             ],
             [
              0.2222222222222222,
              "#7201a8"
             ],
             [
              0.3333333333333333,
              "#9c179e"
             ],
             [
              0.4444444444444444,
              "#bd3786"
             ],
             [
              0.5555555555555556,
              "#d8576b"
             ],
             [
              0.6666666666666666,
              "#ed7953"
             ],
             [
              0.7777777777777778,
              "#fb9f3a"
             ],
             [
              0.8888888888888888,
              "#fdca26"
             ],
             [
              1,
              "#f0f921"
             ]
            ],
            "type": "contour"
           }
          ],
          "contourcarpet": [
           {
            "colorbar": {
             "outlinewidth": 0,
             "ticks": ""
            },
            "type": "contourcarpet"
           }
          ],
          "heatmap": [
           {
            "colorbar": {
             "outlinewidth": 0,
             "ticks": ""
            },
            "colorscale": [
             [
              0,
              "#0d0887"
             ],
             [
              0.1111111111111111,
              "#46039f"
             ],
             [
              0.2222222222222222,
              "#7201a8"
             ],
             [
              0.3333333333333333,
              "#9c179e"
             ],
             [
              0.4444444444444444,
              "#bd3786"
             ],
             [
              0.5555555555555556,
              "#d8576b"
             ],
             [
              0.6666666666666666,
              "#ed7953"
             ],
             [
              0.7777777777777778,
              "#fb9f3a"
             ],
             [
              0.8888888888888888,
              "#fdca26"
             ],
             [
              1,
              "#f0f921"
             ]
            ],
            "type": "heatmap"
           }
          ],
          "heatmapgl": [
           {
            "colorbar": {
             "outlinewidth": 0,
             "ticks": ""
            },
            "colorscale": [
             [
              0,
              "#0d0887"
             ],
             [
              0.1111111111111111,
              "#46039f"
             ],
             [
              0.2222222222222222,
              "#7201a8"
             ],
             [
              0.3333333333333333,
              "#9c179e"
             ],
             [
              0.4444444444444444,
              "#bd3786"
             ],
             [
              0.5555555555555556,
              "#d8576b"
             ],
             [
              0.6666666666666666,
              "#ed7953"
             ],
             [
              0.7777777777777778,
              "#fb9f3a"
             ],
             [
              0.8888888888888888,
              "#fdca26"
             ],
             [
              1,
              "#f0f921"
             ]
            ],
            "type": "heatmapgl"
           }
          ],
          "histogram": [
           {
            "marker": {
             "pattern": {
              "fillmode": "overlay",
              "size": 10,
              "solidity": 0.2
             }
            },
            "type": "histogram"
           }
          ],
          "histogram2d": [
           {
            "colorbar": {
             "outlinewidth": 0,
             "ticks": ""
            },
            "colorscale": [
             [
              0,
              "#0d0887"
             ],
             [
              0.1111111111111111,
              "#46039f"
             ],
             [
              0.2222222222222222,
              "#7201a8"
             ],
             [
              0.3333333333333333,
              "#9c179e"
             ],
             [
              0.4444444444444444,
              "#bd3786"
             ],
             [
              0.5555555555555556,
              "#d8576b"
             ],
             [
              0.6666666666666666,
              "#ed7953"
             ],
             [
              0.7777777777777778,
              "#fb9f3a"
             ],
             [
              0.8888888888888888,
              "#fdca26"
             ],
             [
              1,
              "#f0f921"
             ]
            ],
            "type": "histogram2d"
           }
          ],
          "histogram2dcontour": [
           {
            "colorbar": {
             "outlinewidth": 0,
             "ticks": ""
            },
            "colorscale": [
             [
              0,
              "#0d0887"
             ],
             [
              0.1111111111111111,
              "#46039f"
             ],
             [
              0.2222222222222222,
              "#7201a8"
             ],
             [
              0.3333333333333333,
              "#9c179e"
             ],
             [
              0.4444444444444444,
              "#bd3786"
             ],
             [
              0.5555555555555556,
              "#d8576b"
             ],
             [
              0.6666666666666666,
              "#ed7953"
             ],
             [
              0.7777777777777778,
              "#fb9f3a"
             ],
             [
              0.8888888888888888,
              "#fdca26"
             ],
             [
              1,
              "#f0f921"
             ]
            ],
            "type": "histogram2dcontour"
           }
          ],
          "mesh3d": [
           {
            "colorbar": {
             "outlinewidth": 0,
             "ticks": ""
            },
            "type": "mesh3d"
           }
          ],
          "parcoords": [
           {
            "line": {
             "colorbar": {
              "outlinewidth": 0,
              "ticks": ""
             }
            },
            "type": "parcoords"
           }
          ],
          "pie": [
           {
            "automargin": true,
            "type": "pie"
           }
          ],
          "scatter": [
           {
            "fillpattern": {
             "fillmode": "overlay",
             "size": 10,
             "solidity": 0.2
            },
            "type": "scatter"
           }
          ],
          "scatter3d": [
           {
            "line": {
             "colorbar": {
              "outlinewidth": 0,
              "ticks": ""
             }
            },
            "marker": {
             "colorbar": {
              "outlinewidth": 0,
              "ticks": ""
             }
            },
            "type": "scatter3d"
           }
          ],
          "scattercarpet": [
           {
            "marker": {
             "colorbar": {
              "outlinewidth": 0,
              "ticks": ""
             }
            },
            "type": "scattercarpet"
           }
          ],
          "scattergeo": [
           {
            "marker": {
             "colorbar": {
              "outlinewidth": 0,
              "ticks": ""
             }
            },
            "type": "scattergeo"
           }
          ],
          "scattergl": [
           {
            "marker": {
             "colorbar": {
              "outlinewidth": 0,
              "ticks": ""
             }
            },
            "type": "scattergl"
           }
          ],
          "scattermapbox": [
           {
            "marker": {
             "colorbar": {
              "outlinewidth": 0,
              "ticks": ""
             }
            },
            "type": "scattermapbox"
           }
          ],
          "scatterpolar": [
           {
            "marker": {
             "colorbar": {
              "outlinewidth": 0,
              "ticks": ""
             }
            },
            "type": "scatterpolar"
           }
          ],
          "scatterpolargl": [
           {
            "marker": {
             "colorbar": {
              "outlinewidth": 0,
              "ticks": ""
             }
            },
            "type": "scatterpolargl"
           }
          ],
          "scatterternary": [
           {
            "marker": {
             "colorbar": {
              "outlinewidth": 0,
              "ticks": ""
             }
            },
            "type": "scatterternary"
           }
          ],
          "surface": [
           {
            "colorbar": {
             "outlinewidth": 0,
             "ticks": ""
            },
            "colorscale": [
             [
              0,
              "#0d0887"
             ],
             [
              0.1111111111111111,
              "#46039f"
             ],
             [
              0.2222222222222222,
              "#7201a8"
             ],
             [
              0.3333333333333333,
              "#9c179e"
             ],
             [
              0.4444444444444444,
              "#bd3786"
             ],
             [
              0.5555555555555556,
              "#d8576b"
             ],
             [
              0.6666666666666666,
              "#ed7953"
             ],
             [
              0.7777777777777778,
              "#fb9f3a"
             ],
             [
              0.8888888888888888,
              "#fdca26"
             ],
             [
              1,
              "#f0f921"
             ]
            ],
            "type": "surface"
           }
          ],
          "table": [
           {
            "cells": {
             "fill": {
              "color": "#EBF0F8"
             },
             "line": {
              "color": "white"
             }
            },
            "header": {
             "fill": {
              "color": "#C8D4E3"
             },
             "line": {
              "color": "white"
             }
            },
            "type": "table"
           }
          ]
         },
         "layout": {
          "annotationdefaults": {
           "arrowcolor": "#2a3f5f",
           "arrowhead": 0,
           "arrowwidth": 1
          },
          "autotypenumbers": "strict",
          "coloraxis": {
           "colorbar": {
            "outlinewidth": 0,
            "ticks": ""
           }
          },
          "colorscale": {
           "diverging": [
            [
             0,
             "#8e0152"
            ],
            [
             0.1,
             "#c51b7d"
            ],
            [
             0.2,
             "#de77ae"
            ],
            [
             0.3,
             "#f1b6da"
            ],
            [
             0.4,
             "#fde0ef"
            ],
            [
             0.5,
             "#f7f7f7"
            ],
            [
             0.6,
             "#e6f5d0"
            ],
            [
             0.7,
             "#b8e186"
            ],
            [
             0.8,
             "#7fbc41"
            ],
            [
             0.9,
             "#4d9221"
            ],
            [
             1,
             "#276419"
            ]
           ],
           "sequential": [
            [
             0,
             "#0d0887"
            ],
            [
             0.1111111111111111,
             "#46039f"
            ],
            [
             0.2222222222222222,
             "#7201a8"
            ],
            [
             0.3333333333333333,
             "#9c179e"
            ],
            [
             0.4444444444444444,
             "#bd3786"
            ],
            [
             0.5555555555555556,
             "#d8576b"
            ],
            [
             0.6666666666666666,
             "#ed7953"
            ],
            [
             0.7777777777777778,
             "#fb9f3a"
            ],
            [
             0.8888888888888888,
             "#fdca26"
            ],
            [
             1,
             "#f0f921"
            ]
           ],
           "sequentialminus": [
            [
             0,
             "#0d0887"
            ],
            [
             0.1111111111111111,
             "#46039f"
            ],
            [
             0.2222222222222222,
             "#7201a8"
            ],
            [
             0.3333333333333333,
             "#9c179e"
            ],
            [
             0.4444444444444444,
             "#bd3786"
            ],
            [
             0.5555555555555556,
             "#d8576b"
            ],
            [
             0.6666666666666666,
             "#ed7953"
            ],
            [
             0.7777777777777778,
             "#fb9f3a"
            ],
            [
             0.8888888888888888,
             "#fdca26"
            ],
            [
             1,
             "#f0f921"
            ]
           ]
          },
          "colorway": [
           "#636efa",
           "#EF553B",
           "#00cc96",
           "#ab63fa",
           "#FFA15A",
           "#19d3f3",
           "#FF6692",
           "#B6E880",
           "#FF97FF",
           "#FECB52"
          ],
          "font": {
           "color": "#2a3f5f"
          },
          "geo": {
           "bgcolor": "white",
           "lakecolor": "white",
           "landcolor": "#E5ECF6",
           "showlakes": true,
           "showland": true,
           "subunitcolor": "white"
          },
          "hoverlabel": {
           "align": "left"
          },
          "hovermode": "closest",
          "mapbox": {
           "style": "light"
          },
          "paper_bgcolor": "white",
          "plot_bgcolor": "#E5ECF6",
          "polar": {
           "angularaxis": {
            "gridcolor": "white",
            "linecolor": "white",
            "ticks": ""
           },
           "bgcolor": "#E5ECF6",
           "radialaxis": {
            "gridcolor": "white",
            "linecolor": "white",
            "ticks": ""
           }
          },
          "scene": {
           "xaxis": {
            "backgroundcolor": "#E5ECF6",
            "gridcolor": "white",
            "gridwidth": 2,
            "linecolor": "white",
            "showbackground": true,
            "ticks": "",
            "zerolinecolor": "white"
           },
           "yaxis": {
            "backgroundcolor": "#E5ECF6",
            "gridcolor": "white",
            "gridwidth": 2,
            "linecolor": "white",
            "showbackground": true,
            "ticks": "",
            "zerolinecolor": "white"
           },
           "zaxis": {
            "backgroundcolor": "#E5ECF6",
            "gridcolor": "white",
            "gridwidth": 2,
            "linecolor": "white",
            "showbackground": true,
            "ticks": "",
            "zerolinecolor": "white"
           }
          },
          "shapedefaults": {
           "line": {
            "color": "#2a3f5f"
           }
          },
          "ternary": {
           "aaxis": {
            "gridcolor": "white",
            "linecolor": "white",
            "ticks": ""
           },
           "baxis": {
            "gridcolor": "white",
            "linecolor": "white",
            "ticks": ""
           },
           "bgcolor": "#E5ECF6",
           "caxis": {
            "gridcolor": "white",
            "linecolor": "white",
            "ticks": ""
           }
          },
          "title": {
           "x": 0.05
          },
          "xaxis": {
           "automargin": true,
           "gridcolor": "white",
           "linecolor": "white",
           "ticks": "",
           "title": {
            "standoff": 15
           },
           "zerolinecolor": "white",
           "zerolinewidth": 2
          },
          "yaxis": {
           "automargin": true,
           "gridcolor": "white",
           "linecolor": "white",
           "ticks": "",
           "title": {
            "standoff": 15
           },
           "zerolinecolor": "white",
           "zerolinewidth": 2
          }
         }
        },
        "title": {
         "text": "Group of models versus metrics"
        },
        "yaxis": {
         "title": {
          "text": "Value"
         }
        }
       }
      }
     },
     "metadata": {},
     "output_type": "display_data"
    },
    {
     "name": "stdout",
     "output_type": "stream",
     "text": [
      "-- Confusion matrix -----------------------------------\n"
     ]
    },
    {
     "data": {
      "text/html": [
       "<div>\n",
       "<style scoped>\n",
       "    .dataframe tbody tr th:only-of-type {\n",
       "        vertical-align: middle;\n",
       "    }\n",
       "\n",
       "    .dataframe tbody tr th {\n",
       "        vertical-align: top;\n",
       "    }\n",
       "\n",
       "    .dataframe thead th {\n",
       "        text-align: right;\n",
       "    }\n",
       "</style>\n",
       "<table border=\"1\" class=\"dataframe\">\n",
       "  <thead>\n",
       "    <tr style=\"text-align: right;\">\n",
       "      <th>Prediction</th>\n",
       "      <th>0</th>\n",
       "      <th>1</th>\n",
       "    </tr>\n",
       "    <tr>\n",
       "      <th>Real</th>\n",
       "      <th></th>\n",
       "      <th></th>\n",
       "    </tr>\n",
       "  </thead>\n",
       "  <tbody>\n",
       "    <tr>\n",
       "      <th>0</th>\n",
       "      <td>414</td>\n",
       "      <td>125</td>\n",
       "    </tr>\n",
       "    <tr>\n",
       "      <th>1</th>\n",
       "      <td>193</td>\n",
       "      <td>3936</td>\n",
       "    </tr>\n",
       "  </tbody>\n",
       "</table>\n",
       "</div>"
      ],
      "text/plain": [
       "Prediction    0     1\n",
       "Real                 \n",
       "0           414   125\n",
       "1           193  3936"
      ]
     },
     "metadata": {},
     "output_type": "display_data"
    },
    {
     "name": "stdout",
     "output_type": "stream",
     "text": [
      "-- Classification Report -------------------------------\n",
      "              precision    recall  f1-score   support\n",
      "\n",
      "           0       0.68      0.77      0.72       539\n",
      "           1       0.97      0.95      0.96      4129\n",
      "\n",
      "    accuracy                           0.93      4668\n",
      "   macro avg       0.83      0.86      0.84      4668\n",
      "weighted avg       0.94      0.93      0.93      4668\n",
      "\n"
     ]
    }
   ],
   "source": [
    "#model\n",
    "model_name = \"GRU_1\"\n",
    "embedding_size = 100\n",
    "model2 = Sequential()\n",
    "\n",
    "model2.add(Embedding(input_dim=num_words, \n",
    "                    output_dim=embedding_size, \n",
    "                    input_length=max_tokens,\n",
    "                    name=\"embedding_layer\"))\n",
    "\n",
    "model2.add(GRU(units=128, return_sequences=True))\n",
    "model2.add(GRU(units=64, return_sequences=True)) \n",
    "model2.add(GRU(units=12))\n",
    "model2.add(Dense(1, activation='sigmoid'))\n",
    "\n",
    "# Compile\n",
    "optimizer = Adam(learning_rate=0.008)\n",
    "\n",
    "model2.compile(loss='binary_crossentropy', optimizer=optimizer, metrics=['accuracy'])\n",
    "\n",
    "model2.summary()\n",
    "\n",
    "# fit and evaluate\n",
    "weights = {0:88, 1:18}\n",
    "\n",
    "t0 = time()\n",
    "model2.fit(X_train, y_train, \n",
    "          epochs=30, \n",
    "          batch_size=256, \n",
    "          class_weight=weights,\n",
    "          validation_data=(X_test, y_test), \n",
    "          callbacks=[early_stop])\n",
    "time_train = time() - t0\n",
    "\n",
    "results = model2.evaluate(X_test, y_test)\n",
    "print(\"results:\", results)\n",
    "\n",
    "# prediction\n",
    "t1 = time()\n",
    "pred = model2.predict(X_test)\n",
    "time_predict = time() - t1  # records duration of predicting\n",
    "prediction = (1 * (pred >= 0.5))[:, 0]\n",
    "\n",
    "\n",
    "accuracy = metrics.accuracy_score(y_test, prediction)\n",
    "# The balanced accuracy in binary and multiclass classification problems\n",
    "# to deal with imbalanced datasets.\n",
    "# It is defined as the average of recall obtained on each class.\n",
    "# The best value is 1 and the worst value is 0 when adjusted=False.\n",
    "balanced_accuracy = metrics.balanced_accuracy_score(y_test, prediction)\n",
    "\n",
    "f1_score = metrics.f1_score(y_test, prediction)\n",
    "f1_score_macro = metrics.f1_score(y_test, prediction, average=\"macro\")\n",
    "f1_score_weighted = metrics.f1_score(y_test, prediction, average=\"weighted\")\n",
    "\n",
    "recall = metrics.recall_score(y_test, prediction, pos_label=0)\n",
    "recall_macro = metrics.recall_score(y_test, prediction, average=\"macro\")\n",
    "recall_weighted = metrics.recall_score(y_test, prediction, average=\"weighted\")\n",
    "\n",
    "# precision is intuitively the ability of the classifier not to label as positive a sample that is negative.\n",
    "# we set pos_label=0 : that is negative rating (rating <=3)\n",
    "precision = metrics.precision_score(y_test, prediction, pos_label=0)\n",
    "precision_macro = metrics.precision_score(y_test, prediction, average=\"macro\")\n",
    "precision_weighted = metrics.precision_score(y_test, prediction, average=\"weighted\")\n",
    "\n",
    "cl_report = metrics.classification_report(y_test, prediction)\n",
    "cf_matrix = pd.crosstab(y_test, prediction, rownames=[\"Real\"], colnames=[\"Prediction\"])\n",
    "\n",
    "# put metrics into a dictionnary and into a DataFrame\n",
    "res = {\n",
    "        \"model\": model_name,\n",
    "        \"accuracy\": accuracy,\n",
    "        \"balanced_accuracy\": balanced_accuracy,\n",
    "        \"f1\": f1_score,\n",
    "        \"f1_macro\": f1_score_macro,\n",
    "        \"f1_weighted\": f1_score_weighted,\n",
    "        \"recall_0\": recall,\n",
    "        \"recall_macro\": recall_macro,\n",
    "        \"recall_weighted\": recall_weighted,\n",
    "        \"precision_0\": precision,\n",
    "        \"precision_macro\": precision_macro,\n",
    "        \"precision_weighted\": precision_weighted,\n",
    "        \"time_train\": time_train,\n",
    "        \"time_predict\": time_predict,\n",
    "    }\n",
    "\n",
    "# DataFrame of model's performance\n",
    "df_p2 = pd.DataFrame(res, index=[0])\n",
    "\n",
    "# Save performance data in a csv file\n",
    "file_name = \"perf_\"+model_name+\".csv\"\n",
    "df_p2.to_csv(file_name)\n",
    "\n",
    "# Radar chart of model's performance\n",
    "data = df_p2.iloc[:,:-2]\n",
    "plot_radar_metrics(data, model_name)\n",
    "\n",
    "# Barplot of models performance\n",
    "# Comparision with TfidfVectorizr & Logistic Regression \n",
    "model_list=[model_name]\n",
    "barplot_models_group_vs_metric(data, model_list)\n",
    "\n",
    "\n",
    "print(\"-- Confusion matrix -----------------------------------\")\n",
    "display(cf_matrix)\n",
    "print(\"-- Classification Report -------------------------------\")\n",
    "print(cl_report)"
   ]
  },
  {
   "cell_type": "code",
   "execution_count": null,
   "id": "8c72c66a",
   "metadata": {},
   "outputs": [],
   "source": [
    "#model change weights = {0:88, 1:18} to weights = {0:88, 1:12}\n",
    "model_name = \"GRU_1bis\"\n",
    "embedding_size = 100\n",
    "model2 = Sequential()\n",
    "\n",
    "model2.add(Embedding(input_dim=num_words, \n",
    "                    output_dim=embedding_size, \n",
    "                    input_length=max_tokens,\n",
    "                    name=\"embedding_layer\"))\n",
    "\n",
    "model2.add(GRU(units=128, return_sequences=True))\n",
    "model2.add(GRU(units=64, return_sequences=True)) \n",
    "model2.add(GRU(units=12))\n",
    "model2.add(Dense(1, activation='sigmoid'))\n",
    "\n",
    "# Compile\n",
    "optimizer = Adam(learning_rate=0.008)\n",
    "\n",
    "model2.compile(loss='binary_crossentropy', optimizer=optimizer, metrics=['accuracy'])\n",
    "\n",
    "model2.summary()\n",
    "\n",
    "# fit and evaluate\n",
    "weights = {0:88, 1:12}\n",
    "\n",
    "t0 = time()\n",
    "model2.fit(X_train, y_train, \n",
    "          epochs=30, \n",
    "          batch_size=256, \n",
    "          class_weight=weights,\n",
    "          validation_data=(X_test, y_test), \n",
    "          callbacks=[early_stop])\n",
    "time_train = time() - t0\n",
    "\n",
    "results = model2.evaluate(X_test, y_test)\n",
    "print(\"results:\", results)\n",
    "\n",
    "# prediction\n",
    "t1 = time()\n",
    "pred = model2.predict(X_test)\n",
    "time_predict = time() - t1  # records duration of predicting\n",
    "prediction = (1 * (pred >= 0.5))[:, 0]\n",
    "\n",
    "\n",
    "accuracy = metrics.accuracy_score(y_test, prediction)\n",
    "# The balanced accuracy in binary and multiclass classification problems\n",
    "# to deal with imbalanced datasets.\n",
    "# It is defined as the average of recall obtained on each class.\n",
    "# The best value is 1 and the worst value is 0 when adjusted=False.\n",
    "balanced_accuracy = metrics.balanced_accuracy_score(y_test, prediction)\n",
    "\n",
    "f1_score = metrics.f1_score(y_test, prediction)\n",
    "f1_score_macro = metrics.f1_score(y_test, prediction, average=\"macro\")\n",
    "f1_score_weighted = metrics.f1_score(y_test, prediction, average=\"weighted\")\n",
    "\n",
    "recall = metrics.recall_score(y_test, prediction, pos_label=0)\n",
    "recall_macro = metrics.recall_score(y_test, prediction, average=\"macro\")\n",
    "recall_weighted = metrics.recall_score(y_test, prediction, average=\"weighted\")\n",
    "\n",
    "# precision is intuitively the ability of the classifier not to label as positive a sample that is negative.\n",
    "# we set pos_label=0 : that is negative rating (rating <=3)\n",
    "precision = metrics.precision_score(y_test, prediction, pos_label=0)\n",
    "precision_macro = metrics.precision_score(y_test, prediction, average=\"macro\")\n",
    "precision_weighted = metrics.precision_score(y_test, prediction, average=\"weighted\")\n",
    "\n",
    "cl_report = metrics.classification_report(y_test, prediction)\n",
    "cf_matrix = pd.crosstab(y_test, prediction, rownames=[\"Real\"], colnames=[\"Prediction\"])\n",
    "\n",
    "# put metrics into a dictionnary and into a DataFrame\n",
    "res = {\n",
    "        \"model\": model_name,\n",
    "        \"accuracy\": accuracy,\n",
    "        \"balanced_accuracy\": balanced_accuracy,\n",
    "        \"f1\": f1_score,\n",
    "        \"f1_macro\": f1_score_macro,\n",
    "        \"f1_weighted\": f1_score_weighted,\n",
    "        \"recall_0\": recall,\n",
    "        \"recall_macro\": recall_macro,\n",
    "        \"recall_weighted\": recall_weighted,\n",
    "        \"precision_0\": precision,\n",
    "        \"precision_macro\": precision_macro,\n",
    "        \"precision_weighted\": precision_weighted,\n",
    "        \"time_train\": time_train,\n",
    "        \"time_predict\": time_predict,\n",
    "    }\n",
    "\n",
    "# DataFrame of model's performance\n",
    "df_p2 = pd.DataFrame(res, index=[0])\n",
    "\n",
    "# Save performance data in a csv file\n",
    "file_name = \"perf_\"+model_name+\".csv\"\n",
    "df_p2.to_csv(file_name)\n",
    "\n",
    "# Radar chart of model's performance\n",
    "data = df_p2.iloc[:,:-2]\n",
    "plot_radar_metrics(data, model_name)\n",
    "\n",
    "# Barplot of models performance\n",
    "# Comparision with TfidfVectorizr & Logistic Regression \n",
    "model_list=[model_name]\n",
    "barplot_models_group_vs_metric(data, model_list)\n",
    "\n",
    "\n",
    "print(\"-- Confusion matrix -----------------------------------\")\n",
    "display(cf_matrix)\n",
    "print(\"-- Classification Report -------------------------------\")\n",
    "print(cl_report)"
   ]
  },
  {
   "cell_type": "code",
   "execution_count": 34,
   "id": "65d2b99b",
   "metadata": {},
   "outputs": [
    {
     "name": "stdout",
     "output_type": "stream",
     "text": [
      "Model: \"sequential_7\"\n",
      "_________________________________________________________________\n",
      " Layer (type)                Output Shape              Param #   \n",
      "=================================================================\n",
      " embedding_layer (Embedding  (None, 148, 100)          1000000   \n",
      " )                                                               \n",
      "                                                                 \n",
      " gru_21 (GRU)                (None, 148, 128)          88320     \n",
      "                                                                 \n",
      " gru_22 (GRU)                (None, 148, 64)           37248     \n",
      "                                                                 \n",
      " gru_23 (GRU)                (None, 12)                2808      \n",
      "                                                                 \n",
      " dense_7 (Dense)             (None, 1)                 13        \n",
      "                                                                 \n",
      "=================================================================\n",
      "Total params: 1128389 (4.30 MB)\n",
      "Trainable params: 1128389 (4.30 MB)\n",
      "Non-trainable params: 0 (0.00 Byte)\n",
      "_________________________________________________________________\n",
      "Epoch 1/30\n",
      "73/73 [==============================] - 65s 795ms/step - loss: 0.6988 - Accuracy: 0.8230 - val_loss: 0.2456 - val_Accuracy: 0.9064\n",
      "Epoch 2/30\n",
      "73/73 [==============================] - 58s 798ms/step - loss: 0.3675 - Accuracy: 0.9144 - val_loss: 0.3019 - val_Accuracy: 0.8796\n",
      "Epoch 3/30\n",
      "73/73 [==============================] - 58s 801ms/step - loss: 0.2756 - Accuracy: 0.9370 - val_loss: 0.2364 - val_Accuracy: 0.9068\n",
      "Epoch 4/30\n",
      "73/73 [==============================] - 58s 799ms/step - loss: 0.2244 - Accuracy: 0.9544 - val_loss: 0.2364 - val_Accuracy: 0.9152\n",
      "Epoch 5/30\n",
      "73/73 [==============================] - 59s 803ms/step - loss: 0.1857 - Accuracy: 0.9619 - val_loss: 0.2732 - val_Accuracy: 0.9006\n",
      "Epoch 6/30\n",
      "25/73 [=========>....................] - ETA: 35s - loss: 0.1582 - Accuracy: 0.9658"
     ]
    }
   ],
   "source": [
    "#model GRU_2\n",
    "model_name = \"GRU_2\"\n",
    "\n",
    "embedding_size = 100\n",
    "model3 = Sequential()\n",
    "\n",
    "model3.add(Embedding(input_dim=num_words, \n",
    "                    output_dim=embedding_size, \n",
    "                    input_length=max_tokens,\n",
    "                    name=\"embedding_layer\"))\n",
    "\n",
    "model3.add(GRU(units=128, return_sequences=True))\n",
    "model3.add(GRU(units=64, return_sequences=True)) \n",
    "model3.add(GRU(units=12))\n",
    "model3.add(Dense(1, activation='sigmoid'))\n",
    "\n",
    "# Compile\n",
    "optimizer = Adam(learning_rate=0.006)\n",
    "\n",
    "model3.compile(loss='binary_crossentropy', optimizer=optimizer, metrics=['Accuracy'])\n",
    "\n",
    "model3.summary()\n",
    "\n",
    "# fit and evaluate\n",
    "weights = {0:8, 1:1}\n",
    "\n",
    "t0 = time()\n",
    "model3.fit(X_train, y_train, \n",
    "          epochs=30, \n",
    "          batch_size=256, \n",
    "          class_weight=weights,\n",
    "          validation_data=(X_test, y_test), \n",
    "          callbacks=[early_stop])\n",
    "time_train = time() - t0\n",
    "\n",
    "results = model3.evaluate(X_test, y_test)\n",
    "print(\"results:\", results)\n",
    "\n",
    "# prediction\n",
    "t1 = time()\n",
    "pred = model3.predict(X_test)\n",
    "time_predict = time() - t1  # records duration of predicting\n",
    "prediction = (1 * (pred >= 0.5))[:, 0]\n",
    "\n",
    "\n",
    "accuracy = metrics.accuracy_score(y_test, prediction)\n",
    "# The balanced accuracy in binary and multiclass classification problems\n",
    "# to deal with imbalanced datasets.\n",
    "# It is defined as the average of recall obtained on each class.\n",
    "# The best value is 1 and the worst value is 0 when adjusted=False.\n",
    "balanced_accuracy = metrics.balanced_accuracy_score(y_test, prediction)\n",
    "\n",
    "f1_score = metrics.f1_score(y_test, prediction)\n",
    "f1_score_macro = metrics.f1_score(y_test, prediction, average=\"macro\")\n",
    "f1_score_weighted = metrics.f1_score(y_test, prediction, average=\"weighted\")\n",
    "\n",
    "recall = metrics.recall_score(y_test, prediction, pos_label=0)\n",
    "recall_macro = metrics.recall_score(y_test, prediction, average=\"macro\")\n",
    "recall_weighted = metrics.recall_score(y_test, prediction, average=\"weighted\")\n",
    "\n",
    "# precision is intuitively the ability of the classifier not to label as positive a sample that is negative.\n",
    "# we set pos_label=0 : that is negative rating (rating <=3)\n",
    "precision = metrics.precision_score(y_test, prediction, pos_label=0)\n",
    "precision_macro = metrics.precision_score(y_test, prediction, average=\"macro\")\n",
    "precision_weighted = metrics.precision_score(y_test, prediction, average=\"weighted\")\n",
    "\n",
    "cl_report = metrics.classification_report(y_test, prediction)\n",
    "cf_matrix = pd.crosstab(y_test, prediction, rownames=[\"Real\"], colnames=[\"Prediction\"])\n",
    "\n",
    "# put metrics into a dictionnary and into a DataFrame\n",
    "res = {\n",
    "        \"model\": model_name,\n",
    "        \"accuracy\": accuracy,\n",
    "        \"balanced_accuracy\": balanced_accuracy,\n",
    "        \"f1\": f1_score,\n",
    "        \"f1_macro\": f1_score_macro,\n",
    "        \"f1_weighted\": f1_score_weighted,\n",
    "        \"recall_0\": recall,\n",
    "        \"recall_macro\": recall_macro,\n",
    "        \"recall_weighted\": recall_weighted,\n",
    "        \"precision_0\": precision,\n",
    "        \"precision_macro\": precision_macro,\n",
    "        \"precision_weighted\": precision_weighted,\n",
    "        \"time_train\": time_train,\n",
    "        \"time_predict\": time_predict,\n",
    "    }\n",
    "\n",
    "# DataFrame of model's performance\n",
    "df_p3 = pd.DataFrame(res, index=[0])\n",
    "\n",
    "# Save performance data in a csv file\n",
    "file_name = \"perf_\"+model_name+\".csv\"\n",
    "df_p3.to_csv(file_name)\n",
    "\n",
    "# perf data to plot\n",
    "data = df_p3.iloc[:,:-2]\n",
    "\n",
    "# Radar chart of model's performance\n",
    "plot_radar_metrics(data, model_name)\n",
    "\n",
    "# Barplot of models performance\n",
    "model_list=[model_name]\n",
    "barplot_models_group_vs_metric(data, model_list)\n",
    "\n",
    "\n",
    "print(\" Confusion matrix -----------------------------------\")\n",
    "display(cf_matrix)\n",
    "print(\" Classification Report -------------------------------\")\n",
    "print(cl_report)"
   ]
  },
  {
   "cell_type": "code",
   "execution_count": null,
   "id": "286e3969",
   "metadata": {},
   "outputs": [
    {
     "name": "stdout",
     "output_type": "stream",
     "text": [
      "Model: \"sequential_2\"\n",
      "_________________________________________________________________\n",
      " Layer (type)                Output Shape              Param #   \n",
      "=================================================================\n",
      " embedding_layer (Embedding  (None, 148, 50)           500000    \n",
      " )                                                               \n",
      "                                                                 \n",
      " gru_6 (GRU)                 (None, 148, 48)           14400     \n",
      "                                                                 \n",
      " gru_7 (GRU)                 (None, 148, 24)           5328      \n",
      "                                                                 \n",
      " gru_8 (GRU)                 (None, 12)                1368      \n",
      "                                                                 \n",
      " dense_2 (Dense)             (None, 1)                 13        \n",
      "                                                                 \n",
      "=================================================================\n",
      "Total params: 521109 (1.99 MB)\n",
      "Trainable params: 521109 (1.99 MB)\n",
      "Non-trainable params: 0 (0.00 Byte)\n",
      "_________________________________________________________________\n",
      "Epoch 1/30\n",
      "73/73 [==============================] - 36s 370ms/step - loss: 9.7736 - recall: 0.8795 - val_loss: 0.2336 - val_recall: 0.9106\n",
      "Epoch 2/30\n",
      "73/73 [==============================] - 25s 338ms/step - loss: 5.1085 - recall: 0.9339 - val_loss: 0.1904 - val_recall: 0.9460\n",
      "Epoch 3/30\n",
      "73/73 [==============================] - 24s 326ms/step - loss: 3.5825 - recall: 0.9577 - val_loss: 0.2426 - val_recall: 0.9235\n",
      "Epoch 4/30\n",
      "73/73 [==============================] - 26s 358ms/step - loss: 2.6539 - recall: 0.9673 - val_loss: 0.2674 - val_recall: 0.9380\n",
      "Epoch 5/30\n",
      "73/73 [==============================] - 24s 330ms/step - loss: 2.2740 - recall: 0.9747 - val_loss: 0.2897 - val_recall: 0.9249\n",
      "Epoch 6/30\n",
      "73/73 [==============================] - 24s 327ms/step - loss: 1.9139 - recall: 0.9788 - val_loss: 0.3103 - val_recall: 0.9441\n",
      "Epoch 7/30\n",
      "73/73 [==============================] - 24s 330ms/step - loss: 1.5525 - recall: 0.9835 - val_loss: 0.3430 - val_recall: 0.9290\n",
      "Epoch 8/30\n",
      "73/73 [==============================] - 24s 328ms/step - loss: 1.4633 - recall: 0.9845 - val_loss: 0.3175 - val_recall: 0.9387\n",
      "Epoch 9/30\n",
      "73/73 [==============================] - 23s 320ms/step - loss: 1.2509 - recall: 0.9882 - val_loss: 0.4056 - val_recall: 0.9261\n",
      "Epoch 10/30\n",
      "73/73 [==============================] - 25s 340ms/step - loss: 1.2177 - recall: 0.9873 - val_loss: 0.3714 - val_recall: 0.9302\n",
      "Epoch 11/30\n",
      "73/73 [==============================] - 23s 319ms/step - loss: 1.3014 - recall: 0.9836 - val_loss: 0.3507 - val_recall: 0.9436\n",
      "Epoch 12/30\n",
      "73/73 [==============================] - ETA: 0s - loss: 1.1476 - recall: 0.9866Restoring model weights from the end of the best epoch: 2.\n",
      "73/73 [==============================] - 24s 332ms/step - loss: 1.1476 - recall: 0.9866 - val_loss: 0.3632 - val_recall: 0.9404\n",
      "Epoch 12: early stopping\n",
      "146/146 [==============================] - 3s 22ms/step - loss: 0.1904 - recall: 0.9460\n",
      "results: [0.1903514266014099, 0.9459917545318604]\n",
      "146/146 [==============================] - 5s 23ms/step\n"
     ]
    },
    {
     "data": {
      "application/vnd.plotly.v1+json": {
       "config": {
        "plotlyServerURL": "https://plot.ly"
       },
       "data": [
        {
         "fill": "toself",
         "hovertemplate": "r=%{r}<br>theta=%{theta}<extra></extra>",
         "legendgroup": "",
         "line": {
          "color": "#636efa",
          "dash": "solid"
         },
         "marker": {
          "symbol": "circle"
         },
         "mode": "markers+lines",
         "name": "",
         "r": [
          "GRU_esz50_1",
          0.9459917545318604,
          0.8579680534667906,
          0.95747027822037,
          0.8313264730099301,
          0.9283393823298699,
          0.7699443413729128,
          0.8579680534667906,
          0.9256640959725793,
          0.6504702194357367,
          0.809850494333253,
          0.932424441822988,
          "GRU_esz50_1"
         ],
         "showlegend": false,
         "subplot": "polar",
         "theta": [
          "model",
          "accuracy",
          "balanced_accuracy",
          "f1",
          "f1_macro",
          "f1_weighted",
          "recall_0",
          "recall_macro",
          "recall_weighted",
          "precision_0",
          "precision_macro",
          "precision_weighted",
          "model"
         ],
         "type": "scatterpolar"
        }
       ],
       "layout": {
        "height": 500,
        "legend": {
         "tracegroupgap": 0
        },
        "margin": {
         "t": 60
        },
        "polar": {
         "angularaxis": {
          "direction": "clockwise",
          "rotation": 90
         },
         "domain": {
          "x": [
           0,
           1
          ],
          "y": [
           0,
           1
          ]
         }
        },
        "template": {
         "data": {
          "bar": [
           {
            "error_x": {
             "color": "#2a3f5f"
            },
            "error_y": {
             "color": "#2a3f5f"
            },
            "marker": {
             "line": {
              "color": "#E5ECF6",
              "width": 0.5
             },
             "pattern": {
              "fillmode": "overlay",
              "size": 10,
              "solidity": 0.2
             }
            },
            "type": "bar"
           }
          ],
          "barpolar": [
           {
            "marker": {
             "line": {
              "color": "#E5ECF6",
              "width": 0.5
             },
             "pattern": {
              "fillmode": "overlay",
              "size": 10,
              "solidity": 0.2
             }
            },
            "type": "barpolar"
           }
          ],
          "carpet": [
           {
            "aaxis": {
             "endlinecolor": "#2a3f5f",
             "gridcolor": "white",
             "linecolor": "white",
             "minorgridcolor": "white",
             "startlinecolor": "#2a3f5f"
            },
            "baxis": {
             "endlinecolor": "#2a3f5f",
             "gridcolor": "white",
             "linecolor": "white",
             "minorgridcolor": "white",
             "startlinecolor": "#2a3f5f"
            },
            "type": "carpet"
           }
          ],
          "choropleth": [
           {
            "colorbar": {
             "outlinewidth": 0,
             "ticks": ""
            },
            "type": "choropleth"
           }
          ],
          "contour": [
           {
            "colorbar": {
             "outlinewidth": 0,
             "ticks": ""
            },
            "colorscale": [
             [
              0,
              "#0d0887"
             ],
             [
              0.1111111111111111,
              "#46039f"
             ],
             [
              0.2222222222222222,
              "#7201a8"
             ],
             [
              0.3333333333333333,
              "#9c179e"
             ],
             [
              0.4444444444444444,
              "#bd3786"
             ],
             [
              0.5555555555555556,
              "#d8576b"
             ],
             [
              0.6666666666666666,
              "#ed7953"
             ],
             [
              0.7777777777777778,
              "#fb9f3a"
             ],
             [
              0.8888888888888888,
              "#fdca26"
             ],
             [
              1,
              "#f0f921"
             ]
            ],
            "type": "contour"
           }
          ],
          "contourcarpet": [
           {
            "colorbar": {
             "outlinewidth": 0,
             "ticks": ""
            },
            "type": "contourcarpet"
           }
          ],
          "heatmap": [
           {
            "colorbar": {
             "outlinewidth": 0,
             "ticks": ""
            },
            "colorscale": [
             [
              0,
              "#0d0887"
             ],
             [
              0.1111111111111111,
              "#46039f"
             ],
             [
              0.2222222222222222,
              "#7201a8"
             ],
             [
              0.3333333333333333,
              "#9c179e"
             ],
             [
              0.4444444444444444,
              "#bd3786"
             ],
             [
              0.5555555555555556,
              "#d8576b"
             ],
             [
              0.6666666666666666,
              "#ed7953"
             ],
             [
              0.7777777777777778,
              "#fb9f3a"
             ],
             [
              0.8888888888888888,
              "#fdca26"
             ],
             [
              1,
              "#f0f921"
             ]
            ],
            "type": "heatmap"
           }
          ],
          "heatmapgl": [
           {
            "colorbar": {
             "outlinewidth": 0,
             "ticks": ""
            },
            "colorscale": [
             [
              0,
              "#0d0887"
             ],
             [
              0.1111111111111111,
              "#46039f"
             ],
             [
              0.2222222222222222,
              "#7201a8"
             ],
             [
              0.3333333333333333,
              "#9c179e"
             ],
             [
              0.4444444444444444,
              "#bd3786"
             ],
             [
              0.5555555555555556,
              "#d8576b"
             ],
             [
              0.6666666666666666,
              "#ed7953"
             ],
             [
              0.7777777777777778,
              "#fb9f3a"
             ],
             [
              0.8888888888888888,
              "#fdca26"
             ],
             [
              1,
              "#f0f921"
             ]
            ],
            "type": "heatmapgl"
           }
          ],
          "histogram": [
           {
            "marker": {
             "pattern": {
              "fillmode": "overlay",
              "size": 10,
              "solidity": 0.2
             }
            },
            "type": "histogram"
           }
          ],
          "histogram2d": [
           {
            "colorbar": {
             "outlinewidth": 0,
             "ticks": ""
            },
            "colorscale": [
             [
              0,
              "#0d0887"
             ],
             [
              0.1111111111111111,
              "#46039f"
             ],
             [
              0.2222222222222222,
              "#7201a8"
             ],
             [
              0.3333333333333333,
              "#9c179e"
             ],
             [
              0.4444444444444444,
              "#bd3786"
             ],
             [
              0.5555555555555556,
              "#d8576b"
             ],
             [
              0.6666666666666666,
              "#ed7953"
             ],
             [
              0.7777777777777778,
              "#fb9f3a"
             ],
             [
              0.8888888888888888,
              "#fdca26"
             ],
             [
              1,
              "#f0f921"
             ]
            ],
            "type": "histogram2d"
           }
          ],
          "histogram2dcontour": [
           {
            "colorbar": {
             "outlinewidth": 0,
             "ticks": ""
            },
            "colorscale": [
             [
              0,
              "#0d0887"
             ],
             [
              0.1111111111111111,
              "#46039f"
             ],
             [
              0.2222222222222222,
              "#7201a8"
             ],
             [
              0.3333333333333333,
              "#9c179e"
             ],
             [
              0.4444444444444444,
              "#bd3786"
             ],
             [
              0.5555555555555556,
              "#d8576b"
             ],
             [
              0.6666666666666666,
              "#ed7953"
             ],
             [
              0.7777777777777778,
              "#fb9f3a"
             ],
             [
              0.8888888888888888,
              "#fdca26"
             ],
             [
              1,
              "#f0f921"
             ]
            ],
            "type": "histogram2dcontour"
           }
          ],
          "mesh3d": [
           {
            "colorbar": {
             "outlinewidth": 0,
             "ticks": ""
            },
            "type": "mesh3d"
           }
          ],
          "parcoords": [
           {
            "line": {
             "colorbar": {
              "outlinewidth": 0,
              "ticks": ""
             }
            },
            "type": "parcoords"
           }
          ],
          "pie": [
           {
            "automargin": true,
            "type": "pie"
           }
          ],
          "scatter": [
           {
            "fillpattern": {
             "fillmode": "overlay",
             "size": 10,
             "solidity": 0.2
            },
            "type": "scatter"
           }
          ],
          "scatter3d": [
           {
            "line": {
             "colorbar": {
              "outlinewidth": 0,
              "ticks": ""
             }
            },
            "marker": {
             "colorbar": {
              "outlinewidth": 0,
              "ticks": ""
             }
            },
            "type": "scatter3d"
           }
          ],
          "scattercarpet": [
           {
            "marker": {
             "colorbar": {
              "outlinewidth": 0,
              "ticks": ""
             }
            },
            "type": "scattercarpet"
           }
          ],
          "scattergeo": [
           {
            "marker": {
             "colorbar": {
              "outlinewidth": 0,
              "ticks": ""
             }
            },
            "type": "scattergeo"
           }
          ],
          "scattergl": [
           {
            "marker": {
             "colorbar": {
              "outlinewidth": 0,
              "ticks": ""
             }
            },
            "type": "scattergl"
           }
          ],
          "scattermapbox": [
           {
            "marker": {
             "colorbar": {
              "outlinewidth": 0,
              "ticks": ""
             }
            },
            "type": "scattermapbox"
           }
          ],
          "scatterpolar": [
           {
            "marker": {
             "colorbar": {
              "outlinewidth": 0,
              "ticks": ""
             }
            },
            "type": "scatterpolar"
           }
          ],
          "scatterpolargl": [
           {
            "marker": {
             "colorbar": {
              "outlinewidth": 0,
              "ticks": ""
             }
            },
            "type": "scatterpolargl"
           }
          ],
          "scatterternary": [
           {
            "marker": {
             "colorbar": {
              "outlinewidth": 0,
              "ticks": ""
             }
            },
            "type": "scatterternary"
           }
          ],
          "surface": [
           {
            "colorbar": {
             "outlinewidth": 0,
             "ticks": ""
            },
            "colorscale": [
             [
              0,
              "#0d0887"
             ],
             [
              0.1111111111111111,
              "#46039f"
             ],
             [
              0.2222222222222222,
              "#7201a8"
             ],
             [
              0.3333333333333333,
              "#9c179e"
             ],
             [
              0.4444444444444444,
              "#bd3786"
             ],
             [
              0.5555555555555556,
              "#d8576b"
             ],
             [
              0.6666666666666666,
              "#ed7953"
             ],
             [
              0.7777777777777778,
              "#fb9f3a"
             ],
             [
              0.8888888888888888,
              "#fdca26"
             ],
             [
              1,
              "#f0f921"
             ]
            ],
            "type": "surface"
           }
          ],
          "table": [
           {
            "cells": {
             "fill": {
              "color": "#EBF0F8"
             },
             "line": {
              "color": "white"
             }
            },
            "header": {
             "fill": {
              "color": "#C8D4E3"
             },
             "line": {
              "color": "white"
             }
            },
            "type": "table"
           }
          ]
         },
         "layout": {
          "annotationdefaults": {
           "arrowcolor": "#2a3f5f",
           "arrowhead": 0,
           "arrowwidth": 1
          },
          "autotypenumbers": "strict",
          "coloraxis": {
           "colorbar": {
            "outlinewidth": 0,
            "ticks": ""
           }
          },
          "colorscale": {
           "diverging": [
            [
             0,
             "#8e0152"
            ],
            [
             0.1,
             "#c51b7d"
            ],
            [
             0.2,
             "#de77ae"
            ],
            [
             0.3,
             "#f1b6da"
            ],
            [
             0.4,
             "#fde0ef"
            ],
            [
             0.5,
             "#f7f7f7"
            ],
            [
             0.6,
             "#e6f5d0"
            ],
            [
             0.7,
             "#b8e186"
            ],
            [
             0.8,
             "#7fbc41"
            ],
            [
             0.9,
             "#4d9221"
            ],
            [
             1,
             "#276419"
            ]
           ],
           "sequential": [
            [
             0,
             "#0d0887"
            ],
            [
             0.1111111111111111,
             "#46039f"
            ],
            [
             0.2222222222222222,
             "#7201a8"
            ],
            [
             0.3333333333333333,
             "#9c179e"
            ],
            [
             0.4444444444444444,
             "#bd3786"
            ],
            [
             0.5555555555555556,
             "#d8576b"
            ],
            [
             0.6666666666666666,
             "#ed7953"
            ],
            [
             0.7777777777777778,
             "#fb9f3a"
            ],
            [
             0.8888888888888888,
             "#fdca26"
            ],
            [
             1,
             "#f0f921"
            ]
           ],
           "sequentialminus": [
            [
             0,
             "#0d0887"
            ],
            [
             0.1111111111111111,
             "#46039f"
            ],
            [
             0.2222222222222222,
             "#7201a8"
            ],
            [
             0.3333333333333333,
             "#9c179e"
            ],
            [
             0.4444444444444444,
             "#bd3786"
            ],
            [
             0.5555555555555556,
             "#d8576b"
            ],
            [
             0.6666666666666666,
             "#ed7953"
            ],
            [
             0.7777777777777778,
             "#fb9f3a"
            ],
            [
             0.8888888888888888,
             "#fdca26"
            ],
            [
             1,
             "#f0f921"
            ]
           ]
          },
          "colorway": [
           "#636efa",
           "#EF553B",
           "#00cc96",
           "#ab63fa",
           "#FFA15A",
           "#19d3f3",
           "#FF6692",
           "#B6E880",
           "#FF97FF",
           "#FECB52"
          ],
          "font": {
           "color": "#2a3f5f"
          },
          "geo": {
           "bgcolor": "white",
           "lakecolor": "white",
           "landcolor": "#E5ECF6",
           "showlakes": true,
           "showland": true,
           "subunitcolor": "white"
          },
          "hoverlabel": {
           "align": "left"
          },
          "hovermode": "closest",
          "mapbox": {
           "style": "light"
          },
          "paper_bgcolor": "white",
          "plot_bgcolor": "#E5ECF6",
          "polar": {
           "angularaxis": {
            "gridcolor": "white",
            "linecolor": "white",
            "ticks": ""
           },
           "bgcolor": "#E5ECF6",
           "radialaxis": {
            "gridcolor": "white",
            "linecolor": "white",
            "ticks": ""
           }
          },
          "scene": {
           "xaxis": {
            "backgroundcolor": "#E5ECF6",
            "gridcolor": "white",
            "gridwidth": 2,
            "linecolor": "white",
            "showbackground": true,
            "ticks": "",
            "zerolinecolor": "white"
           },
           "yaxis": {
            "backgroundcolor": "#E5ECF6",
            "gridcolor": "white",
            "gridwidth": 2,
            "linecolor": "white",
            "showbackground": true,
            "ticks": "",
            "zerolinecolor": "white"
           },
           "zaxis": {
            "backgroundcolor": "#E5ECF6",
            "gridcolor": "white",
            "gridwidth": 2,
            "linecolor": "white",
            "showbackground": true,
            "ticks": "",
            "zerolinecolor": "white"
           }
          },
          "shapedefaults": {
           "line": {
            "color": "#2a3f5f"
           }
          },
          "ternary": {
           "aaxis": {
            "gridcolor": "white",
            "linecolor": "white",
            "ticks": ""
           },
           "baxis": {
            "gridcolor": "white",
            "linecolor": "white",
            "ticks": ""
           },
           "bgcolor": "#E5ECF6",
           "caxis": {
            "gridcolor": "white",
            "linecolor": "white",
            "ticks": ""
           }
          },
          "title": {
           "x": 0.05
          },
          "xaxis": {
           "automargin": true,
           "gridcolor": "white",
           "linecolor": "white",
           "ticks": "",
           "title": {
            "standoff": 15
           },
           "zerolinecolor": "white",
           "zerolinewidth": 2
          },
          "yaxis": {
           "automargin": true,
           "gridcolor": "white",
           "linecolor": "white",
           "ticks": "",
           "title": {
            "standoff": 15
           },
           "zerolinecolor": "white",
           "zerolinewidth": 2
          }
         }
        },
        "title": {
         "text": "GRU_esz50_1 performance",
         "x": 0.5
        },
        "width": 500
       }
      }
     },
     "metadata": {},
     "output_type": "display_data"
    },
    {
     "data": {
      "application/vnd.plotly.v1+json": {
       "config": {
        "plotlyServerURL": "https://plot.ly"
       },
       "data": [
        {
         "name": "GRU_esz50_1",
         "offsetgroup": "0",
         "text": [
          "0.95",
          "0.86",
          "0.96",
          "0.83",
          "0.93",
          "0.77",
          "0.86",
          "0.93",
          "0.65",
          "0.81",
          "0.93"
         ],
         "textposition": "auto",
         "type": "bar",
         "x": [
          "accuracy",
          "balanced_accuracy",
          "f1",
          "f1_macro",
          "f1_weighted",
          "recall_0",
          "recall_macro",
          "recall_weighted",
          "precision_0",
          "precision_macro",
          "precision_weighted"
         ],
         "y": [
          0.95,
          0.86,
          0.96,
          0.83,
          0.93,
          0.77,
          0.86,
          0.93,
          0.65,
          0.81,
          0.93
         ]
        }
       ],
       "layout": {
        "shapes": [
         {
          "line": {
           "color": "magenta",
           "dash": "dash",
           "width": 1
          },
          "type": "line",
          "x0": 0,
          "x1": 1,
          "xref": "paper",
          "y0": 0.5,
          "y1": 0.5,
          "yref": "paper"
         }
        ],
        "template": {
         "data": {
          "bar": [
           {
            "error_x": {
             "color": "#2a3f5f"
            },
            "error_y": {
             "color": "#2a3f5f"
            },
            "marker": {
             "line": {
              "color": "#E5ECF6",
              "width": 0.5
             },
             "pattern": {
              "fillmode": "overlay",
              "size": 10,
              "solidity": 0.2
             }
            },
            "type": "bar"
           }
          ],
          "barpolar": [
           {
            "marker": {
             "line": {
              "color": "#E5ECF6",
              "width": 0.5
             },
             "pattern": {
              "fillmode": "overlay",
              "size": 10,
              "solidity": 0.2
             }
            },
            "type": "barpolar"
           }
          ],
          "carpet": [
           {
            "aaxis": {
             "endlinecolor": "#2a3f5f",
             "gridcolor": "white",
             "linecolor": "white",
             "minorgridcolor": "white",
             "startlinecolor": "#2a3f5f"
            },
            "baxis": {
             "endlinecolor": "#2a3f5f",
             "gridcolor": "white",
             "linecolor": "white",
             "minorgridcolor": "white",
             "startlinecolor": "#2a3f5f"
            },
            "type": "carpet"
           }
          ],
          "choropleth": [
           {
            "colorbar": {
             "outlinewidth": 0,
             "ticks": ""
            },
            "type": "choropleth"
           }
          ],
          "contour": [
           {
            "colorbar": {
             "outlinewidth": 0,
             "ticks": ""
            },
            "colorscale": [
             [
              0,
              "#0d0887"
             ],
             [
              0.1111111111111111,
              "#46039f"
             ],
             [
              0.2222222222222222,
              "#7201a8"
             ],
             [
              0.3333333333333333,
              "#9c179e"
             ],
             [
              0.4444444444444444,
              "#bd3786"
             ],
             [
              0.5555555555555556,
              "#d8576b"
             ],
             [
              0.6666666666666666,
              "#ed7953"
             ],
             [
              0.7777777777777778,
              "#fb9f3a"
             ],
             [
              0.8888888888888888,
              "#fdca26"
             ],
             [
              1,
              "#f0f921"
             ]
            ],
            "type": "contour"
           }
          ],
          "contourcarpet": [
           {
            "colorbar": {
             "outlinewidth": 0,
             "ticks": ""
            },
            "type": "contourcarpet"
           }
          ],
          "heatmap": [
           {
            "colorbar": {
             "outlinewidth": 0,
             "ticks": ""
            },
            "colorscale": [
             [
              0,
              "#0d0887"
             ],
             [
              0.1111111111111111,
              "#46039f"
             ],
             [
              0.2222222222222222,
              "#7201a8"
             ],
             [
              0.3333333333333333,
              "#9c179e"
             ],
             [
              0.4444444444444444,
              "#bd3786"
             ],
             [
              0.5555555555555556,
              "#d8576b"
             ],
             [
              0.6666666666666666,
              "#ed7953"
             ],
             [
              0.7777777777777778,
              "#fb9f3a"
             ],
             [
              0.8888888888888888,
              "#fdca26"
             ],
             [
              1,
              "#f0f921"
             ]
            ],
            "type": "heatmap"
           }
          ],
          "heatmapgl": [
           {
            "colorbar": {
             "outlinewidth": 0,
             "ticks": ""
            },
            "colorscale": [
             [
              0,
              "#0d0887"
             ],
             [
              0.1111111111111111,
              "#46039f"
             ],
             [
              0.2222222222222222,
              "#7201a8"
             ],
             [
              0.3333333333333333,
              "#9c179e"
             ],
             [
              0.4444444444444444,
              "#bd3786"
             ],
             [
              0.5555555555555556,
              "#d8576b"
             ],
             [
              0.6666666666666666,
              "#ed7953"
             ],
             [
              0.7777777777777778,
              "#fb9f3a"
             ],
             [
              0.8888888888888888,
              "#fdca26"
             ],
             [
              1,
              "#f0f921"
             ]
            ],
            "type": "heatmapgl"
           }
          ],
          "histogram": [
           {
            "marker": {
             "pattern": {
              "fillmode": "overlay",
              "size": 10,
              "solidity": 0.2
             }
            },
            "type": "histogram"
           }
          ],
          "histogram2d": [
           {
            "colorbar": {
             "outlinewidth": 0,
             "ticks": ""
            },
            "colorscale": [
             [
              0,
              "#0d0887"
             ],
             [
              0.1111111111111111,
              "#46039f"
             ],
             [
              0.2222222222222222,
              "#7201a8"
             ],
             [
              0.3333333333333333,
              "#9c179e"
             ],
             [
              0.4444444444444444,
              "#bd3786"
             ],
             [
              0.5555555555555556,
              "#d8576b"
             ],
             [
              0.6666666666666666,
              "#ed7953"
             ],
             [
              0.7777777777777778,
              "#fb9f3a"
             ],
             [
              0.8888888888888888,
              "#fdca26"
             ],
             [
              1,
              "#f0f921"
             ]
            ],
            "type": "histogram2d"
           }
          ],
          "histogram2dcontour": [
           {
            "colorbar": {
             "outlinewidth": 0,
             "ticks": ""
            },
            "colorscale": [
             [
              0,
              "#0d0887"
             ],
             [
              0.1111111111111111,
              "#46039f"
             ],
             [
              0.2222222222222222,
              "#7201a8"
             ],
             [
              0.3333333333333333,
              "#9c179e"
             ],
             [
              0.4444444444444444,
              "#bd3786"
             ],
             [
              0.5555555555555556,
              "#d8576b"
             ],
             [
              0.6666666666666666,
              "#ed7953"
             ],
             [
              0.7777777777777778,
              "#fb9f3a"
             ],
             [
              0.8888888888888888,
              "#fdca26"
             ],
             [
              1,
              "#f0f921"
             ]
            ],
            "type": "histogram2dcontour"
           }
          ],
          "mesh3d": [
           {
            "colorbar": {
             "outlinewidth": 0,
             "ticks": ""
            },
            "type": "mesh3d"
           }
          ],
          "parcoords": [
           {
            "line": {
             "colorbar": {
              "outlinewidth": 0,
              "ticks": ""
             }
            },
            "type": "parcoords"
           }
          ],
          "pie": [
           {
            "automargin": true,
            "type": "pie"
           }
          ],
          "scatter": [
           {
            "fillpattern": {
             "fillmode": "overlay",
             "size": 10,
             "solidity": 0.2
            },
            "type": "scatter"
           }
          ],
          "scatter3d": [
           {
            "line": {
             "colorbar": {
              "outlinewidth": 0,
              "ticks": ""
             }
            },
            "marker": {
             "colorbar": {
              "outlinewidth": 0,
              "ticks": ""
             }
            },
            "type": "scatter3d"
           }
          ],
          "scattercarpet": [
           {
            "marker": {
             "colorbar": {
              "outlinewidth": 0,
              "ticks": ""
             }
            },
            "type": "scattercarpet"
           }
          ],
          "scattergeo": [
           {
            "marker": {
             "colorbar": {
              "outlinewidth": 0,
              "ticks": ""
             }
            },
            "type": "scattergeo"
           }
          ],
          "scattergl": [
           {
            "marker": {
             "colorbar": {
              "outlinewidth": 0,
              "ticks": ""
             }
            },
            "type": "scattergl"
           }
          ],
          "scattermapbox": [
           {
            "marker": {
             "colorbar": {
              "outlinewidth": 0,
              "ticks": ""
             }
            },
            "type": "scattermapbox"
           }
          ],
          "scatterpolar": [
           {
            "marker": {
             "colorbar": {
              "outlinewidth": 0,
              "ticks": ""
             }
            },
            "type": "scatterpolar"
           }
          ],
          "scatterpolargl": [
           {
            "marker": {
             "colorbar": {
              "outlinewidth": 0,
              "ticks": ""
             }
            },
            "type": "scatterpolargl"
           }
          ],
          "scatterternary": [
           {
            "marker": {
             "colorbar": {
              "outlinewidth": 0,
              "ticks": ""
             }
            },
            "type": "scatterternary"
           }
          ],
          "surface": [
           {
            "colorbar": {
             "outlinewidth": 0,
             "ticks": ""
            },
            "colorscale": [
             [
              0,
              "#0d0887"
             ],
             [
              0.1111111111111111,
              "#46039f"
             ],
             [
              0.2222222222222222,
              "#7201a8"
             ],
             [
              0.3333333333333333,
              "#9c179e"
             ],
             [
              0.4444444444444444,
              "#bd3786"
             ],
             [
              0.5555555555555556,
              "#d8576b"
             ],
             [
              0.6666666666666666,
              "#ed7953"
             ],
             [
              0.7777777777777778,
              "#fb9f3a"
             ],
             [
              0.8888888888888888,
              "#fdca26"
             ],
             [
              1,
              "#f0f921"
             ]
            ],
            "type": "surface"
           }
          ],
          "table": [
           {
            "cells": {
             "fill": {
              "color": "#EBF0F8"
             },
             "line": {
              "color": "white"
             }
            },
            "header": {
             "fill": {
              "color": "#C8D4E3"
             },
             "line": {
              "color": "white"
             }
            },
            "type": "table"
           }
          ]
         },
         "layout": {
          "annotationdefaults": {
           "arrowcolor": "#2a3f5f",
           "arrowhead": 0,
           "arrowwidth": 1
          },
          "autotypenumbers": "strict",
          "coloraxis": {
           "colorbar": {
            "outlinewidth": 0,
            "ticks": ""
           }
          },
          "colorscale": {
           "diverging": [
            [
             0,
             "#8e0152"
            ],
            [
             0.1,
             "#c51b7d"
            ],
            [
             0.2,
             "#de77ae"
            ],
            [
             0.3,
             "#f1b6da"
            ],
            [
             0.4,
             "#fde0ef"
            ],
            [
             0.5,
             "#f7f7f7"
            ],
            [
             0.6,
             "#e6f5d0"
            ],
            [
             0.7,
             "#b8e186"
            ],
            [
             0.8,
             "#7fbc41"
            ],
            [
             0.9,
             "#4d9221"
            ],
            [
             1,
             "#276419"
            ]
           ],
           "sequential": [
            [
             0,
             "#0d0887"
            ],
            [
             0.1111111111111111,
             "#46039f"
            ],
            [
             0.2222222222222222,
             "#7201a8"
            ],
            [
             0.3333333333333333,
             "#9c179e"
            ],
            [
             0.4444444444444444,
             "#bd3786"
            ],
            [
             0.5555555555555556,
             "#d8576b"
            ],
            [
             0.6666666666666666,
             "#ed7953"
            ],
            [
             0.7777777777777778,
             "#fb9f3a"
            ],
            [
             0.8888888888888888,
             "#fdca26"
            ],
            [
             1,
             "#f0f921"
            ]
           ],
           "sequentialminus": [
            [
             0,
             "#0d0887"
            ],
            [
             0.1111111111111111,
             "#46039f"
            ],
            [
             0.2222222222222222,
             "#7201a8"
            ],
            [
             0.3333333333333333,
             "#9c179e"
            ],
            [
             0.4444444444444444,
             "#bd3786"
            ],
            [
             0.5555555555555556,
             "#d8576b"
            ],
            [
             0.6666666666666666,
             "#ed7953"
            ],
            [
             0.7777777777777778,
             "#fb9f3a"
            ],
            [
             0.8888888888888888,
             "#fdca26"
            ],
            [
             1,
             "#f0f921"
            ]
           ]
          },
          "colorway": [
           "#636efa",
           "#EF553B",
           "#00cc96",
           "#ab63fa",
           "#FFA15A",
           "#19d3f3",
           "#FF6692",
           "#B6E880",
           "#FF97FF",
           "#FECB52"
          ],
          "font": {
           "color": "#2a3f5f"
          },
          "geo": {
           "bgcolor": "white",
           "lakecolor": "white",
           "landcolor": "#E5ECF6",
           "showlakes": true,
           "showland": true,
           "subunitcolor": "white"
          },
          "hoverlabel": {
           "align": "left"
          },
          "hovermode": "closest",
          "mapbox": {
           "style": "light"
          },
          "paper_bgcolor": "white",
          "plot_bgcolor": "#E5ECF6",
          "polar": {
           "angularaxis": {
            "gridcolor": "white",
            "linecolor": "white",
            "ticks": ""
           },
           "bgcolor": "#E5ECF6",
           "radialaxis": {
            "gridcolor": "white",
            "linecolor": "white",
            "ticks": ""
           }
          },
          "scene": {
           "xaxis": {
            "backgroundcolor": "#E5ECF6",
            "gridcolor": "white",
            "gridwidth": 2,
            "linecolor": "white",
            "showbackground": true,
            "ticks": "",
            "zerolinecolor": "white"
           },
           "yaxis": {
            "backgroundcolor": "#E5ECF6",
            "gridcolor": "white",
            "gridwidth": 2,
            "linecolor": "white",
            "showbackground": true,
            "ticks": "",
            "zerolinecolor": "white"
           },
           "zaxis": {
            "backgroundcolor": "#E5ECF6",
            "gridcolor": "white",
            "gridwidth": 2,
            "linecolor": "white",
            "showbackground": true,
            "ticks": "",
            "zerolinecolor": "white"
           }
          },
          "shapedefaults": {
           "line": {
            "color": "#2a3f5f"
           }
          },
          "ternary": {
           "aaxis": {
            "gridcolor": "white",
            "linecolor": "white",
            "ticks": ""
           },
           "baxis": {
            "gridcolor": "white",
            "linecolor": "white",
            "ticks": ""
           },
           "bgcolor": "#E5ECF6",
           "caxis": {
            "gridcolor": "white",
            "linecolor": "white",
            "ticks": ""
           }
          },
          "title": {
           "x": 0.05
          },
          "xaxis": {
           "automargin": true,
           "gridcolor": "white",
           "linecolor": "white",
           "ticks": "",
           "title": {
            "standoff": 15
           },
           "zerolinecolor": "white",
           "zerolinewidth": 2
          },
          "yaxis": {
           "automargin": true,
           "gridcolor": "white",
           "linecolor": "white",
           "ticks": "",
           "title": {
            "standoff": 15
           },
           "zerolinecolor": "white",
           "zerolinewidth": 2
          }
         }
        },
        "title": {
         "text": "Group of models versus metrics"
        },
        "yaxis": {
         "title": {
          "text": "Value"
         }
        }
       }
      }
     },
     "metadata": {},
     "output_type": "display_data"
    },
    {
     "name": "stdout",
     "output_type": "stream",
     "text": [
      " Confusion matrix -----------------------------------\n"
     ]
    },
    {
     "data": {
      "text/html": [
       "<div>\n",
       "<style scoped>\n",
       "    .dataframe tbody tr th:only-of-type {\n",
       "        vertical-align: middle;\n",
       "    }\n",
       "\n",
       "    .dataframe tbody tr th {\n",
       "        vertical-align: top;\n",
       "    }\n",
       "\n",
       "    .dataframe thead th {\n",
       "        text-align: right;\n",
       "    }\n",
       "</style>\n",
       "<table border=\"1\" class=\"dataframe\">\n",
       "  <thead>\n",
       "    <tr style=\"text-align: right;\">\n",
       "      <th>Prediction</th>\n",
       "      <th>0</th>\n",
       "      <th>1</th>\n",
       "    </tr>\n",
       "    <tr>\n",
       "      <th>Real</th>\n",
       "      <th></th>\n",
       "      <th></th>\n",
       "    </tr>\n",
       "  </thead>\n",
       "  <tbody>\n",
       "    <tr>\n",
       "      <th>0</th>\n",
       "      <td>415</td>\n",
       "      <td>124</td>\n",
       "    </tr>\n",
       "    <tr>\n",
       "      <th>1</th>\n",
       "      <td>223</td>\n",
       "      <td>3906</td>\n",
       "    </tr>\n",
       "  </tbody>\n",
       "</table>\n",
       "</div>"
      ],
      "text/plain": [
       "Prediction    0     1\n",
       "Real                 \n",
       "0           415   124\n",
       "1           223  3906"
      ]
     },
     "metadata": {},
     "output_type": "display_data"
    },
    {
     "name": "stdout",
     "output_type": "stream",
     "text": [
      " Classification Report -------------------------------\n",
      "              precision    recall  f1-score   support\n",
      "\n",
      "           0       0.65      0.77      0.71       539\n",
      "           1       0.97      0.95      0.96      4129\n",
      "\n",
      "    accuracy                           0.93      4668\n",
      "   macro avg       0.81      0.86      0.83      4668\n",
      "weighted avg       0.93      0.93      0.93      4668\n",
      "\n"
     ]
    }
   ],
   "source": [
    "# Another try with a different embedding_size\n",
    "\n",
    "model_name = \"GRU_esz50_1\"\n",
    "\n",
    "embedding_size = 50\n",
    "model = Sequential()\n",
    "\n",
    "model.add(Embedding(input_dim=num_words, \n",
    "                    output_dim=embedding_size, \n",
    "                    input_length=max_tokens,\n",
    "                    name=\"embedding_layer\"))\n",
    "\n",
    "model.add(GRU(units=48, return_sequences=True))\n",
    "model.add(GRU(units=24, return_sequences=True)) \n",
    "model.add(GRU(units=12))\n",
    "model.add(Dense(1, activation='sigmoid'))\n",
    "\n",
    "# Compile\n",
    "optimizer = Adam(learning_rate=0.006)\n",
    "model.compile(loss='binary_crossentropy', optimizer=optimizer, metrics=['Recall'])\n",
    "\n",
    "model.summary()\n",
    "\n",
    "\n",
    "# fit and evaluate\n",
    "weights = {0:88, 1:18}\n",
    "\n",
    "t0 = time()\n",
    "model.fit(X_train, y_train, \n",
    "          epochs=30, \n",
    "          batch_size=256, \n",
    "          class_weight=weights,\n",
    "          validation_data=(X_test, y_test), \n",
    "          callbacks=[early_stop])\n",
    "time_train = time() - t0\n",
    "\n",
    "results = model.evaluate(X_test, y_test)\n",
    "print(\"results:\", results)\n",
    "\n",
    "# prediction\n",
    "t1 = time()\n",
    "pred = model.predict(X_test)\n",
    "time_predict = time() - t1  # records duration of predicting\n",
    "prediction = (1 * (pred >= 0.5))[:, 0]\n",
    "\n",
    "accuracy = metrics.accuracy_score(y_test, prediction)\n",
    "# The balanced accuracy in binary and multiclass classification problems\n",
    "# to deal with imbalanced datasets.\n",
    "# It is defined as the average of recall obtained on each class.\n",
    "# The best value is 1 and the worst value is 0 when adjusted=False.\n",
    "balanced_accuracy = metrics.balanced_accuracy_score(y_test, prediction)\n",
    "\n",
    "f1_score = metrics.f1_score(y_test, prediction)\n",
    "f1_score_macro = metrics.f1_score(y_test, prediction, average=\"macro\")\n",
    "f1_score_weighted = metrics.f1_score(y_test, prediction, average=\"weighted\")\n",
    "\n",
    "recall = metrics.recall_score(y_test, prediction, pos_label=0)\n",
    "recall_macro = metrics.recall_score(y_test, prediction, average=\"macro\")\n",
    "recall_weighted = metrics.recall_score(y_test, prediction, average=\"weighted\")\n",
    "\n",
    "# precision is intuitively the ability of the classifier not to label as positive a sample that is negative.\n",
    "# we set pos_label=0 : that is negative rating (rating <=3)\n",
    "precision = metrics.precision_score(y_test, prediction, pos_label=0)\n",
    "precision_macro = metrics.precision_score(y_test, prediction, average=\"macro\")\n",
    "precision_weighted = metrics.precision_score(y_test, prediction, average=\"weighted\")\n",
    "\n",
    "cl_report = metrics.classification_report(y_test, prediction)\n",
    "cf_matrix = pd.crosstab(y_test, prediction, rownames=[\"Real\"], colnames=[\"Prediction\"])\n",
    "\n",
    "# put metrics into a dictionnary and into a DataFrame\n",
    "res = {\n",
    "        \"model\": model_name,\n",
    "        \"accuracy\": accuracy,\n",
    "        \"balanced_accuracy\": balanced_accuracy,\n",
    "        \"f1\": f1_score,\n",
    "        \"f1_macro\": f1_score_macro,\n",
    "        \"f1_weighted\": f1_score_weighted,\n",
    "        \"recall_0\": recall,\n",
    "        \"recall_macro\": recall_macro,\n",
    "        \"recall_weighted\": recall_weighted,\n",
    "        \"precision_0\": precision,\n",
    "        \"precision_macro\": precision_macro,\n",
    "        \"precision_weighted\": precision_weighted,\n",
    "        \"time_train\": time_train,\n",
    "        \"time_predict\": time_predict,\n",
    "    }\n",
    "\n",
    "# DataFrame of model's performance\n",
    "df_p = pd.DataFrame(res, index=[0])\n",
    "\n",
    "# Save performance data in a csv file\n",
    "file_name = \"perf_\"+model_name+\".csv\"\n",
    "df_p.to_csv(file_name)\n",
    "\n",
    "# perf data to plot\n",
    "data = df_p.iloc[:,:-2]\n",
    "\n",
    "# Radar chart of model's performance\n",
    "plot_radar_metrics(data, model_name)\n",
    "\n",
    "# Barplot of models performance\n",
    "model_list=[model_name]\n",
    "barplot_models_group_vs_metric(data, model_list)\n",
    "\n",
    "\n",
    "print(\" Confusion matrix -----------------------------------\")\n",
    "display(cf_matrix)\n",
    "print(\" Classification Report -------------------------------\")\n",
    "print(cl_report)"
   ]
  },
  {
   "cell_type": "code",
   "execution_count": null,
   "id": "4b691630",
   "metadata": {},
   "outputs": [
    {
     "name": "stdout",
     "output_type": "stream",
     "text": [
      "Model: \"sequential_4\"\n",
      "_________________________________________________________________\n",
      " Layer (type)                Output Shape              Param #   \n",
      "=================================================================\n",
      " embedding_layer (Embedding  (None, 148, 50)           500000    \n",
      " )                                                               \n",
      "                                                                 \n",
      " gru_12 (GRU)                (None, 148, 48)           14400     \n",
      "                                                                 \n",
      " gru_13 (GRU)                (None, 148, 24)           5328      \n",
      "                                                                 \n",
      " gru_14 (GRU)                (None, 12)                1368      \n",
      "                                                                 \n",
      " dense_4 (Dense)             (None, 1)                 13        \n",
      "                                                                 \n",
      "=================================================================\n",
      "Total params: 521109 (1.99 MB)\n",
      "Trainable params: 521109 (1.99 MB)\n",
      "Non-trainable params: 0 (0.00 Byte)\n",
      "_________________________________________________________________\n",
      "Epoch 1/30\n",
      "73/73 [==============================] - 35s 365ms/step - loss: 10.7277 - accuracy: 0.8590 - val_loss: 0.3225 - val_accuracy: 0.8571\n",
      "Epoch 2/30\n",
      "73/73 [==============================] - 24s 328ms/step - loss: 5.4805 - accuracy: 0.9265 - val_loss: 0.2136 - val_accuracy: 0.9165\n",
      "Epoch 3/30\n",
      "73/73 [==============================] - 23s 319ms/step - loss: 3.8534 - accuracy: 0.9526 - val_loss: 0.2139 - val_accuracy: 0.9180\n",
      "Epoch 4/30\n",
      "73/73 [==============================] - 23s 319ms/step - loss: 2.9041 - accuracy: 0.9652 - val_loss: 0.2381 - val_accuracy: 0.9180\n",
      "Epoch 5/30\n",
      "73/73 [==============================] - 23s 318ms/step - loss: 2.4651 - accuracy: 0.9712 - val_loss: 0.2668 - val_accuracy: 0.9182\n",
      "Epoch 6/30\n",
      "73/73 [==============================] - 23s 316ms/step - loss: 1.8050 - accuracy: 0.9826 - val_loss: 0.2729 - val_accuracy: 0.9186\n",
      "Epoch 7/30\n",
      "73/73 [==============================] - 23s 318ms/step - loss: 1.7026 - accuracy: 0.9821 - val_loss: 0.2792 - val_accuracy: 0.9210\n",
      "Epoch 8/30\n",
      "73/73 [==============================] - 25s 340ms/step - loss: 1.5512 - accuracy: 0.9846 - val_loss: 0.3252 - val_accuracy: 0.9126\n",
      "Epoch 9/30\n",
      "73/73 [==============================] - 26s 355ms/step - loss: 1.4050 - accuracy: 0.9863 - val_loss: 0.3362 - val_accuracy: 0.9120\n",
      "Epoch 10/30\n",
      "73/73 [==============================] - 25s 337ms/step - loss: 1.2121 - accuracy: 0.9893 - val_loss: 0.3739 - val_accuracy: 0.8995\n",
      "Epoch 11/30\n",
      "73/73 [==============================] - 24s 333ms/step - loss: 1.2063 - accuracy: 0.9889 - val_loss: 0.3615 - val_accuracy: 0.9156\n",
      "Epoch 12/30\n",
      "73/73 [==============================] - ETA: 0s - loss: 1.1852 - accuracy: 0.9890Restoring model weights from the end of the best epoch: 2.\n",
      "73/73 [==============================] - 24s 323ms/step - loss: 1.1852 - accuracy: 0.9890 - val_loss: 0.3669 - val_accuracy: 0.9143\n",
      "Epoch 12: early stopping\n",
      "146/146 [==============================] - 3s 23ms/step - loss: 0.2136 - accuracy: 0.9165\n",
      "results: [0.2135634869337082, 0.9164524674415588]\n",
      "146/146 [==============================] - 5s 24ms/step\n"
     ]
    },
    {
     "data": {
      "application/vnd.plotly.v1+json": {
       "config": {
        "plotlyServerURL": "https://plot.ly"
       },
       "data": [
        {
         "fill": "toself",
         "hovertemplate": "r=%{r}<br>theta=%{theta}<extra></extra>",
         "legendgroup": "",
         "line": {
          "color": "#636efa",
          "dash": "solid"
         },
         "marker": {
          "symbol": "circle"
         },
         "mode": "markers+lines",
         "name": "",
         "r": [
          "GRU_esz50_2",
          0.9164524674415588,
          0.881796748730977,
          0.9515166583789161,
          0.8248295366197986,
          0.9222602922143213,
          0.8367346938775511,
          0.881796748730977,
          0.916452442159383,
          0.598937583001328,
          0.7882299664687356,
          0.9338082990839868,
          "GRU_esz50_2"
         ],
         "showlegend": false,
         "subplot": "polar",
         "theta": [
          "model",
          "accuracy",
          "balanced_accuracy",
          "f1",
          "f1_macro",
          "f1_weighted",
          "recall_0",
          "recall_macro",
          "recall_weighted",
          "precision_0",
          "precision_macro",
          "precision_weighted",
          "model"
         ],
         "type": "scatterpolar"
        }
       ],
       "layout": {
        "height": 500,
        "legend": {
         "tracegroupgap": 0
        },
        "margin": {
         "t": 60
        },
        "polar": {
         "angularaxis": {
          "direction": "clockwise",
          "rotation": 90
         },
         "domain": {
          "x": [
           0,
           1
          ],
          "y": [
           0,
           1
          ]
         }
        },
        "template": {
         "data": {
          "bar": [
           {
            "error_x": {
             "color": "#2a3f5f"
            },
            "error_y": {
             "color": "#2a3f5f"
            },
            "marker": {
             "line": {
              "color": "#E5ECF6",
              "width": 0.5
             },
             "pattern": {
              "fillmode": "overlay",
              "size": 10,
              "solidity": 0.2
             }
            },
            "type": "bar"
           }
          ],
          "barpolar": [
           {
            "marker": {
             "line": {
              "color": "#E5ECF6",
              "width": 0.5
             },
             "pattern": {
              "fillmode": "overlay",
              "size": 10,
              "solidity": 0.2
             }
            },
            "type": "barpolar"
           }
          ],
          "carpet": [
           {
            "aaxis": {
             "endlinecolor": "#2a3f5f",
             "gridcolor": "white",
             "linecolor": "white",
             "minorgridcolor": "white",
             "startlinecolor": "#2a3f5f"
            },
            "baxis": {
             "endlinecolor": "#2a3f5f",
             "gridcolor": "white",
             "linecolor": "white",
             "minorgridcolor": "white",
             "startlinecolor": "#2a3f5f"
            },
            "type": "carpet"
           }
          ],
          "choropleth": [
           {
            "colorbar": {
             "outlinewidth": 0,
             "ticks": ""
            },
            "type": "choropleth"
           }
          ],
          "contour": [
           {
            "colorbar": {
             "outlinewidth": 0,
             "ticks": ""
            },
            "colorscale": [
             [
              0,
              "#0d0887"
             ],
             [
              0.1111111111111111,
              "#46039f"
             ],
             [
              0.2222222222222222,
              "#7201a8"
             ],
             [
              0.3333333333333333,
              "#9c179e"
             ],
             [
              0.4444444444444444,
              "#bd3786"
             ],
             [
              0.5555555555555556,
              "#d8576b"
             ],
             [
              0.6666666666666666,
              "#ed7953"
             ],
             [
              0.7777777777777778,
              "#fb9f3a"
             ],
             [
              0.8888888888888888,
              "#fdca26"
             ],
             [
              1,
              "#f0f921"
             ]
            ],
            "type": "contour"
           }
          ],
          "contourcarpet": [
           {
            "colorbar": {
             "outlinewidth": 0,
             "ticks": ""
            },
            "type": "contourcarpet"
           }
          ],
          "heatmap": [
           {
            "colorbar": {
             "outlinewidth": 0,
             "ticks": ""
            },
            "colorscale": [
             [
              0,
              "#0d0887"
             ],
             [
              0.1111111111111111,
              "#46039f"
             ],
             [
              0.2222222222222222,
              "#7201a8"
             ],
             [
              0.3333333333333333,
              "#9c179e"
             ],
             [
              0.4444444444444444,
              "#bd3786"
             ],
             [
              0.5555555555555556,
              "#d8576b"
             ],
             [
              0.6666666666666666,
              "#ed7953"
             ],
             [
              0.7777777777777778,
              "#fb9f3a"
             ],
             [
              0.8888888888888888,
              "#fdca26"
             ],
             [
              1,
              "#f0f921"
             ]
            ],
            "type": "heatmap"
           }
          ],
          "heatmapgl": [
           {
            "colorbar": {
             "outlinewidth": 0,
             "ticks": ""
            },
            "colorscale": [
             [
              0,
              "#0d0887"
             ],
             [
              0.1111111111111111,
              "#46039f"
             ],
             [
              0.2222222222222222,
              "#7201a8"
             ],
             [
              0.3333333333333333,
              "#9c179e"
             ],
             [
              0.4444444444444444,
              "#bd3786"
             ],
             [
              0.5555555555555556,
              "#d8576b"
             ],
             [
              0.6666666666666666,
              "#ed7953"
             ],
             [
              0.7777777777777778,
              "#fb9f3a"
             ],
             [
              0.8888888888888888,
              "#fdca26"
             ],
             [
              1,
              "#f0f921"
             ]
            ],
            "type": "heatmapgl"
           }
          ],
          "histogram": [
           {
            "marker": {
             "pattern": {
              "fillmode": "overlay",
              "size": 10,
              "solidity": 0.2
             }
            },
            "type": "histogram"
           }
          ],
          "histogram2d": [
           {
            "colorbar": {
             "outlinewidth": 0,
             "ticks": ""
            },
            "colorscale": [
             [
              0,
              "#0d0887"
             ],
             [
              0.1111111111111111,
              "#46039f"
             ],
             [
              0.2222222222222222,
              "#7201a8"
             ],
             [
              0.3333333333333333,
              "#9c179e"
             ],
             [
              0.4444444444444444,
              "#bd3786"
             ],
             [
              0.5555555555555556,
              "#d8576b"
             ],
             [
              0.6666666666666666,
              "#ed7953"
             ],
             [
              0.7777777777777778,
              "#fb9f3a"
             ],
             [
              0.8888888888888888,
              "#fdca26"
             ],
             [
              1,
              "#f0f921"
             ]
            ],
            "type": "histogram2d"
           }
          ],
          "histogram2dcontour": [
           {
            "colorbar": {
             "outlinewidth": 0,
             "ticks": ""
            },
            "colorscale": [
             [
              0,
              "#0d0887"
             ],
             [
              0.1111111111111111,
              "#46039f"
             ],
             [
              0.2222222222222222,
              "#7201a8"
             ],
             [
              0.3333333333333333,
              "#9c179e"
             ],
             [
              0.4444444444444444,
              "#bd3786"
             ],
             [
              0.5555555555555556,
              "#d8576b"
             ],
             [
              0.6666666666666666,
              "#ed7953"
             ],
             [
              0.7777777777777778,
              "#fb9f3a"
             ],
             [
              0.8888888888888888,
              "#fdca26"
             ],
             [
              1,
              "#f0f921"
             ]
            ],
            "type": "histogram2dcontour"
           }
          ],
          "mesh3d": [
           {
            "colorbar": {
             "outlinewidth": 0,
             "ticks": ""
            },
            "type": "mesh3d"
           }
          ],
          "parcoords": [
           {
            "line": {
             "colorbar": {
              "outlinewidth": 0,
              "ticks": ""
             }
            },
            "type": "parcoords"
           }
          ],
          "pie": [
           {
            "automargin": true,
            "type": "pie"
           }
          ],
          "scatter": [
           {
            "fillpattern": {
             "fillmode": "overlay",
             "size": 10,
             "solidity": 0.2
            },
            "type": "scatter"
           }
          ],
          "scatter3d": [
           {
            "line": {
             "colorbar": {
              "outlinewidth": 0,
              "ticks": ""
             }
            },
            "marker": {
             "colorbar": {
              "outlinewidth": 0,
              "ticks": ""
             }
            },
            "type": "scatter3d"
           }
          ],
          "scattercarpet": [
           {
            "marker": {
             "colorbar": {
              "outlinewidth": 0,
              "ticks": ""
             }
            },
            "type": "scattercarpet"
           }
          ],
          "scattergeo": [
           {
            "marker": {
             "colorbar": {
              "outlinewidth": 0,
              "ticks": ""
             }
            },
            "type": "scattergeo"
           }
          ],
          "scattergl": [
           {
            "marker": {
             "colorbar": {
              "outlinewidth": 0,
              "ticks": ""
             }
            },
            "type": "scattergl"
           }
          ],
          "scattermapbox": [
           {
            "marker": {
             "colorbar": {
              "outlinewidth": 0,
              "ticks": ""
             }
            },
            "type": "scattermapbox"
           }
          ],
          "scatterpolar": [
           {
            "marker": {
             "colorbar": {
              "outlinewidth": 0,
              "ticks": ""
             }
            },
            "type": "scatterpolar"
           }
          ],
          "scatterpolargl": [
           {
            "marker": {
             "colorbar": {
              "outlinewidth": 0,
              "ticks": ""
             }
            },
            "type": "scatterpolargl"
           }
          ],
          "scatterternary": [
           {
            "marker": {
             "colorbar": {
              "outlinewidth": 0,
              "ticks": ""
             }
            },
            "type": "scatterternary"
           }
          ],
          "surface": [
           {
            "colorbar": {
             "outlinewidth": 0,
             "ticks": ""
            },
            "colorscale": [
             [
              0,
              "#0d0887"
             ],
             [
              0.1111111111111111,
              "#46039f"
             ],
             [
              0.2222222222222222,
              "#7201a8"
             ],
             [
              0.3333333333333333,
              "#9c179e"
             ],
             [
              0.4444444444444444,
              "#bd3786"
             ],
             [
              0.5555555555555556,
              "#d8576b"
             ],
             [
              0.6666666666666666,
              "#ed7953"
             ],
             [
              0.7777777777777778,
              "#fb9f3a"
             ],
             [
              0.8888888888888888,
              "#fdca26"
             ],
             [
              1,
              "#f0f921"
             ]
            ],
            "type": "surface"
           }
          ],
          "table": [
           {
            "cells": {
             "fill": {
              "color": "#EBF0F8"
             },
             "line": {
              "color": "white"
             }
            },
            "header": {
             "fill": {
              "color": "#C8D4E3"
             },
             "line": {
              "color": "white"
             }
            },
            "type": "table"
           }
          ]
         },
         "layout": {
          "annotationdefaults": {
           "arrowcolor": "#2a3f5f",
           "arrowhead": 0,
           "arrowwidth": 1
          },
          "autotypenumbers": "strict",
          "coloraxis": {
           "colorbar": {
            "outlinewidth": 0,
            "ticks": ""
           }
          },
          "colorscale": {
           "diverging": [
            [
             0,
             "#8e0152"
            ],
            [
             0.1,
             "#c51b7d"
            ],
            [
             0.2,
             "#de77ae"
            ],
            [
             0.3,
             "#f1b6da"
            ],
            [
             0.4,
             "#fde0ef"
            ],
            [
             0.5,
             "#f7f7f7"
            ],
            [
             0.6,
             "#e6f5d0"
            ],
            [
             0.7,
             "#b8e186"
            ],
            [
             0.8,
             "#7fbc41"
            ],
            [
             0.9,
             "#4d9221"
            ],
            [
             1,
             "#276419"
            ]
           ],
           "sequential": [
            [
             0,
             "#0d0887"
            ],
            [
             0.1111111111111111,
             "#46039f"
            ],
            [
             0.2222222222222222,
             "#7201a8"
            ],
            [
             0.3333333333333333,
             "#9c179e"
            ],
            [
             0.4444444444444444,
             "#bd3786"
            ],
            [
             0.5555555555555556,
             "#d8576b"
            ],
            [
             0.6666666666666666,
             "#ed7953"
            ],
            [
             0.7777777777777778,
             "#fb9f3a"
            ],
            [
             0.8888888888888888,
             "#fdca26"
            ],
            [
             1,
             "#f0f921"
            ]
           ],
           "sequentialminus": [
            [
             0,
             "#0d0887"
            ],
            [
             0.1111111111111111,
             "#46039f"
            ],
            [
             0.2222222222222222,
             "#7201a8"
            ],
            [
             0.3333333333333333,
             "#9c179e"
            ],
            [
             0.4444444444444444,
             "#bd3786"
            ],
            [
             0.5555555555555556,
             "#d8576b"
            ],
            [
             0.6666666666666666,
             "#ed7953"
            ],
            [
             0.7777777777777778,
             "#fb9f3a"
            ],
            [
             0.8888888888888888,
             "#fdca26"
            ],
            [
             1,
             "#f0f921"
            ]
           ]
          },
          "colorway": [
           "#636efa",
           "#EF553B",
           "#00cc96",
           "#ab63fa",
           "#FFA15A",
           "#19d3f3",
           "#FF6692",
           "#B6E880",
           "#FF97FF",
           "#FECB52"
          ],
          "font": {
           "color": "#2a3f5f"
          },
          "geo": {
           "bgcolor": "white",
           "lakecolor": "white",
           "landcolor": "#E5ECF6",
           "showlakes": true,
           "showland": true,
           "subunitcolor": "white"
          },
          "hoverlabel": {
           "align": "left"
          },
          "hovermode": "closest",
          "mapbox": {
           "style": "light"
          },
          "paper_bgcolor": "white",
          "plot_bgcolor": "#E5ECF6",
          "polar": {
           "angularaxis": {
            "gridcolor": "white",
            "linecolor": "white",
            "ticks": ""
           },
           "bgcolor": "#E5ECF6",
           "radialaxis": {
            "gridcolor": "white",
            "linecolor": "white",
            "ticks": ""
           }
          },
          "scene": {
           "xaxis": {
            "backgroundcolor": "#E5ECF6",
            "gridcolor": "white",
            "gridwidth": 2,
            "linecolor": "white",
            "showbackground": true,
            "ticks": "",
            "zerolinecolor": "white"
           },
           "yaxis": {
            "backgroundcolor": "#E5ECF6",
            "gridcolor": "white",
            "gridwidth": 2,
            "linecolor": "white",
            "showbackground": true,
            "ticks": "",
            "zerolinecolor": "white"
           },
           "zaxis": {
            "backgroundcolor": "#E5ECF6",
            "gridcolor": "white",
            "gridwidth": 2,
            "linecolor": "white",
            "showbackground": true,
            "ticks": "",
            "zerolinecolor": "white"
           }
          },
          "shapedefaults": {
           "line": {
            "color": "#2a3f5f"
           }
          },
          "ternary": {
           "aaxis": {
            "gridcolor": "white",
            "linecolor": "white",
            "ticks": ""
           },
           "baxis": {
            "gridcolor": "white",
            "linecolor": "white",
            "ticks": ""
           },
           "bgcolor": "#E5ECF6",
           "caxis": {
            "gridcolor": "white",
            "linecolor": "white",
            "ticks": ""
           }
          },
          "title": {
           "x": 0.05
          },
          "xaxis": {
           "automargin": true,
           "gridcolor": "white",
           "linecolor": "white",
           "ticks": "",
           "title": {
            "standoff": 15
           },
           "zerolinecolor": "white",
           "zerolinewidth": 2
          },
          "yaxis": {
           "automargin": true,
           "gridcolor": "white",
           "linecolor": "white",
           "ticks": "",
           "title": {
            "standoff": 15
           },
           "zerolinecolor": "white",
           "zerolinewidth": 2
          }
         }
        },
        "title": {
         "text": "GRU_esz50_2 performance",
         "x": 0.5
        },
        "width": 500
       }
      }
     },
     "metadata": {},
     "output_type": "display_data"
    },
    {
     "data": {
      "application/vnd.plotly.v1+json": {
       "config": {
        "plotlyServerURL": "https://plot.ly"
       },
       "data": [
        {
         "name": "GRU_esz50_2",
         "offsetgroup": "0",
         "text": [
          "0.92",
          "0.88",
          "0.95",
          "0.82",
          "0.92",
          "0.84",
          "0.88",
          "0.92",
          "0.6",
          "0.79",
          "0.93"
         ],
         "textposition": "auto",
         "type": "bar",
         "x": [
          "accuracy",
          "balanced_accuracy",
          "f1",
          "f1_macro",
          "f1_weighted",
          "recall_0",
          "recall_macro",
          "recall_weighted",
          "precision_0",
          "precision_macro",
          "precision_weighted"
         ],
         "y": [
          0.92,
          0.88,
          0.95,
          0.82,
          0.92,
          0.84,
          0.88,
          0.92,
          0.6,
          0.79,
          0.93
         ]
        }
       ],
       "layout": {
        "shapes": [
         {
          "line": {
           "color": "magenta",
           "dash": "dash",
           "width": 1
          },
          "type": "line",
          "x0": 0,
          "x1": 1,
          "xref": "paper",
          "y0": 0.5,
          "y1": 0.5,
          "yref": "paper"
         }
        ],
        "template": {
         "data": {
          "bar": [
           {
            "error_x": {
             "color": "#2a3f5f"
            },
            "error_y": {
             "color": "#2a3f5f"
            },
            "marker": {
             "line": {
              "color": "#E5ECF6",
              "width": 0.5
             },
             "pattern": {
              "fillmode": "overlay",
              "size": 10,
              "solidity": 0.2
             }
            },
            "type": "bar"
           }
          ],
          "barpolar": [
           {
            "marker": {
             "line": {
              "color": "#E5ECF6",
              "width": 0.5
             },
             "pattern": {
              "fillmode": "overlay",
              "size": 10,
              "solidity": 0.2
             }
            },
            "type": "barpolar"
           }
          ],
          "carpet": [
           {
            "aaxis": {
             "endlinecolor": "#2a3f5f",
             "gridcolor": "white",
             "linecolor": "white",
             "minorgridcolor": "white",
             "startlinecolor": "#2a3f5f"
            },
            "baxis": {
             "endlinecolor": "#2a3f5f",
             "gridcolor": "white",
             "linecolor": "white",
             "minorgridcolor": "white",
             "startlinecolor": "#2a3f5f"
            },
            "type": "carpet"
           }
          ],
          "choropleth": [
           {
            "colorbar": {
             "outlinewidth": 0,
             "ticks": ""
            },
            "type": "choropleth"
           }
          ],
          "contour": [
           {
            "colorbar": {
             "outlinewidth": 0,
             "ticks": ""
            },
            "colorscale": [
             [
              0,
              "#0d0887"
             ],
             [
              0.1111111111111111,
              "#46039f"
             ],
             [
              0.2222222222222222,
              "#7201a8"
             ],
             [
              0.3333333333333333,
              "#9c179e"
             ],
             [
              0.4444444444444444,
              "#bd3786"
             ],
             [
              0.5555555555555556,
              "#d8576b"
             ],
             [
              0.6666666666666666,
              "#ed7953"
             ],
             [
              0.7777777777777778,
              "#fb9f3a"
             ],
             [
              0.8888888888888888,
              "#fdca26"
             ],
             [
              1,
              "#f0f921"
             ]
            ],
            "type": "contour"
           }
          ],
          "contourcarpet": [
           {
            "colorbar": {
             "outlinewidth": 0,
             "ticks": ""
            },
            "type": "contourcarpet"
           }
          ],
          "heatmap": [
           {
            "colorbar": {
             "outlinewidth": 0,
             "ticks": ""
            },
            "colorscale": [
             [
              0,
              "#0d0887"
             ],
             [
              0.1111111111111111,
              "#46039f"
             ],
             [
              0.2222222222222222,
              "#7201a8"
             ],
             [
              0.3333333333333333,
              "#9c179e"
             ],
             [
              0.4444444444444444,
              "#bd3786"
             ],
             [
              0.5555555555555556,
              "#d8576b"
             ],
             [
              0.6666666666666666,
              "#ed7953"
             ],
             [
              0.7777777777777778,
              "#fb9f3a"
             ],
             [
              0.8888888888888888,
              "#fdca26"
             ],
             [
              1,
              "#f0f921"
             ]
            ],
            "type": "heatmap"
           }
          ],
          "heatmapgl": [
           {
            "colorbar": {
             "outlinewidth": 0,
             "ticks": ""
            },
            "colorscale": [
             [
              0,
              "#0d0887"
             ],
             [
              0.1111111111111111,
              "#46039f"
             ],
             [
              0.2222222222222222,
              "#7201a8"
             ],
             [
              0.3333333333333333,
              "#9c179e"
             ],
             [
              0.4444444444444444,
              "#bd3786"
             ],
             [
              0.5555555555555556,
              "#d8576b"
             ],
             [
              0.6666666666666666,
              "#ed7953"
             ],
             [
              0.7777777777777778,
              "#fb9f3a"
             ],
             [
              0.8888888888888888,
              "#fdca26"
             ],
             [
              1,
              "#f0f921"
             ]
            ],
            "type": "heatmapgl"
           }
          ],
          "histogram": [
           {
            "marker": {
             "pattern": {
              "fillmode": "overlay",
              "size": 10,
              "solidity": 0.2
             }
            },
            "type": "histogram"
           }
          ],
          "histogram2d": [
           {
            "colorbar": {
             "outlinewidth": 0,
             "ticks": ""
            },
            "colorscale": [
             [
              0,
              "#0d0887"
             ],
             [
              0.1111111111111111,
              "#46039f"
             ],
             [
              0.2222222222222222,
              "#7201a8"
             ],
             [
              0.3333333333333333,
              "#9c179e"
             ],
             [
              0.4444444444444444,
              "#bd3786"
             ],
             [
              0.5555555555555556,
              "#d8576b"
             ],
             [
              0.6666666666666666,
              "#ed7953"
             ],
             [
              0.7777777777777778,
              "#fb9f3a"
             ],
             [
              0.8888888888888888,
              "#fdca26"
             ],
             [
              1,
              "#f0f921"
             ]
            ],
            "type": "histogram2d"
           }
          ],
          "histogram2dcontour": [
           {
            "colorbar": {
             "outlinewidth": 0,
             "ticks": ""
            },
            "colorscale": [
             [
              0,
              "#0d0887"
             ],
             [
              0.1111111111111111,
              "#46039f"
             ],
             [
              0.2222222222222222,
              "#7201a8"
             ],
             [
              0.3333333333333333,
              "#9c179e"
             ],
             [
              0.4444444444444444,
              "#bd3786"
             ],
             [
              0.5555555555555556,
              "#d8576b"
             ],
             [
              0.6666666666666666,
              "#ed7953"
             ],
             [
              0.7777777777777778,
              "#fb9f3a"
             ],
             [
              0.8888888888888888,
              "#fdca26"
             ],
             [
              1,
              "#f0f921"
             ]
            ],
            "type": "histogram2dcontour"
           }
          ],
          "mesh3d": [
           {
            "colorbar": {
             "outlinewidth": 0,
             "ticks": ""
            },
            "type": "mesh3d"
           }
          ],
          "parcoords": [
           {
            "line": {
             "colorbar": {
              "outlinewidth": 0,
              "ticks": ""
             }
            },
            "type": "parcoords"
           }
          ],
          "pie": [
           {
            "automargin": true,
            "type": "pie"
           }
          ],
          "scatter": [
           {
            "fillpattern": {
             "fillmode": "overlay",
             "size": 10,
             "solidity": 0.2
            },
            "type": "scatter"
           }
          ],
          "scatter3d": [
           {
            "line": {
             "colorbar": {
              "outlinewidth": 0,
              "ticks": ""
             }
            },
            "marker": {
             "colorbar": {
              "outlinewidth": 0,
              "ticks": ""
             }
            },
            "type": "scatter3d"
           }
          ],
          "scattercarpet": [
           {
            "marker": {
             "colorbar": {
              "outlinewidth": 0,
              "ticks": ""
             }
            },
            "type": "scattercarpet"
           }
          ],
          "scattergeo": [
           {
            "marker": {
             "colorbar": {
              "outlinewidth": 0,
              "ticks": ""
             }
            },
            "type": "scattergeo"
           }
          ],
          "scattergl": [
           {
            "marker": {
             "colorbar": {
              "outlinewidth": 0,
              "ticks": ""
             }
            },
            "type": "scattergl"
           }
          ],
          "scattermapbox": [
           {
            "marker": {
             "colorbar": {
              "outlinewidth": 0,
              "ticks": ""
             }
            },
            "type": "scattermapbox"
           }
          ],
          "scatterpolar": [
           {
            "marker": {
             "colorbar": {
              "outlinewidth": 0,
              "ticks": ""
             }
            },
            "type": "scatterpolar"
           }
          ],
          "scatterpolargl": [
           {
            "marker": {
             "colorbar": {
              "outlinewidth": 0,
              "ticks": ""
             }
            },
            "type": "scatterpolargl"
           }
          ],
          "scatterternary": [
           {
            "marker": {
             "colorbar": {
              "outlinewidth": 0,
              "ticks": ""
             }
            },
            "type": "scatterternary"
           }
          ],
          "surface": [
           {
            "colorbar": {
             "outlinewidth": 0,
             "ticks": ""
            },
            "colorscale": [
             [
              0,
              "#0d0887"
             ],
             [
              0.1111111111111111,
              "#46039f"
             ],
             [
              0.2222222222222222,
              "#7201a8"
             ],
             [
              0.3333333333333333,
              "#9c179e"
             ],
             [
              0.4444444444444444,
              "#bd3786"
             ],
             [
              0.5555555555555556,
              "#d8576b"
             ],
             [
              0.6666666666666666,
              "#ed7953"
             ],
             [
              0.7777777777777778,
              "#fb9f3a"
             ],
             [
              0.8888888888888888,
              "#fdca26"
             ],
             [
              1,
              "#f0f921"
             ]
            ],
            "type": "surface"
           }
          ],
          "table": [
           {
            "cells": {
             "fill": {
              "color": "#EBF0F8"
             },
             "line": {
              "color": "white"
             }
            },
            "header": {
             "fill": {
              "color": "#C8D4E3"
             },
             "line": {
              "color": "white"
             }
            },
            "type": "table"
           }
          ]
         },
         "layout": {
          "annotationdefaults": {
           "arrowcolor": "#2a3f5f",
           "arrowhead": 0,
           "arrowwidth": 1
          },
          "autotypenumbers": "strict",
          "coloraxis": {
           "colorbar": {
            "outlinewidth": 0,
            "ticks": ""
           }
          },
          "colorscale": {
           "diverging": [
            [
             0,
             "#8e0152"
            ],
            [
             0.1,
             "#c51b7d"
            ],
            [
             0.2,
             "#de77ae"
            ],
            [
             0.3,
             "#f1b6da"
            ],
            [
             0.4,
             "#fde0ef"
            ],
            [
             0.5,
             "#f7f7f7"
            ],
            [
             0.6,
             "#e6f5d0"
            ],
            [
             0.7,
             "#b8e186"
            ],
            [
             0.8,
             "#7fbc41"
            ],
            [
             0.9,
             "#4d9221"
            ],
            [
             1,
             "#276419"
            ]
           ],
           "sequential": [
            [
             0,
             "#0d0887"
            ],
            [
             0.1111111111111111,
             "#46039f"
            ],
            [
             0.2222222222222222,
             "#7201a8"
            ],
            [
             0.3333333333333333,
             "#9c179e"
            ],
            [
             0.4444444444444444,
             "#bd3786"
            ],
            [
             0.5555555555555556,
             "#d8576b"
            ],
            [
             0.6666666666666666,
             "#ed7953"
            ],
            [
             0.7777777777777778,
             "#fb9f3a"
            ],
            [
             0.8888888888888888,
             "#fdca26"
            ],
            [
             1,
             "#f0f921"
            ]
           ],
           "sequentialminus": [
            [
             0,
             "#0d0887"
            ],
            [
             0.1111111111111111,
             "#46039f"
            ],
            [
             0.2222222222222222,
             "#7201a8"
            ],
            [
             0.3333333333333333,
             "#9c179e"
            ],
            [
             0.4444444444444444,
             "#bd3786"
            ],
            [
             0.5555555555555556,
             "#d8576b"
            ],
            [
             0.6666666666666666,
             "#ed7953"
            ],
            [
             0.7777777777777778,
             "#fb9f3a"
            ],
            [
             0.8888888888888888,
             "#fdca26"
            ],
            [
             1,
             "#f0f921"
            ]
           ]
          },
          "colorway": [
           "#636efa",
           "#EF553B",
           "#00cc96",
           "#ab63fa",
           "#FFA15A",
           "#19d3f3",
           "#FF6692",
           "#B6E880",
           "#FF97FF",
           "#FECB52"
          ],
          "font": {
           "color": "#2a3f5f"
          },
          "geo": {
           "bgcolor": "white",
           "lakecolor": "white",
           "landcolor": "#E5ECF6",
           "showlakes": true,
           "showland": true,
           "subunitcolor": "white"
          },
          "hoverlabel": {
           "align": "left"
          },
          "hovermode": "closest",
          "mapbox": {
           "style": "light"
          },
          "paper_bgcolor": "white",
          "plot_bgcolor": "#E5ECF6",
          "polar": {
           "angularaxis": {
            "gridcolor": "white",
            "linecolor": "white",
            "ticks": ""
           },
           "bgcolor": "#E5ECF6",
           "radialaxis": {
            "gridcolor": "white",
            "linecolor": "white",
            "ticks": ""
           }
          },
          "scene": {
           "xaxis": {
            "backgroundcolor": "#E5ECF6",
            "gridcolor": "white",
            "gridwidth": 2,
            "linecolor": "white",
            "showbackground": true,
            "ticks": "",
            "zerolinecolor": "white"
           },
           "yaxis": {
            "backgroundcolor": "#E5ECF6",
            "gridcolor": "white",
            "gridwidth": 2,
            "linecolor": "white",
            "showbackground": true,
            "ticks": "",
            "zerolinecolor": "white"
           },
           "zaxis": {
            "backgroundcolor": "#E5ECF6",
            "gridcolor": "white",
            "gridwidth": 2,
            "linecolor": "white",
            "showbackground": true,
            "ticks": "",
            "zerolinecolor": "white"
           }
          },
          "shapedefaults": {
           "line": {
            "color": "#2a3f5f"
           }
          },
          "ternary": {
           "aaxis": {
            "gridcolor": "white",
            "linecolor": "white",
            "ticks": ""
           },
           "baxis": {
            "gridcolor": "white",
            "linecolor": "white",
            "ticks": ""
           },
           "bgcolor": "#E5ECF6",
           "caxis": {
            "gridcolor": "white",
            "linecolor": "white",
            "ticks": ""
           }
          },
          "title": {
           "x": 0.05
          },
          "xaxis": {
           "automargin": true,
           "gridcolor": "white",
           "linecolor": "white",
           "ticks": "",
           "title": {
            "standoff": 15
           },
           "zerolinecolor": "white",
           "zerolinewidth": 2
          },
          "yaxis": {
           "automargin": true,
           "gridcolor": "white",
           "linecolor": "white",
           "ticks": "",
           "title": {
            "standoff": 15
           },
           "zerolinecolor": "white",
           "zerolinewidth": 2
          }
         }
        },
        "title": {
         "text": "Group of models versus metrics"
        },
        "yaxis": {
         "title": {
          "text": "Value"
         }
        }
       }
      }
     },
     "metadata": {},
     "output_type": "display_data"
    },
    {
     "name": "stdout",
     "output_type": "stream",
     "text": [
      " Confusion matrix -----------------------------------\n"
     ]
    },
    {
     "data": {
      "text/html": [
       "<div>\n",
       "<style scoped>\n",
       "    .dataframe tbody tr th:only-of-type {\n",
       "        vertical-align: middle;\n",
       "    }\n",
       "\n",
       "    .dataframe tbody tr th {\n",
       "        vertical-align: top;\n",
       "    }\n",
       "\n",
       "    .dataframe thead th {\n",
       "        text-align: right;\n",
       "    }\n",
       "</style>\n",
       "<table border=\"1\" class=\"dataframe\">\n",
       "  <thead>\n",
       "    <tr style=\"text-align: right;\">\n",
       "      <th>Prediction</th>\n",
       "      <th>0</th>\n",
       "      <th>1</th>\n",
       "    </tr>\n",
       "    <tr>\n",
       "      <th>Real</th>\n",
       "      <th></th>\n",
       "      <th></th>\n",
       "    </tr>\n",
       "  </thead>\n",
       "  <tbody>\n",
       "    <tr>\n",
       "      <th>0</th>\n",
       "      <td>451</td>\n",
       "      <td>88</td>\n",
       "    </tr>\n",
       "    <tr>\n",
       "      <th>1</th>\n",
       "      <td>302</td>\n",
       "      <td>3827</td>\n",
       "    </tr>\n",
       "  </tbody>\n",
       "</table>\n",
       "</div>"
      ],
      "text/plain": [
       "Prediction    0     1\n",
       "Real                 \n",
       "0           451    88\n",
       "1           302  3827"
      ]
     },
     "metadata": {},
     "output_type": "display_data"
    },
    {
     "name": "stdout",
     "output_type": "stream",
     "text": [
      " Classification Report -------------------------------\n",
      "              precision    recall  f1-score   support\n",
      "\n",
      "           0       0.60      0.84      0.70       539\n",
      "           1       0.98      0.93      0.95      4129\n",
      "\n",
      "    accuracy                           0.92      4668\n",
      "   macro avg       0.79      0.88      0.82      4668\n",
      "weighted avg       0.93      0.92      0.92      4668\n",
      "\n"
     ]
    }
   ],
   "source": [
    "# Another try with a different but with a different metric\n",
    "\n",
    "model_name = \"GRU_esz50_2\"\n",
    "\n",
    "embedding_size = 50\n",
    "model = Sequential()\n",
    "\n",
    "model.add(Embedding(input_dim=num_words, \n",
    "                    output_dim=embedding_size, \n",
    "                    input_length=max_tokens,\n",
    "                    name=\"embedding_layer\"))\n",
    "\n",
    "model.add(GRU(units=48, return_sequences=True))\n",
    "model.add(GRU(units=24, return_sequences=True)) \n",
    "model.add(GRU(units=12))\n",
    "model.add(Dense(1, activation='sigmoid'))\n",
    "\n",
    "# Compile\n",
    "optimizer = Adam(learning_rate=0.006)\n",
    "model.compile(loss='binary_crossentropy', optimizer=optimizer, metrics=['accuracy'])\n",
    "\n",
    "model.summary()\n",
    "\n",
    "\n",
    "# fit and evaluate\n",
    "weights = {0:88, 1:18}\n",
    "\n",
    "t0 = time()\n",
    "model.fit(X_train, y_train, \n",
    "          epochs=30, \n",
    "          batch_size=256, \n",
    "          class_weight=weights,\n",
    "          validation_data=(X_test, y_test), \n",
    "          callbacks=[early_stop])\n",
    "time_train = time() - t0\n",
    "\n",
    "results = model.evaluate(X_test, y_test)\n",
    "print(\"results:\", results)\n",
    "\n",
    "# prediction\n",
    "t1 = time()\n",
    "pred = model.predict(X_test)\n",
    "time_predict = time() - t1  # records duration of predicting\n",
    "prediction = (1 * (pred >= 0.5))[:, 0]\n",
    "\n",
    "accuracy = results[1]\n",
    "# The balanced accuracy in binary and multiclass classification problems\n",
    "# to deal with imbalanced datasets.\n",
    "# It is defined as the average of recall obtained on each class.\n",
    "# The best value is 1 and the worst value is 0 when adjusted=False.\n",
    "balanced_accuracy = metrics.balanced_accuracy_score(y_test, prediction)\n",
    "\n",
    "f1_score = metrics.f1_score(y_test, prediction)\n",
    "f1_score_macro = metrics.f1_score(y_test, prediction, average=\"macro\")\n",
    "f1_score_weighted = metrics.f1_score(y_test, prediction, average=\"weighted\")\n",
    "\n",
    "recall = metrics.recall_score(y_test, prediction, pos_label=0)\n",
    "recall_macro = metrics.recall_score(y_test, prediction, average=\"macro\")\n",
    "recall_weighted = metrics.recall_score(y_test, prediction, average=\"weighted\")\n",
    "\n",
    "# precision is intuitively the ability of the classifier not to label as positive a sample that is negative.\n",
    "# we set pos_label=0 : that is negative rating (rating <=3)\n",
    "precision = metrics.precision_score(y_test, prediction, pos_label=0)\n",
    "precision_macro = metrics.precision_score(y_test, prediction, average=\"macro\")\n",
    "precision_weighted = metrics.precision_score(y_test, prediction, average=\"weighted\")\n",
    "\n",
    "cl_report = metrics.classification_report(y_test, prediction)\n",
    "cf_matrix = pd.crosstab(y_test, prediction, rownames=[\"Real\"], colnames=[\"Prediction\"])\n",
    "\n",
    "# put metrics into a dictionnary and into a DataFrame\n",
    "res = {\n",
    "        \"model\": model_name,\n",
    "        \"accuracy\": accuracy,\n",
    "        \"balanced_accuracy\": balanced_accuracy,\n",
    "        \"f1\": f1_score,\n",
    "        \"f1_macro\": f1_score_macro,\n",
    "        \"f1_weighted\": f1_score_weighted,\n",
    "        \"recall_0\": recall,\n",
    "        \"recall_macro\": recall_macro,\n",
    "        \"recall_weighted\": recall_weighted,\n",
    "        \"precision_0\": precision,\n",
    "        \"precision_macro\": precision_macro,\n",
    "        \"precision_weighted\": precision_weighted,\n",
    "        \"time_train\": time_train,\n",
    "        \"time_predict\": time_predict,\n",
    "    }\n",
    "\n",
    "# DataFrame of model's performance\n",
    "df_p = pd.DataFrame(res, index=[0])\n",
    "\n",
    "# Save performance data in a csv file\n",
    "file_name = \"perf_\"+model_name+\".csv\"\n",
    "df_p.to_csv(file_name)\n",
    "\n",
    "# perf data to plot\n",
    "data = df_p.iloc[:,:-2]\n",
    "\n",
    "# Radar chart of model's performance\n",
    "plot_radar_metrics(data, model_name)\n",
    "\n",
    "# Barplot of models performance\n",
    "model_list=[model_name]\n",
    "barplot_models_group_vs_metric(data, model_list)\n",
    "\n",
    "\n",
    "print(\" Confusion matrix -----------------------------------\")\n",
    "display(cf_matrix)\n",
    "print(\" Classification Report -------------------------------\")\n",
    "print(cl_report)"
   ]
  },
  {
   "cell_type": "code",
   "execution_count": null,
   "id": "c0a7c4c7",
   "metadata": {},
   "outputs": [],
   "source": [
    "# Another try with a different but with a different metric\n",
    "\n",
    "model_name = \"GRU_esz50_2\"\n",
    "\n",
    "embedding_size = 70\n",
    "model = Sequential()\n",
    "\n",
    "model.add(Embedding(input_dim=num_words, \n",
    "                    output_dim=embedding_size, \n",
    "                    input_length=max_tokens,\n",
    "                    name=\"embedding_layer\"))\n",
    "\n",
    "model.add(GRU(units=48, return_sequences=True))\n",
    "model.add(GRU(units=24, return_sequences=True)) \n",
    "model.add(GRU(units=12))\n",
    "model.add(Dense(1, activation='sigmoid'))\n",
    "\n",
    "# Compile\n",
    "optimizer = Adam(learning_rate=0.006)\n",
    "model.compile(loss='binary_crossentropy', optimizer=optimizer, metrics=['accuracy'])\n",
    "\n",
    "model.summary()\n",
    "\n",
    "\n",
    "# fit and evaluate\n",
    "weights = {0:88, 1:18}\n",
    "\n",
    "t0 = time()\n",
    "model.fit(X_train, y_train, \n",
    "          epochs=30, \n",
    "          batch_size=256, \n",
    "          class_weight=weights,\n",
    "          validation_data=(X_test, y_test), \n",
    "          callbacks=[early_stop])\n",
    "time_train = time() - t0\n",
    "\n",
    "results = model.evaluate(X_test, y_test)\n",
    "print(\"results:\", results)\n",
    "\n",
    "# prediction\n",
    "t1 = time()\n",
    "pred = model.predict(X_test)\n",
    "time_predict = time() - t1  # records duration of predicting\n",
    "prediction = (1 * (pred >= 0.5))[:, 0]\n",
    "\n",
    "accuracy = metrics.accuracy_score(y_test, prediction)\n",
    "# The balanced accuracy in binary and multiclass classification problems\n",
    "# to deal with imbalanced datasets.\n",
    "# It is defined as the average of recall obtained on each class.\n",
    "# The best value is 1 and the worst value is 0 when adjusted=False.\n",
    "balanced_accuracy = metrics.balanced_accuracy_score(y_test, prediction)\n",
    "\n",
    "f1_score = metrics.f1_score(y_test, prediction)\n",
    "f1_score_macro = metrics.f1_score(y_test, prediction, average=\"macro\")\n",
    "f1_score_weighted = metrics.f1_score(y_test, prediction, average=\"weighted\")\n",
    "\n",
    "recall = metrics.recall_score(y_test, prediction, pos_label=0)\n",
    "recall_macro = metrics.recall_score(y_test, prediction, average=\"macro\")\n",
    "recall_weighted = metrics.recall_score(y_test, prediction, average=\"weighted\")\n",
    "\n",
    "# precision is intuitively the ability of the classifier not to label as positive a sample that is negative.\n",
    "# we set pos_label=0 : that is negative rating (rating <=3)\n",
    "precision = metrics.precision_score(y_test, prediction, pos_label=0)\n",
    "precision_macro = metrics.precision_score(y_test, prediction, average=\"macro\")\n",
    "precision_weighted = metrics.precision_score(y_test, prediction, average=\"weighted\")\n",
    "\n",
    "cl_report = metrics.classification_report(y_test, prediction)\n",
    "cf_matrix = pd.crosstab(y_test, prediction, rownames=[\"Real\"], colnames=[\"Prediction\"])\n",
    "\n",
    "# put metrics into a dictionnary and into a DataFrame\n",
    "res = {\n",
    "        \"model\": model_name,\n",
    "        \"accuracy\": accuracy,\n",
    "        \"balanced_accuracy\": balanced_accuracy,\n",
    "        \"f1\": f1_score,\n",
    "        \"f1_macro\": f1_score_macro,\n",
    "        \"f1_weighted\": f1_score_weighted,\n",
    "        \"recall_0\": recall,\n",
    "        \"recall_macro\": recall_macro,\n",
    "        \"recall_weighted\": recall_weighted,\n",
    "        \"precision_0\": precision,\n",
    "        \"precision_macro\": precision_macro,\n",
    "        \"precision_weighted\": precision_weighted,\n",
    "        \"time_train\": time_train,\n",
    "        \"time_predict\": time_predict,\n",
    "    }\n",
    "\n",
    "# DataFrame of model's performance\n",
    "df_p = pd.DataFrame(res, index=[0])\n",
    "\n",
    "# Save performance data in a csv file\n",
    "file_name = \"perf_\"+model_name+\".csv\"\n",
    "df_p.to_csv(file_name)\n",
    "\n",
    "# perf data to plot\n",
    "data = df_p.iloc[:,:-2]\n",
    "\n",
    "# Radar chart of model's performance\n",
    "plot_radar_metrics(data, model_name)\n",
    "\n",
    "# Barplot of models performance\n",
    "model_list=[model_name]\n",
    "barplot_models_group_vs_metric(data, model_list)\n",
    "\n",
    "\n",
    "print(\" Confusion matrix -----------------------------------\")\n",
    "display(cf_matrix)\n",
    "print(\" Classification Report -------------------------------\")\n",
    "print(cl_report)"
   ]
  },
  {
   "cell_type": "markdown",
   "id": "c8d9f21e",
   "metadata": {},
   "source": [
    "# Multiclass Classification"
   ]
  },
  {
   "cell_type": "code",
   "execution_count": null,
   "id": "2fd3e76d",
   "metadata": {},
   "outputs": [
    {
     "name": "stdout",
     "output_type": "stream",
     "text": [
      "sentiment_rmc\n",
      " 1    20639\n",
      "-1     1469\n",
      " 0     1228\n",
      "Name: count, dtype: int64\n",
      "23331    0\n",
      "23332   -1\n",
      "23333    0\n",
      "23334   -1\n",
      "23335   -1\n",
      "Name: sentiment_rmc, dtype: int64\n"
     ]
    }
   ],
   "source": [
    "print(ym.value_counts())\n",
    "print(ym[-5:])\n"
   ]
  },
  {
   "cell_type": "code",
   "execution_count": null,
   "id": "e7907b53",
   "metadata": {},
   "outputs": [
    {
     "name": "stdout",
     "output_type": "stream",
     "text": [
      "[[1. 0. 0.]\n",
      " [0. 0. 1.]\n",
      " [1. 0. 0.]\n",
      " [0. 0. 1.]\n",
      " [0. 0. 1.]]\n"
     ]
    }
   ],
   "source": [
    "# change target to ym : -1 if rating <3 , 0 if rating = 3, 1 if rating > 3\n",
    "# convert ym to categorical\n",
    "\n",
    "from keras.utils import to_categorical\n",
    "y1 = to_categorical(ym, num_classes=3)\n",
    "\n",
    "print(y1[-5:])"
   ]
  },
  {
   "cell_type": "code",
   "execution_count": null,
   "id": "7270ea6e",
   "metadata": {},
   "outputs": [],
   "source": [
    "# split data int train data and test data (20% of data)\n",
    "\n",
    "X1_train, X1_test, y1_train, y1_test = train_test_split(X_pad, y1, \n",
    "                                                    test_size=0.2, \n",
    "                                                    stratify=y1, \n",
    "                                                    random_state=123)\n",
    "\n",
    "# convert y1_train and y1_test to \n"
   ]
  },
  {
   "cell_type": "code",
   "execution_count": null,
   "id": "ad4f0e33",
   "metadata": {},
   "outputs": [
    {
     "name": "stdout",
     "output_type": "stream",
     "text": [
      "Model: \"sequential_5\"\n",
      "_________________________________________________________________\n",
      " Layer (type)                Output Shape              Param #   \n",
      "=================================================================\n",
      " embedding_layer (Embedding  (None, 148, 100)          1000000   \n",
      " )                                                               \n",
      "                                                                 \n",
      " gru_15 (GRU)                (None, 148, 48)           21600     \n",
      "                                                                 \n",
      " gru_16 (GRU)                (None, 148, 24)           5328      \n",
      "                                                                 \n",
      " gru_17 (GRU)                (None, 12)                1368      \n",
      "                                                                 \n",
      " dense_5 (Dense)             (None, 3)                 39        \n",
      "                                                                 \n",
      "=================================================================\n",
      "Total params: 1028335 (3.92 MB)\n",
      "Trainable params: 1028335 (3.92 MB)\n",
      "Non-trainable params: 0 (0.00 Byte)\n",
      "_________________________________________________________________\n",
      "Epoch 1/30\n",
      "73/73 [==============================] - 38s 408ms/step - loss: 2.0764 - recall: 0.6915 - val_loss: 0.3973 - val_recall: 0.8147\n",
      "Epoch 2/30\n",
      "73/73 [==============================] - 25s 344ms/step - loss: 1.5099 - recall: 0.8310 - val_loss: 0.3419 - val_recall: 0.8447\n",
      "Epoch 3/30\n",
      "73/73 [==============================] - 27s 364ms/step - loss: 1.0408 - recall: 0.8819 - val_loss: 0.4337 - val_recall: 0.8130\n",
      "Epoch 4/30\n",
      "73/73 [==============================] - 27s 376ms/step - loss: 0.6795 - recall: 0.9126 - val_loss: 0.4798 - val_recall: 0.8290\n",
      "Epoch 5/30\n",
      "73/73 [==============================] - 27s 367ms/step - loss: 0.5100 - recall: 0.9271 - val_loss: 0.4044 - val_recall: 0.8695\n",
      "Epoch 6/30\n",
      "73/73 [==============================] - 27s 370ms/step - loss: 0.3785 - recall: 0.9434 - val_loss: 0.4442 - val_recall: 0.8680\n",
      "Epoch 7/30\n",
      "73/73 [==============================] - 27s 369ms/step - loss: 0.2995 - recall: 0.9564 - val_loss: 0.4982 - val_recall: 0.8567\n",
      "Epoch 8/30\n",
      "73/73 [==============================] - 27s 369ms/step - loss: 0.3298 - recall: 0.9566 - val_loss: 0.5911 - val_recall: 0.8415\n",
      "Epoch 9/30\n",
      "73/73 [==============================] - 27s 372ms/step - loss: 0.2359 - recall: 0.9633 - val_loss: 0.5401 - val_recall: 0.8552\n",
      "Epoch 10/30\n",
      "73/73 [==============================] - 27s 368ms/step - loss: 0.1883 - recall: 0.9716 - val_loss: 0.5474 - val_recall: 0.8719\n",
      "Epoch 11/30\n",
      "73/73 [==============================] - 28s 388ms/step - loss: 0.1737 - recall: 0.9719 - val_loss: 0.5603 - val_recall: 0.8732\n",
      "Epoch 12/30\n",
      "73/73 [==============================] - ETA: 0s - loss: 0.1491 - recall: 0.9752Restoring model weights from the end of the best epoch: 2.\n",
      "73/73 [==============================] - 31s 422ms/step - loss: 0.1491 - recall: 0.9752 - val_loss: 0.5381 - val_recall: 0.8826\n",
      "Epoch 12: early stopping\n",
      "146/146 [==============================] - 5s 31ms/step - loss: 0.3419 - recall: 0.8447\n",
      "results: [0.3419395387172699, 0.8446872234344482]\n",
      "146/146 [==============================] - 6s 31ms/step\n",
      " Training metrics -----------------------------------\n"
     ]
    },
    {
     "data": {
      "text/html": [
       "<div>\n",
       "<style scoped>\n",
       "    .dataframe tbody tr th:only-of-type {\n",
       "        vertical-align: middle;\n",
       "    }\n",
       "\n",
       "    .dataframe tbody tr th {\n",
       "        vertical-align: top;\n",
       "    }\n",
       "\n",
       "    .dataframe thead th {\n",
       "        text-align: right;\n",
       "    }\n",
       "</style>\n",
       "<table border=\"1\" class=\"dataframe\">\n",
       "  <thead>\n",
       "    <tr style=\"text-align: right;\">\n",
       "      <th>Prediction</th>\n",
       "      <th>0</th>\n",
       "      <th>1</th>\n",
       "      <th>2</th>\n",
       "    </tr>\n",
       "    <tr>\n",
       "      <th>Real</th>\n",
       "      <th></th>\n",
       "      <th></th>\n",
       "      <th></th>\n",
       "    </tr>\n",
       "  </thead>\n",
       "  <tbody>\n",
       "    <tr>\n",
       "      <th>0</th>\n",
       "      <td>123</td>\n",
       "      <td>52</td>\n",
       "      <td>71</td>\n",
       "    </tr>\n",
       "    <tr>\n",
       "      <th>1</th>\n",
       "      <td>304</td>\n",
       "      <td>3725</td>\n",
       "      <td>99</td>\n",
       "    </tr>\n",
       "    <tr>\n",
       "      <th>2</th>\n",
       "      <td>104</td>\n",
       "      <td>21</td>\n",
       "      <td>169</td>\n",
       "    </tr>\n",
       "  </tbody>\n",
       "</table>\n",
       "</div>"
      ],
      "text/plain": [
       "Prediction    0     1    2\n",
       "Real                      \n",
       "0           123    52   71\n",
       "1           304  3725   99\n",
       "2           104    21  169"
      ]
     },
     "metadata": {},
     "output_type": "display_data"
    },
    {
     "name": "stdout",
     "output_type": "stream",
     "text": [
      "-------------------------------------------------------\n",
      "              precision    recall  f1-score   support\n",
      "\n",
      "           0       0.23      0.50      0.32       246\n",
      "           1       0.98      0.90      0.94      4128\n",
      "           2       0.50      0.57      0.53       294\n",
      "\n",
      "    accuracy                           0.86      4668\n",
      "   macro avg       0.57      0.66      0.60      4668\n",
      "weighted avg       0.91      0.86      0.88      4668\n",
      "\n"
     ]
    }
   ],
   "source": [
    "#model GRU_mcl0\n",
    "embedding_size = 100\n",
    "model = Sequential()\n",
    "\n",
    "model.add(Embedding(input_dim=num_words, \n",
    "                    output_dim=embedding_size, \n",
    "                    input_length=max_tokens,\n",
    "                    name=\"embedding_layer\"))\n",
    "\n",
    "model.add(GRU(units=48, return_sequences=True))\n",
    "model.add(GRU(units=24, return_sequences=True)) \n",
    "model.add(GRU(units=12))\n",
    "model.add(Dense(3, activation='softmax'))\n",
    "\n",
    "# Compile\n",
    "optimizer = Adam(learning_rate=0.006)\n",
    "model.compile(loss='categorical_crossentropy', optimizer=optimizer, metrics=['Recall'])\n",
    "\n",
    "model.summary()\n",
    "\n",
    "# fit and evaluate\n",
    "#[0, 1, -1]\n",
    "# 0 ist the 1st class, 1 is the 2nd class and -1 the 3rd class\n",
    "weights = {0:16, 1:1, 2:15}\n",
    "\n",
    "t0 = time()\n",
    "model.fit(X1_train, y1_train, \n",
    "          epochs=30, \n",
    "          batch_size=256, \n",
    "          class_weight=weights,\n",
    "          validation_data=(X1_test, y1_test), \n",
    "          callbacks=[early_stop])\n",
    "time_train = time() - t0\n",
    "\n",
    "results = model.evaluate(X1_test, y1_test)\n",
    "print(\"results:\", results)\n",
    "\n",
    "# prediction\n",
    "t1 = time()\n",
    "pred = model.predict(X1_test)\n",
    "time_predict = time() - t1  # records duration of predicting\n",
    "prediction = pred.argmax(axis=1)\n",
    "test_class = y1_test.argmax(axis=1)\n",
    "\n",
    "accuracy = results[1]\n",
    "# The balanced accuracy in binary and multiclass classification problems\n",
    "# to deal with imbalanced datasets.\n",
    "# It is defined as the average of recall obtained on each class.\n",
    "# The best value is 1 and the worst value is 0 when adjusted=False.\n",
    "balanced_accuracy = metrics.balanced_accuracy_score(test_class, prediction)\n",
    "\n",
    "#f1_score = metrics.f1_score(test_class, prediction)\n",
    "f1_score_macro = metrics.f1_score(test_class, prediction, average=\"macro\")\n",
    "f1_score_weighted = metrics.f1_score(test_class, prediction, average=\"weighted\")\n",
    "\n",
    "#recall = metrics.recall_score(test_class, prediction, pos_label=0)\n",
    "recall_macro = metrics.recall_score(test_class, prediction, average=\"macro\")\n",
    "recall_weighted = metrics.recall_score(test_class, prediction, average=\"weighted\")\n",
    "\n",
    "# precision is intuitively the ability of the classifier not to label as positive a sample that is negative.\n",
    "# we set pos_label=0 : that is negative rating (rating <=3)\n",
    "#precision = metrics.precision_score(test_class, prediction, pos_label=0)\n",
    "precision_macro = metrics.precision_score(test_class, prediction, average=\"macro\")\n",
    "precision_weighted = metrics.precision_score(test_class, prediction, average=\"weighted\")\n",
    "\n",
    "cl_report = metrics.classification_report(test_class, prediction)\n",
    "cf_matrix = pd.crosstab(test_class, prediction, rownames=[\"Real\"], colnames=[\"Prediction\"])\n",
    "\n",
    "# put metrics into a dictionnary and into a DataFrame\n",
    "res = {\n",
    "        \"model\": \"GRU_mcl0\",\n",
    "        \"accuracy\": accuracy,\n",
    "        \"balanced_accuracy\": balanced_accuracy,\n",
    "        #\"f1\": f1_score,\n",
    "        \"f1_macro\": f1_score_macro,\n",
    "        \"f1_weighted\": f1_score_weighted,\n",
    "        #\"recall_0\": recall,\n",
    "        \"recall_macro\": recall_macro,\n",
    "        \"recall_weighted\": recall_weighted,\n",
    "        #\"precision_0\": precision,\n",
    "        \"precision_macro\": precision_macro,\n",
    "        \"precision_weighted\": precision_weighted,\n",
    "        \"time_train\": time_train,\n",
    "        \"time_predict\": time_predict,\n",
    "    }\n",
    "\n",
    "# DataFrame of model's performance\n",
    "df_p_mcl0 = pd.DataFrame(res, index=[0])\n",
    "\n",
    "#save perf\n",
    "df_p_mcl0.to_csv(\"GRU_mcl0_perf.csv\")\n",
    "\n",
    "print(\" Training metrics -----------------------------------\")\n",
    "display(cf_matrix)\n",
    "print(\"-------------------------------------------------------\")\n",
    "print(cl_report)"
   ]
  },
  {
   "cell_type": "code",
   "execution_count": null,
   "id": "52faae2e",
   "metadata": {},
   "outputs": [
    {
     "name": "stdout",
     "output_type": "stream",
     "text": [
      "INFO:tensorflow:Assets written to: NLP_GRU_mcl0/assets\n"
     ]
    },
    {
     "name": "stderr",
     "output_type": "stream",
     "text": [
      "INFO:tensorflow:Assets written to: NLP_GRU_mcl0/assets\n"
     ]
    }
   ],
   "source": [
    "model.save(\"NLP_GRU_mcl0\")"
   ]
  },
  {
   "cell_type": "code",
   "execution_count": null,
   "id": "dd5bb1ca",
   "metadata": {},
   "outputs": [
    {
     "name": "stdout",
     "output_type": "stream",
     "text": [
      "Model: \"sequential_9\"\n",
      "_________________________________________________________________\n",
      " Layer (type)                Output Shape              Param #   \n",
      "=================================================================\n",
      " embedding_layer (Embedding  (None, 148, 100)          1000000   \n",
      " )                                                               \n",
      "                                                                 \n",
      " gru_25 (GRU)                (None, 148, 48)           21600     \n",
      "                                                                 \n",
      " dropout_1 (Dropout)         (None, 148, 48)           0         \n",
      "                                                                 \n",
      " gru_26 (GRU)                (None, 148, 24)           5328      \n",
      "                                                                 \n",
      " gru_27 (GRU)                (None, 12)                1368      \n",
      "                                                                 \n",
      " dense_8 (Dense)             (None, 3)                 39        \n",
      "                                                                 \n",
      "=================================================================\n",
      "Total params: 1028335 (3.92 MB)\n",
      "Trainable params: 1028335 (3.92 MB)\n",
      "Non-trainable params: 0 (0.00 Byte)\n",
      "_________________________________________________________________\n",
      "Epoch 1/30\n",
      "73/73 [==============================] - 35s 389ms/step - loss: 2.1332 - accuracy: 0.7786 - val_loss: 0.4625 - val_accuracy: 0.8194\n",
      "Epoch 2/30\n",
      "73/73 [==============================] - 30s 410ms/step - loss: 1.4989 - accuracy: 0.8568 - val_loss: 0.3866 - val_accuracy: 0.8522\n",
      "Epoch 3/30\n",
      "73/73 [==============================] - 30s 412ms/step - loss: 1.0684 - accuracy: 0.8893 - val_loss: 0.4450 - val_accuracy: 0.8357\n",
      "Epoch 4/30\n",
      "73/73 [==============================] - 25s 350ms/step - loss: 0.7441 - accuracy: 0.9131 - val_loss: 0.4502 - val_accuracy: 0.8578\n",
      "Epoch 5/30\n",
      "73/73 [==============================] - 28s 382ms/step - loss: 0.5579 - accuracy: 0.9266 - val_loss: 0.4161 - val_accuracy: 0.8698\n",
      "Epoch 6/30\n",
      "73/73 [==============================] - 25s 349ms/step - loss: 0.4572 - accuracy: 0.9360 - val_loss: 0.4454 - val_accuracy: 0.8695\n",
      "Epoch 7/30\n",
      "73/73 [==============================] - 26s 355ms/step - loss: 0.3909 - accuracy: 0.9455 - val_loss: 0.4234 - val_accuracy: 0.8772\n",
      "Epoch 8/30\n",
      "73/73 [==============================] - 26s 351ms/step - loss: 0.3263 - accuracy: 0.9547 - val_loss: 0.4982 - val_accuracy: 0.8815\n",
      "Epoch 9/30\n",
      "73/73 [==============================] - 24s 328ms/step - loss: 0.2856 - accuracy: 0.9615 - val_loss: 0.5032 - val_accuracy: 0.8762\n",
      "Epoch 10/30\n",
      "73/73 [==============================] - 27s 366ms/step - loss: 0.2435 - accuracy: 0.9666 - val_loss: 0.5039 - val_accuracy: 0.8828\n",
      "Epoch 11/30\n",
      "73/73 [==============================] - 25s 342ms/step - loss: 0.2459 - accuracy: 0.9683 - val_loss: 0.5073 - val_accuracy: 0.8779\n",
      "Epoch 12/30\n",
      "73/73 [==============================] - ETA: 0s - loss: 0.2839 - accuracy: 0.9631Restoring model weights from the end of the best epoch: 2.\n",
      "73/73 [==============================] - 23s 320ms/step - loss: 0.2839 - accuracy: 0.9631 - val_loss: 0.5074 - val_accuracy: 0.8785\n",
      "Epoch 12: early stopping\n",
      "146/146 [==============================] - 3s 24ms/step - loss: 0.3866 - accuracy: 0.8522\n",
      "results: [0.38663774728775024, 0.852185070514679]\n",
      "146/146 [==============================] - 5s 25ms/step\n",
      " Training metrics -----------------------------------\n"
     ]
    },
    {
     "data": {
      "text/html": [
       "<div>\n",
       "<style scoped>\n",
       "    .dataframe tbody tr th:only-of-type {\n",
       "        vertical-align: middle;\n",
       "    }\n",
       "\n",
       "    .dataframe tbody tr th {\n",
       "        vertical-align: top;\n",
       "    }\n",
       "\n",
       "    .dataframe thead th {\n",
       "        text-align: right;\n",
       "    }\n",
       "</style>\n",
       "<table border=\"1\" class=\"dataframe\">\n",
       "  <thead>\n",
       "    <tr style=\"text-align: right;\">\n",
       "      <th>Prediction</th>\n",
       "      <th>0</th>\n",
       "      <th>1</th>\n",
       "      <th>2</th>\n",
       "    </tr>\n",
       "    <tr>\n",
       "      <th>Real</th>\n",
       "      <th></th>\n",
       "      <th></th>\n",
       "      <th></th>\n",
       "    </tr>\n",
       "  </thead>\n",
       "  <tbody>\n",
       "    <tr>\n",
       "      <th>0</th>\n",
       "      <td>120</td>\n",
       "      <td>53</td>\n",
       "      <td>73</td>\n",
       "    </tr>\n",
       "    <tr>\n",
       "      <th>1</th>\n",
       "      <td>313</td>\n",
       "      <td>3683</td>\n",
       "      <td>132</td>\n",
       "    </tr>\n",
       "    <tr>\n",
       "      <th>2</th>\n",
       "      <td>99</td>\n",
       "      <td>20</td>\n",
       "      <td>175</td>\n",
       "    </tr>\n",
       "  </tbody>\n",
       "</table>\n",
       "</div>"
      ],
      "text/plain": [
       "Prediction    0     1    2\n",
       "Real                      \n",
       "0           120    53   73\n",
       "1           313  3683  132\n",
       "2            99    20  175"
      ]
     },
     "metadata": {},
     "output_type": "display_data"
    },
    {
     "name": "stdout",
     "output_type": "stream",
     "text": [
      "-------------------------------------------------------\n",
      "              precision    recall  f1-score   support\n",
      "\n",
      "           0       0.23      0.49      0.31       246\n",
      "           1       0.98      0.89      0.93      4128\n",
      "           2       0.46      0.60      0.52       294\n",
      "\n",
      "    accuracy                           0.85      4668\n",
      "   macro avg       0.56      0.66      0.59      4668\n",
      "weighted avg       0.91      0.85      0.88      4668\n",
      "\n"
     ]
    }
   ],
   "source": [
    "# model GRU_mcl1 wih metric = Accuracy\n",
    "embedding_size = 100\n",
    "gru_mcl1 = Sequential()\n",
    "\n",
    "gru_mcl1.add(Embedding(input_dim=num_words, \n",
    "                    output_dim=embedding_size, \n",
    "                    input_length=max_tokens,\n",
    "                    name=\"embedding_layer\"))\n",
    "\n",
    "gru_mcl1.add(GRU(units=48, return_sequences=True))\n",
    "gru_mcl1.add(Dropout(0.5))\n",
    "gru_mcl1.add(GRU(units=24, return_sequences=True)) \n",
    "gru_mcl1.add(GRU(units=12))\n",
    "gru_mcl1.add(Dense(3, activation='softmax'))\n",
    "\n",
    "# Compile\n",
    "optimizer = Adam(learning_rate=0.006)\n",
    "gru_mcl1.compile(loss='categorical_crossentropy', optimizer=optimizer, metrics=['accuracy'])\n",
    "\n",
    "gru_mcl1.summary()\n",
    "\n",
    "# fit and evaluate\n",
    "#[0, 1, -1]\n",
    "# 0 ist the 1st class, 1 is the 2nd class and -1 the 3rd class\n",
    "weights = {0:16, 1:1, 2:15}\n",
    "\n",
    "t0 = time()\n",
    "gru_mcl1.fit(X1_train, y1_train, \n",
    "          epochs=30, \n",
    "          batch_size=256, \n",
    "          class_weight=weights,\n",
    "          validation_data=(X1_test, y1_test), \n",
    "          callbacks=[early_stop])\n",
    "time_train = time() - t0\n",
    "\n",
    "results = gru_mcl1.evaluate(X1_test, y1_test)\n",
    "print(\"results:\", results)\n",
    "\n",
    "# prediction\n",
    "t1 = time()\n",
    "pred = gru_mcl1.predict(X1_test)\n",
    "time_predict = time() - t1  # records duration of predicting\n",
    "prediction = pred.argmax(axis=1)\n",
    "test_class = y1_test.argmax(axis=1)\n",
    "\n",
    "accuracy = results[1]\n",
    "# The balanced accuracy in binary and multiclass classification problems\n",
    "# to deal with imbalanced datasets.\n",
    "# It is defined as the average of recall obtained on each class.\n",
    "# The best value is 1 and the worst value is 0 when adjusted=False.\n",
    "balanced_accuracy = metrics.balanced_accuracy_score(test_class, prediction)\n",
    "\n",
    "#f1_score = metrics.f1_score(test_class, prediction)\n",
    "f1_score_macro = metrics.f1_score(test_class, prediction, average=\"macro\")\n",
    "f1_score_weighted = metrics.f1_score(test_class, prediction, average=\"weighted\")\n",
    "\n",
    "#recall = metrics.recall_score(test_class, prediction, pos_label=0)\n",
    "recall_macro = metrics.recall_score(test_class, prediction, average=\"macro\")\n",
    "recall_weighted = metrics.recall_score(test_class, prediction, average=\"weighted\")\n",
    "\n",
    "# precision is intuitively the ability of the classifier not to label as positive a sample that is negative.\n",
    "# we set pos_label=0 : that is negative rating (rating <=3)\n",
    "#precision = metrics.precision_score(test_class, prediction, pos_label=0)\n",
    "precision_macro = metrics.precision_score(test_class, prediction, average=\"macro\")\n",
    "precision_weighted = metrics.precision_score(test_class, prediction, average=\"weighted\")\n",
    "\n",
    "cl_report = metrics.classification_report(test_class, prediction)\n",
    "cf_matrix = pd.crosstab(test_class, prediction, rownames=[\"Real\"], colnames=[\"Prediction\"])\n",
    "\n",
    "# put metrics into a dictionnary and into a DataFrame\n",
    "res = {\n",
    "        \"model\": \"GRU_mcl1\",\n",
    "        \"accuracy\": accuracy,\n",
    "        \"balanced_accuracy\": balanced_accuracy,\n",
    "        #\"f1\": f1_score,\n",
    "        \"f1_macro\": f1_score_macro,\n",
    "        \"f1_weighted\": f1_score_weighted,\n",
    "        #\"recall_0\": recall,\n",
    "        \"recall_macro\": recall_macro,\n",
    "        \"recall_weighted\": recall_weighted,\n",
    "        #\"precision_0\": precision,\n",
    "        \"precision_macro\": precision_macro,\n",
    "        \"precision_weighted\": precision_weighted,\n",
    "        \"time_train\": time_train,\n",
    "        \"time_predict\": time_predict,\n",
    "    }\n",
    "\n",
    "# DataFrame of model's performance\n",
    "df_p_mcl1 = pd.DataFrame(res, index=[0])\n",
    "\n",
    "#save perf\n",
    "df_p_mcl1.to_csv(\"GRU_mcl1_perf.csv\")\n",
    "\n",
    "print(\" Training metrics -----------------------------------\")\n",
    "display(cf_matrix)\n",
    "print(\"-------------------------------------------------------\")\n",
    "print(cl_report)"
   ]
  },
  {
   "cell_type": "code",
   "execution_count": null,
   "id": "fd564e71",
   "metadata": {},
   "outputs": [
    {
     "name": "stdout",
     "output_type": "stream",
     "text": [
      "INFO:tensorflow:Assets written to: NLP_GRU_mcl1/assets\n"
     ]
    },
    {
     "name": "stderr",
     "output_type": "stream",
     "text": [
      "INFO:tensorflow:Assets written to: NLP_GRU_mcl1/assets\n"
     ]
    }
   ],
   "source": [
    "gru_mcl1.save(\"NLP_GRU_mcl1\")\n"
   ]
  },
  {
   "cell_type": "code",
   "execution_count": null,
   "id": "4b0ab952",
   "metadata": {},
   "outputs": [
    {
     "name": "stdout",
     "output_type": "stream",
     "text": [
      "Model: \"sequential_14\"\n",
      "_________________________________________________________________\n",
      " Layer (type)                Output Shape              Param #   \n",
      "=================================================================\n",
      " embedding_layer (Embedding  (None, 148, 100)          1000000   \n",
      " )                                                               \n",
      "                                                                 \n",
      " gru_44 (GRU)                (None, 148, 48)           21600     \n",
      "                                                                 \n",
      " dropout_10 (Dropout)        (None, 148, 48)           0         \n",
      "                                                                 \n",
      " gru_45 (GRU)                (None, 148, 24)           5328      \n",
      "                                                                 \n",
      " dropout_11 (Dropout)        (None, 148, 24)           0         \n",
      "                                                                 \n",
      " gru_46 (GRU)                (None, 16)                2016      \n",
      "                                                                 \n",
      " dense_9 (Dense)             (None, 3)                 51        \n",
      "                                                                 \n",
      "=================================================================\n",
      "Total params: 1028995 (3.93 MB)\n",
      "Trainable params: 1028995 (3.93 MB)\n",
      "Non-trainable params: 0 (0.00 Byte)\n",
      "_________________________________________________________________\n",
      "Epoch 1/30\n",
      "73/73 [==============================] - 36s 389ms/step - loss: 2.1763 - accuracy: 0.7637 - val_loss: 0.5242 - val_accuracy: 0.8023\n",
      "Epoch 2/30\n",
      "73/73 [==============================] - 29s 396ms/step - loss: 1.6290 - accuracy: 0.8454 - val_loss: 0.3789 - val_accuracy: 0.8573\n",
      "Epoch 3/30\n",
      "73/73 [==============================] - 33s 456ms/step - loss: 1.2865 - accuracy: 0.8732 - val_loss: 0.5809 - val_accuracy: 0.7667\n",
      "Epoch 4/30\n",
      "73/73 [==============================] - 35s 477ms/step - loss: 0.9342 - accuracy: 0.8912 - val_loss: 0.3940 - val_accuracy: 0.8560\n",
      "Epoch 5/30\n",
      "73/73 [==============================] - 29s 404ms/step - loss: 0.6941 - accuracy: 0.9173 - val_loss: 0.4546 - val_accuracy: 0.8496\n",
      "Epoch 6/30\n",
      "73/73 [==============================] - 29s 391ms/step - loss: 0.6132 - accuracy: 0.9215 - val_loss: 0.6512 - val_accuracy: 0.7967\n",
      "Epoch 7/30\n",
      "73/73 [==============================] - 32s 437ms/step - loss: 0.5995 - accuracy: 0.9246 - val_loss: 0.4270 - val_accuracy: 0.8623\n",
      "Epoch 8/30\n",
      "73/73 [==============================] - 32s 445ms/step - loss: 0.5356 - accuracy: 0.9359 - val_loss: 0.5540 - val_accuracy: 0.8383\n",
      "Epoch 9/30\n",
      "73/73 [==============================] - 32s 438ms/step - loss: 0.4612 - accuracy: 0.9368 - val_loss: 0.5058 - val_accuracy: 0.8586\n",
      "Epoch 10/30\n",
      "73/73 [==============================] - 31s 419ms/step - loss: 0.4687 - accuracy: 0.9412 - val_loss: 0.5528 - val_accuracy: 0.8447\n",
      "Epoch 11/30\n",
      "73/73 [==============================] - 28s 390ms/step - loss: 0.4550 - accuracy: 0.9398 - val_loss: 0.4639 - val_accuracy: 0.8670\n",
      "Epoch 12/30\n",
      "73/73 [==============================] - ETA: 0s - loss: 0.3961 - accuracy: 0.9478Restoring model weights from the end of the best epoch: 2.\n",
      "73/73 [==============================] - 28s 377ms/step - loss: 0.3961 - accuracy: 0.9478 - val_loss: 0.5610 - val_accuracy: 0.8490\n",
      "Epoch 12: early stopping\n",
      "146/146 [==============================] - 4s 26ms/step - loss: 0.3789 - accuracy: 0.8573\n",
      "results: [0.3788951337337494, 0.8573265075683594]\n",
      "146/146 [==============================] - 5s 26ms/step\n",
      " Training metrics -----------------------------------\n"
     ]
    },
    {
     "data": {
      "text/html": [
       "<div>\n",
       "<style scoped>\n",
       "    .dataframe tbody tr th:only-of-type {\n",
       "        vertical-align: middle;\n",
       "    }\n",
       "\n",
       "    .dataframe tbody tr th {\n",
       "        vertical-align: top;\n",
       "    }\n",
       "\n",
       "    .dataframe thead th {\n",
       "        text-align: right;\n",
       "    }\n",
       "</style>\n",
       "<table border=\"1\" class=\"dataframe\">\n",
       "  <thead>\n",
       "    <tr style=\"text-align: right;\">\n",
       "      <th>Prediction</th>\n",
       "      <th>0</th>\n",
       "      <th>1</th>\n",
       "      <th>2</th>\n",
       "    </tr>\n",
       "    <tr>\n",
       "      <th>Real</th>\n",
       "      <th></th>\n",
       "      <th></th>\n",
       "      <th></th>\n",
       "    </tr>\n",
       "  </thead>\n",
       "  <tbody>\n",
       "    <tr>\n",
       "      <th>0</th>\n",
       "      <td>81</td>\n",
       "      <td>57</td>\n",
       "      <td>108</td>\n",
       "    </tr>\n",
       "    <tr>\n",
       "      <th>1</th>\n",
       "      <td>205</td>\n",
       "      <td>3722</td>\n",
       "      <td>201</td>\n",
       "    </tr>\n",
       "    <tr>\n",
       "      <th>2</th>\n",
       "      <td>74</td>\n",
       "      <td>21</td>\n",
       "      <td>199</td>\n",
       "    </tr>\n",
       "  </tbody>\n",
       "</table>\n",
       "</div>"
      ],
      "text/plain": [
       "Prediction    0     1    2\n",
       "Real                      \n",
       "0            81    57  108\n",
       "1           205  3722  201\n",
       "2            74    21  199"
      ]
     },
     "metadata": {},
     "output_type": "display_data"
    },
    {
     "name": "stdout",
     "output_type": "stream",
     "text": [
      "-------------------------------------------------------\n",
      "              precision    recall  f1-score   support\n",
      "\n",
      "           0       0.23      0.33      0.27       246\n",
      "           1       0.98      0.90      0.94      4128\n",
      "           2       0.39      0.68      0.50       294\n",
      "\n",
      "    accuracy                           0.86      4668\n",
      "   macro avg       0.53      0.64      0.57      4668\n",
      "weighted avg       0.90      0.86      0.88      4668\n",
      "\n"
     ]
    }
   ],
   "source": [
    "# model gru_mcl2 wih metric = Accuracy and 2 Dropout\n",
    "embedding_size = 100\n",
    "gru_mcl2 = Sequential()\n",
    "\n",
    "gru_mcl2.add(Embedding(input_dim=num_words, \n",
    "                    output_dim=embedding_size, \n",
    "                    input_length=max_tokens,\n",
    "                    name=\"embedding_layer\"))\n",
    "\n",
    "gru_mcl2.add(GRU(units=48, return_sequences=True))\n",
    "gru_mcl2.add(Dropout(0.5))\n",
    "gru_mcl2.add(GRU(units=24, return_sequences=True)) \n",
    "gru_mcl2.add(Dropout(0.2))\n",
    "gru_mcl2.add(GRU(units=16))\n",
    "gru_mcl2.add(Dense(3, activation='softmax'))\n",
    "\n",
    "# Compile\n",
    "optimizer = Adam(learning_rate=0.01)\n",
    "gru_mcl2.compile(loss='categorical_crossentropy', optimizer=optimizer, metrics=['accuracy'])\n",
    "\n",
    "gru_mcl2.summary()\n",
    "\n",
    "# fit and evaluate\n",
    "#[0, 1, -1]\n",
    "# 0 ist the 1st class, 1 is the 2nd class and -1 the 3rd class\n",
    "weights = {0:16, 1:1, 2:15}\n",
    "\n",
    "t0 = time()\n",
    "gru_mcl2.fit(X1_train, y1_train, \n",
    "          epochs=30, \n",
    "          batch_size=256, \n",
    "          class_weight=weights,\n",
    "          validation_data=(X1_test, y1_test), \n",
    "          callbacks=[early_stop])\n",
    "time_train = time() - t0\n",
    "\n",
    "results = gru_mcl2.evaluate(X1_test, y1_test)\n",
    "print(\"results:\", results)\n",
    "\n",
    "# prediction\n",
    "t1 = time()\n",
    "pred = gru_mcl2.predict(X1_test)\n",
    "time_predict = time() - t1  # records duration of predicting\n",
    "prediction = pred.argmax(axis=1)\n",
    "test_class = y1_test.argmax(axis=1)\n",
    "\n",
    "accuracy = results[1]\n",
    "# The balanced accuracy in binary and multiclass classification problems\n",
    "# to deal with imbalanced datasets.\n",
    "# It is defined as the average of recall obtained on each class.\n",
    "# The best value is 1 and the worst value is 0 when adjusted=False.\n",
    "balanced_accuracy = metrics.balanced_accuracy_score(test_class, prediction)\n",
    "\n",
    "#f1_score = metrics.f1_score(test_class, prediction)\n",
    "f1_score_macro = metrics.f1_score(test_class, prediction, average=\"macro\")\n",
    "f1_score_weighted = metrics.f1_score(test_class, prediction, average=\"weighted\")\n",
    "\n",
    "#recall = metrics.recall_score(test_class, prediction, pos_label=0)\n",
    "recall_macro = metrics.recall_score(test_class, prediction, average=\"macro\")\n",
    "recall_weighted = metrics.recall_score(test_class, prediction, average=\"weighted\")\n",
    "\n",
    "# precision is intuitively the ability of the classifier not to label as positive a sample that is negative.\n",
    "# we set pos_label=0 : that is negative rating (rating <=3)\n",
    "#precision = metrics.precision_score(test_class, prediction, pos_label=0)\n",
    "precision_macro = metrics.precision_score(test_class, prediction, average=\"macro\")\n",
    "precision_weighted = metrics.precision_score(test_class, prediction, average=\"weighted\")\n",
    "\n",
    "cl_report = metrics.classification_report(test_class, prediction)\n",
    "cf_matrix = pd.crosstab(test_class, prediction, rownames=[\"Real\"], colnames=[\"Prediction\"])\n",
    "\n",
    "# put metrics into a dictionnary and into a DataFrame\n",
    "res = {\n",
    "        \"model\": \"gru_mcl2\",\n",
    "        \"accuracy\": accuracy,\n",
    "        \"balanced_accuracy\": balanced_accuracy,\n",
    "        #\"f1\": f1_score,\n",
    "        \"f1_macro\": f1_score_macro,\n",
    "        \"f1_weighted\": f1_score_weighted,\n",
    "        #\"recall_0\": recall,\n",
    "        \"recall_macro\": recall_macro,\n",
    "        \"recall_weighted\": recall_weighted,\n",
    "        #\"precision_0\": precision,\n",
    "        \"precision_macro\": precision_macro,\n",
    "        \"precision_weighted\": precision_weighted,\n",
    "        \"time_train\": time_train,\n",
    "        \"time_predict\": time_predict,\n",
    "    }\n",
    "\n",
    "# DataFrame of model's performance\n",
    "df_p_mcl2 = pd.DataFrame(res, index=[0])\n",
    "\n",
    "#save perf\n",
    "df_p_mcl2.to_csv(\"gru_mcl2_perf.csv\")\n",
    "\n",
    "print(\" Training metrics -----------------------------------\")\n",
    "display(cf_matrix)\n",
    "print(\"-------------------------------------------------------\")\n",
    "print(cl_report)"
   ]
  }
 ],
 "metadata": {
  "kernelspec": {
   "display_name": "Python 3 (ipykernel)",
   "language": "python",
   "name": "python3"
  },
  "language_info": {
   "codemirror_mode": {
    "name": "ipython",
    "version": 3
   },
   "file_extension": ".py",
   "mimetype": "text/x-python",
   "name": "python",
   "nbconvert_exporter": "python",
   "pygments_lexer": "ipython3",
   "version": "3.11.5"
  },
  "widgets": {
   "application/vnd.jupyter.widget-state+json": {
    "state": {},
    "version_major": 2,
    "version_minor": 0
   }
  }
 },
 "nbformat": 4,
 "nbformat_minor": 5
}
